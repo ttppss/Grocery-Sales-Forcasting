{
 "cells": [
  {
   "cell_type": "code",
   "execution_count": 1,
   "metadata": {
    "collapsed": true
   },
   "outputs": [],
   "source": [
    "import pandas as pd\n",
    "import numpy as np\n",
    "import seaborn as sns\n",
    "import matplotlib.pyplot as plt\n",
    "%matplotlib inline\n",
    "import findspark\n",
    "findspark.init()\n",
    "import pyspark\n",
    "from pyspark.sql import SparkSession\n",
    "spark = SparkSession.builder.appName(\"SalesPrediction1026\").getOrCreate()"
   ]
  },
  {
   "cell_type": "code",
   "execution_count": 2,
   "metadata": {
    "collapsed": true
   },
   "outputs": [],
   "source": [
    "from pyspark.sql.functions import lit\n",
    "from pyspark.sql import functions"
   ]
  },
  {
   "cell_type": "code",
   "execution_count": 4,
   "metadata": {
    "collapsed": true
   },
   "outputs": [],
   "source": [
    "holidays_events = spark.read.csv(\"../holidays_events.csv\", header=True, inferSchema=True)\n",
    "items = spark.read.csv(\"../items.csv\", header=True, inferSchema=True)\n",
    "#oil = spark.read.csv(\"../oil.csv\", header=True, inferSchema=True)\n",
    "stores = spark.read.csv(\"../stores.csv\", header=True, inferSchema=True)\n",
    "test = spark.read.csv(\"../test.csv\", header=True, inferSchema=True)\n",
    "train = spark.read.csv(\"../train.csv\", header=True, inferSchema=True)\n",
    "#train_sample = train.sample(False, 0.05, 1)\n",
    "transactions = spark.read.csv(\"../transactions.csv\", header=True, inferSchema=True)"
   ]
  },
  {
   "cell_type": "code",
   "execution_count": 5,
   "metadata": {
    "collapsed": true
   },
   "outputs": [],
   "source": [
    "#deal with oil dataframe in pandas with backfill, then transform it to spark dataframe\n",
    "#oil_pandas = pd.read_csv(\"../oil.csv\")"
   ]
  },
  {
   "cell_type": "code",
   "execution_count": 6,
   "metadata": {
    "collapsed": true
   },
   "outputs": [],
   "source": [
    "#spark.sql(\"\"\"SET spark.sql.autoBroadcastJoinThreshold = -1\"\"\")\n",
    "spark.conf.set(\"spark.sql.autoBroadcastJoinThreshold\", -1)"
   ]
  },
  {
   "cell_type": "code",
   "execution_count": 11,
   "metadata": {},
   "outputs": [
    {
     "name": "stdout",
     "output_type": "stream",
     "text": [
      "+---+-------------------+---------+--------+-----------+------+\n",
      "| id|               date|store_nbr|item_nbr|onpromotion|source|\n",
      "+---+-------------------+---------+--------+-----------+------+\n",
      "|  0|2013-01-01 00:00:00|       25|  103665|       null| train|\n",
      "|  1|2013-01-01 00:00:00|       25|  105574|       null| train|\n",
      "|  2|2013-01-01 00:00:00|       25|  105575|       null| train|\n",
      "|  3|2013-01-01 00:00:00|       25|  108079|       null| train|\n",
      "|  4|2013-01-01 00:00:00|       25|  108701|       null| train|\n",
      "|  5|2013-01-01 00:00:00|       25|  108786|       null| train|\n",
      "|  6|2013-01-01 00:00:00|       25|  108797|       null| train|\n",
      "|  7|2013-01-01 00:00:00|       25|  108952|       null| train|\n",
      "|  8|2013-01-01 00:00:00|       25|  111397|       null| train|\n",
      "|  9|2013-01-01 00:00:00|       25|  114790|       null| train|\n",
      "| 10|2013-01-01 00:00:00|       25|  114800|       null| train|\n",
      "| 11|2013-01-01 00:00:00|       25|  115267|       null| train|\n",
      "| 12|2013-01-01 00:00:00|       25|  115611|       null| train|\n",
      "| 13|2013-01-01 00:00:00|       25|  115693|       null| train|\n",
      "| 14|2013-01-01 00:00:00|       25|  115720|       null| train|\n",
      "| 15|2013-01-01 00:00:00|       25|  115850|       null| train|\n",
      "| 16|2013-01-01 00:00:00|       25|  115891|       null| train|\n",
      "| 17|2013-01-01 00:00:00|       25|  115892|       null| train|\n",
      "| 18|2013-01-01 00:00:00|       25|  115894|       null| train|\n",
      "| 19|2013-01-01 00:00:00|       25|  119024|       null| train|\n",
      "+---+-------------------+---------+--------+-----------+------+\n",
      "only showing top 20 rows\n",
      "\n"
     ]
    }
   ],
   "source": [
    "#combine test set and train set together\n",
    "#add 'source' column to both train and test set so we can separate them after data cleaning\n",
    "train = train.withColumn('source', lit('train'))\n",
    "test = test.withColumn('source', lit('test'))\n",
    "train_without_target = train.select(\"id\", 'date', 'store_nbr', 'item_nbr', 'onpromotion', 'source')\n",
    "#use .union() to add them together\n",
    "train_test_set = train_without_target.union(test)\n",
    "train_test_set.show()"
   ]
  },
  {
   "cell_type": "markdown",
   "metadata": {},
   "source": [
    "## Join train and holiday_events dataframe"
   ]
  },
  {
   "cell_type": "code",
   "execution_count": 12,
   "metadata": {
    "scrolled": false
   },
   "outputs": [
    {
     "name": "stdout",
     "output_type": "stream",
     "text": [
      "+-------------------+-------+---------+--------+-----------+------+----+------+-----------+-----------+-----------+\n",
      "|               date|     id|store_nbr|item_nbr|onpromotion|source|type|locale|locale_name|description|transferred|\n",
      "+-------------------+-------+---------+--------+-----------+------+----+------+-----------+-----------+-----------+\n",
      "|2013-05-06 00:00:00|5202345|        1|  103520|       null| train|null|  null|       null|       null|       null|\n",
      "|2013-05-06 00:00:00|5202346|        1|  105574|       null| train|null|  null|       null|       null|       null|\n",
      "+-------------------+-------+---------+--------+-----------+------+----+------+-----------+-----------+-----------+\n",
      "only showing top 2 rows\n",
      "\n"
     ]
    }
   ],
   "source": [
    "train_holiday = train_test_set.join(holidays_events, 'date', 'left_outer')\n",
    "train_holiday.show(2)"
   ]
  },
  {
   "cell_type": "code",
   "execution_count": 13,
   "metadata": {},
   "outputs": [
    {
     "data": {
      "text/plain": [
       "DataFrame[id: int, date: timestamp, store_nbr: int, item_nbr: int, onpromotion: boolean, source: string]"
      ]
     },
     "execution_count": 13,
     "metadata": {},
     "output_type": "execute_result"
    }
   ],
   "source": [
    "train_test_set.unpersist()"
   ]
  },
  {
   "cell_type": "markdown",
   "metadata": {},
   "source": [
    "## Clean Oil Dataframe"
   ]
  },
  {
   "cell_type": "code",
   "execution_count": 7,
   "metadata": {},
   "outputs": [
    {
     "data": {
      "text/html": [
       "<div>\n",
       "<style>\n",
       "    .dataframe thead tr:only-child th {\n",
       "        text-align: right;\n",
       "    }\n",
       "\n",
       "    .dataframe thead th {\n",
       "        text-align: left;\n",
       "    }\n",
       "\n",
       "    .dataframe tbody tr th {\n",
       "        vertical-align: top;\n",
       "    }\n",
       "</style>\n",
       "<table border=\"1\" class=\"dataframe\">\n",
       "  <thead>\n",
       "    <tr style=\"text-align: right;\">\n",
       "      <th></th>\n",
       "      <th>date</th>\n",
       "      <th>dcoilwtico</th>\n",
       "    </tr>\n",
       "  </thead>\n",
       "  <tbody>\n",
       "    <tr>\n",
       "      <th>0</th>\n",
       "      <td>2013-01-01</td>\n",
       "      <td>93.14</td>\n",
       "    </tr>\n",
       "    <tr>\n",
       "      <th>1</th>\n",
       "      <td>2013-01-02</td>\n",
       "      <td>93.14</td>\n",
       "    </tr>\n",
       "    <tr>\n",
       "      <th>2</th>\n",
       "      <td>2013-01-03</td>\n",
       "      <td>92.97</td>\n",
       "    </tr>\n",
       "    <tr>\n",
       "      <th>3</th>\n",
       "      <td>2013-01-04</td>\n",
       "      <td>93.12</td>\n",
       "    </tr>\n",
       "    <tr>\n",
       "      <th>4</th>\n",
       "      <td>2013-01-07</td>\n",
       "      <td>93.20</td>\n",
       "    </tr>\n",
       "  </tbody>\n",
       "</table>\n",
       "</div>"
      ],
      "text/plain": [
       "         date  dcoilwtico\n",
       "0  2013-01-01       93.14\n",
       "1  2013-01-02       93.14\n",
       "2  2013-01-03       92.97\n",
       "3  2013-01-04       93.12\n",
       "4  2013-01-07       93.20"
      ]
     },
     "execution_count": 7,
     "metadata": {},
     "output_type": "execute_result"
    }
   ],
   "source": [
    "# oil_pandas = oil_pandas.fillna(method='bfill')\n",
    "# oil_pandas = oil_pandas.fillna(method='ffill')\n",
    "# oil_pandas.head()"
   ]
  },
  {
   "cell_type": "code",
   "execution_count": 8,
   "metadata": {},
   "outputs": [
    {
     "data": {
      "text/plain": [
       "date          0\n",
       "dcoilwtico    0\n",
       "dtype: int64"
      ]
     },
     "execution_count": 8,
     "metadata": {},
     "output_type": "execute_result"
    }
   ],
   "source": [
    "# oil_pandas.isnull().sum()"
   ]
  },
  {
   "cell_type": "markdown",
   "metadata": {},
   "source": [
    "## Transform pandas dataframe back to spark dataframe"
   ]
  },
  {
   "cell_type": "code",
   "execution_count": 9,
   "metadata": {},
   "outputs": [
    {
     "name": "stdout",
     "output_type": "stream",
     "text": [
      "+----------+----------+\n",
      "|      date|dcoilwtico|\n",
      "+----------+----------+\n",
      "|2013-01-01|     93.14|\n",
      "|2013-01-02|     93.14|\n",
      "|2013-01-03|     92.97|\n",
      "|2013-01-04|     93.12|\n",
      "|2013-01-07|      93.2|\n",
      "|2013-01-08|     93.21|\n",
      "|2013-01-09|     93.08|\n",
      "|2013-01-10|     93.81|\n",
      "|2013-01-11|      93.6|\n",
      "|2013-01-14|     94.27|\n",
      "|2013-01-15|     93.26|\n",
      "|2013-01-16|     94.28|\n",
      "|2013-01-17|     95.49|\n",
      "|2013-01-18|     95.61|\n",
      "|2013-01-21|     96.09|\n",
      "|2013-01-22|     96.09|\n",
      "|2013-01-23|     95.06|\n",
      "|2013-01-24|     95.35|\n",
      "|2013-01-25|     95.15|\n",
      "|2013-01-28|     95.95|\n",
      "+----------+----------+\n",
      "only showing top 20 rows\n",
      "\n"
     ]
    }
   ],
   "source": [
    "# oil_spark = spark.createDataFrame(oil_pandas)\n",
    "# oil_spark.show()"
   ]
  },
  {
   "cell_type": "code",
   "execution_count": 10,
   "metadata": {},
   "outputs": [
    {
     "data": {
      "text/plain": [
       "[('date', 'string'), ('dcoilwtico', 'double')]"
      ]
     },
     "execution_count": 10,
     "metadata": {},
     "output_type": "execute_result"
    }
   ],
   "source": [
    "# oil_spark.dtypes"
   ]
  },
  {
   "cell_type": "code",
   "execution_count": 12,
   "metadata": {},
   "outputs": [
    {
     "name": "stdout",
     "output_type": "stream",
     "text": [
      "+-------------------+-------+---------+--------+-----------+------+----+------+-----------+-----------+-----------+----------+\n",
      "|               date|     id|store_nbr|item_nbr|onpromotion|source|type|locale|locale_name|description|transferred|dcoilwtico|\n",
      "+-------------------+-------+---------+--------+-----------+------+----+------+-----------+-----------+-----------+----------+\n",
      "|2013-05-06 00:00:00|5202345|        1|  103520|       null| train|null|  null|       null|       null|       null|      95.8|\n",
      "|2013-05-06 00:00:00|5202346|        1|  105574|       null| train|null|  null|       null|       null|       null|      95.8|\n",
      "|2013-05-06 00:00:00|5202347|        1|  105575|       null| train|null|  null|       null|       null|       null|      95.8|\n",
      "|2013-05-06 00:00:00|5202348|        1|  105577|       null| train|null|  null|       null|       null|       null|      95.8|\n",
      "|2013-05-06 00:00:00|5202349|        1|  105693|       null| train|null|  null|       null|       null|       null|      95.8|\n",
      "|2013-05-06 00:00:00|5202350|        1|  105857|       null| train|null|  null|       null|       null|       null|      95.8|\n",
      "|2013-05-06 00:00:00|5202351|        1|  106716|       null| train|null|  null|       null|       null|       null|      95.8|\n",
      "|2013-05-06 00:00:00|5202352|        1|  108079|       null| train|null|  null|       null|       null|       null|      95.8|\n",
      "|2013-05-06 00:00:00|5202353|        1|  108696|       null| train|null|  null|       null|       null|       null|      95.8|\n",
      "|2013-05-06 00:00:00|5202354|        1|  108698|       null| train|null|  null|       null|       null|       null|      95.8|\n",
      "|2013-05-06 00:00:00|5202355|        1|  108701|       null| train|null|  null|       null|       null|       null|      95.8|\n",
      "|2013-05-06 00:00:00|5202356|        1|  108786|       null| train|null|  null|       null|       null|       null|      95.8|\n",
      "|2013-05-06 00:00:00|5202357|        1|  111223|       null| train|null|  null|       null|       null|       null|      95.8|\n",
      "|2013-05-06 00:00:00|5202358|        1|  111397|       null| train|null|  null|       null|       null|       null|      95.8|\n",
      "|2013-05-06 00:00:00|5202359|        1|  114778|       null| train|null|  null|       null|       null|       null|      95.8|\n",
      "|2013-05-06 00:00:00|5202360|        1|  114790|       null| train|null|  null|       null|       null|       null|      95.8|\n",
      "|2013-05-06 00:00:00|5202361|        1|  114799|       null| train|null|  null|       null|       null|       null|      95.8|\n",
      "|2013-05-06 00:00:00|5202362|        1|  114800|       null| train|null|  null|       null|       null|       null|      95.8|\n",
      "|2013-05-06 00:00:00|5202363|        1|  115267|       null| train|null|  null|       null|       null|       null|      95.8|\n",
      "|2013-05-06 00:00:00|5202364|        1|  115611|       null| train|null|  null|       null|       null|       null|      95.8|\n",
      "+-------------------+-------+---------+--------+-----------+------+----+------+-----------+-----------+-----------+----------+\n",
      "only showing top 20 rows\n",
      "\n"
     ]
    }
   ],
   "source": [
    "# train_holiday_oil = train_holiday.join(oil_spark, 'date', 'left_outer')\n",
    "# train_holiday_oil.show()"
   ]
  },
  {
   "cell_type": "code",
   "execution_count": 13,
   "metadata": {},
   "outputs": [
    {
     "data": {
      "text/plain": [
       "DataFrame[date: timestamp, id: int, store_nbr: int, item_nbr: int, onpromotion: boolean, source: string, type: string, locale: string, locale_name: string, description: string, transferred: boolean]"
      ]
     },
     "execution_count": 13,
     "metadata": {},
     "output_type": "execute_result"
    }
   ],
   "source": [
    "#train_holiday.unpersist()"
   ]
  },
  {
   "cell_type": "markdown",
   "metadata": {},
   "source": [
    "## Join train_holiday_oil with store"
   ]
  },
  {
   "cell_type": "markdown",
   "metadata": {},
   "source": [
    "### Rename store.type so it would not duplicate with holiday.type"
   ]
  },
  {
   "cell_type": "code",
   "execution_count": null,
   "metadata": {
    "scrolled": true
   },
   "outputs": [
    {
     "name": "stdout",
     "output_type": "stream",
     "text": [
      "+---------+-------------------+--------+--------+-----------+------+----+------+-----------+-----------+-----------+--------+--------+----------+-------+\n",
      "|store_nbr|               date|      id|item_nbr|onpromotion|source|type|locale|locale_name|description|transferred|    city|   state|store_type|cluster|\n",
      "+---------+-------------------+--------+--------+-----------+------+----+------+-----------+-----------+-----------+--------+--------+----------+-------+\n",
      "|       31|2013-05-06 00:00:00| 5226034|  103501|       null| train|null|  null|       null|       null|       null|Babahoyo|Los Rios|         B|     10|\n",
      "|       31|2014-01-30 00:00:00|18164509| 1464035|       null| train|null|  null|       null|       null|       null|Babahoyo|Los Rios|         B|     10|\n",
      "|       31|2013-05-06 00:00:00| 5226035|  103520|       null| train|null|  null|       null|       null|       null|Babahoyo|Los Rios|         B|     10|\n",
      "|       31|2014-01-30 00:00:00|18164510| 1464066|       null| train|null|  null|       null|       null|       null|Babahoyo|Los Rios|         B|     10|\n",
      "|       31|2013-05-06 00:00:00| 5226036|  103665|       null| train|null|  null|       null|       null|       null|Babahoyo|Los Rios|         B|     10|\n",
      "|       31|2014-01-30 00:00:00|18164511| 1464070|       null| train|null|  null|       null|       null|       null|Babahoyo|Los Rios|         B|     10|\n",
      "|       31|2013-05-06 00:00:00| 5226037|  105576|       null| train|null|  null|       null|       null|       null|Babahoyo|Los Rios|         B|     10|\n",
      "|       31|2014-01-30 00:00:00|18164512| 1464071|       null| train|null|  null|       null|       null|       null|Babahoyo|Los Rios|         B|     10|\n",
      "|       31|2013-05-06 00:00:00| 5226038|  105693|       null| train|null|  null|       null|       null|       null|Babahoyo|Los Rios|         B|     10|\n",
      "|       31|2014-01-30 00:00:00|18164513| 1464073|       null| train|null|  null|       null|       null|       null|Babahoyo|Los Rios|         B|     10|\n",
      "|       31|2013-05-06 00:00:00| 5226039|  106716|       null| train|null|  null|       null|       null|       null|Babahoyo|Los Rios|         B|     10|\n",
      "|       31|2014-01-30 00:00:00|18164514| 1464076|       null| train|null|  null|       null|       null|       null|Babahoyo|Los Rios|         B|     10|\n",
      "|       31|2013-05-06 00:00:00| 5226040|  108079|       null| train|null|  null|       null|       null|       null|Babahoyo|Los Rios|         B|     10|\n",
      "|       31|2014-01-30 00:00:00|18164515| 1464079|       null| train|null|  null|       null|       null|       null|Babahoyo|Los Rios|         B|     10|\n",
      "|       31|2013-05-06 00:00:00| 5226041|  108698|       null| train|null|  null|       null|       null|       null|Babahoyo|Los Rios|         B|     10|\n",
      "|       31|2014-01-30 00:00:00|18164516| 1464081|       null| train|null|  null|       null|       null|       null|Babahoyo|Los Rios|         B|     10|\n",
      "|       31|2013-05-06 00:00:00| 5226042|  108786|       null| train|null|  null|       null|       null|       null|Babahoyo|Los Rios|         B|     10|\n",
      "|       31|2014-01-30 00:00:00|18164517| 1464082|       null| train|null|  null|       null|       null|       null|Babahoyo|Los Rios|         B|     10|\n",
      "|       31|2013-05-06 00:00:00| 5226043|  108797|       null| train|null|  null|       null|       null|       null|Babahoyo|Los Rios|         B|     10|\n",
      "|       31|2014-01-30 00:00:00|18164518| 1464086|       null| train|null|  null|       null|       null|       null|Babahoyo|Los Rios|         B|     10|\n",
      "+---------+-------------------+--------+--------+-----------+------+----+------+-----------+-----------+-----------+--------+--------+----------+-------+\n",
      "only showing top 20 rows\n",
      "\n"
     ]
    }
   ],
   "source": [
    "stores = stores.withColumnRenamed(\"type\", \"store_type\")\n",
    "train_holiday_oil_store = train_holiday.join(stores, 'store_nbr', 'left_outer')\n",
    "train_holiday_oil_store.show()"
   ]
  },
  {
   "cell_type": "code",
   "execution_count": 15,
   "metadata": {},
   "outputs": [
    {
     "data": {
      "text/plain": [
       "DataFrame[date: timestamp, id: int, store_nbr: int, item_nbr: int, onpromotion: boolean, source: string, type: string, locale: string, locale_name: string, description: string, transferred: boolean, dcoilwtico: double]"
      ]
     },
     "execution_count": 15,
     "metadata": {},
     "output_type": "execute_result"
    }
   ],
   "source": [
    "#train_holiday_oil.unpersist()"
   ]
  },
  {
   "cell_type": "markdown",
   "metadata": {},
   "source": [
    "## Join train_holiday_oil_store and transaction"
   ]
  },
  {
   "cell_type": "code",
   "execution_count": null,
   "metadata": {
    "scrolled": false
   },
   "outputs": [],
   "source": [
    "#try to avoid the duplicated column name:\n",
    "train_holiday_oil_store_transaction = train_holiday_oil_store.join(transactions, ['date', 'store_nbr'], 'left_outer')\n",
    "train_holiday_oil_store_transaction.show()"
   ]
  },
  {
   "cell_type": "markdown",
   "metadata": {},
   "source": [
    "## Join items table"
   ]
  },
  {
   "cell_type": "code",
   "execution_count": null,
   "metadata": {
    "collapsed": true
   },
   "outputs": [],
   "source": [
    "train_holiday_oil_store_transaction_item = train_holiday_oil_store_transaction.join(items, 'item_nbr', 'left_outer')\n",
    "#train_holiday_oil_store_transaction_item.show()"
   ]
  },
  {
   "cell_type": "code",
   "execution_count": null,
   "metadata": {},
   "outputs": [],
   "source": [
    "train_holiday_oil_store_transaction.unpersist()"
   ]
  },
  {
   "cell_type": "markdown",
   "metadata": {},
   "source": [
    "## Begin data cleaning"
   ]
  },
  {
   "cell_type": "code",
   "execution_count": null,
   "metadata": {
    "collapsed": true
   },
   "outputs": [],
   "source": [
    "#Created a new dataframe called test, so I would not damage the previous one. \n",
    "train_holiday_oil_store_transaction_item_test = train_holiday_oil_store_transaction_item.fillna({\"onpromotion\": False})\n",
    "#train_holiday_oil_store_transaction_item_test.show()"
   ]
  },
  {
   "cell_type": "code",
   "execution_count": null,
   "metadata": {
    "scrolled": true
   },
   "outputs": [],
   "source": [
    "train_holiday_oil_store_transaction_item.unpersist()"
   ]
  },
  {
   "cell_type": "code",
   "execution_count": null,
   "metadata": {},
   "outputs": [],
   "source": [
    "#train_holiday_oil_store_transaction_item_test_003[train_holiday_oil_store_transaction_item_test_003['source'] == 'test'].count()"
   ]
  },
  {
   "cell_type": "markdown",
   "metadata": {},
   "source": [
    "### create a table for on_promotion, encoded"
   ]
  },
  {
   "cell_type": "code",
   "execution_count": 69,
   "metadata": {
    "collapsed": true
   },
   "outputs": [],
   "source": [
    "# from pyspark.sql import functions as F\n",
    "# onpromotions = train_holiday_oil_store_transaction_item_test.select(\"onpromotion\").distinct().rdd.flatMap(lambda x: x).collect()\n",
    "\n",
    "# exprs = [F.when(F.col(\"onpromotion\") == onpromotion, 1).otherwise(0).alias('onpromotion_' + onpromotion)\n",
    "#          for onpromotion in onpromotions]\n",
    "\n",
    "#train_holiday_oil_store_transaction_item_test.select(\"item_nbr\", *exprs).show()"
   ]
  },
  {
   "cell_type": "code",
   "execution_count": null,
   "metadata": {
    "collapsed": true
   },
   "outputs": [],
   "source": [
    "#item table with onpromotion encoded to 1 and 0\n",
    "# item_onpromotion = train_holiday_oil_store_transaction_item_test.select(\"item_nbr\", *exprs)"
   ]
  },
  {
   "cell_type": "markdown",
   "metadata": {},
   "source": [
    "### Encode item_family and create a new table"
   ]
  },
  {
   "cell_type": "code",
   "execution_count": null,
   "metadata": {
    "collapsed": true,
    "scrolled": false
   },
   "outputs": [],
   "source": [
    "from pyspark.ml.feature import OneHotEncoder, StringIndexer\n",
    "\n",
    "stringIndexer = StringIndexer(inputCol=\"family\", outputCol=\"familyIndex\")\n",
    "model = stringIndexer.fit(train_holiday_oil_store_transaction_item_test)\n",
    "indexed = model.transform(train_holiday_oil_store_transaction_item_test)\n",
    "\n",
    "encoder = OneHotEncoder(inputCol=\"familyIndex\", outputCol=\"familyIndexVec\")\n",
    "train_holiday_oil_store_transaction_item_test = encoder.transform(indexed)\n",
    "\n",
    "train_holiday_oil_store_transaction_item_test = train_holiday_oil_store_transaction_item_test.drop('family')\n",
    "#family_encoded.show()"
   ]
  },
  {
   "cell_type": "code",
   "execution_count": null,
   "metadata": {
    "scrolled": false
   },
   "outputs": [],
   "source": [
    "stringIndexer = StringIndexer(inputCol=\"city\", outputCol=\"cityIndex\")\n",
    "model = stringIndexer.fit(train_holiday_oil_store_transaction_item_test)\n",
    "indexed = model.transform(train_holiday_oil_store_transaction_item_test)\n",
    "\n",
    "encoder = OneHotEncoder(inputCol=\"cityIndex\", outputCol=\"cityIndexVec\")\n",
    "train_holiday_oil_store_transaction_item_test = encoder.transform(indexed)\n",
    "\n",
    "train_holiday_oil_store_transaction_item_test.show()"
   ]
  },
  {
   "cell_type": "code",
   "execution_count": null,
   "metadata": {
    "collapsed": true
   },
   "outputs": [],
   "source": [
    "train_holiday_oil_store_transaction_item_test = train_holiday_oil_store_transaction_item_test.drop('city')"
   ]
  },
  {
   "cell_type": "code",
   "execution_count": null,
   "metadata": {},
   "outputs": [],
   "source": [
    "stringIndexer = StringIndexer(inputCol=\"cluster\", outputCol=\"clusterIndex\")\n",
    "model = stringIndexer.fit(train_holiday_oil_store_transaction_item_test)\n",
    "indexed = model.transform(train_holiday_oil_store_transaction_item_test)\n",
    "\n",
    "encoder = OneHotEncoder(inputCol=\"clusterIndex\", outputCol=\"clusterIndexVec\")\n",
    "train_holiday_oil_store_transaction_item_test = encoder.transform(indexed)\n",
    "\n",
    "train_holiday_oil_store_transaction_item_test = train_holiday_oil_store_transaction_item_test.drop('cluster')\n",
    "train_holiday_oil_store_transaction_item_test.show()"
   ]
  },
  {
   "cell_type": "markdown",
   "metadata": {},
   "source": [
    "### Deal with holiday_event dataframe:"
   ]
  },
  {
   "cell_type": "markdown",
   "metadata": {},
   "source": [
    "## Pay attention to how I fillna with a bolean value here"
   ]
  },
  {
   "cell_type": "code",
   "execution_count": null,
   "metadata": {
    "collapsed": true
   },
   "outputs": [],
   "source": [
    "#fill NaN value in transferred column:\n",
    "train_holiday_oil_store_transaction_item_test_002 = train_holiday_oil_store_transaction_item_test.fillna('False', subset=['type', 'locale', 'locale_name', 'description'])\n",
    "train_holiday_oil_store_transaction_item_test_003 = train_holiday_oil_store_transaction_item_test_002.fillna({\"transferred\": False})"
   ]
  },
  {
   "cell_type": "code",
   "execution_count": null,
   "metadata": {},
   "outputs": [],
   "source": [
    "train_holiday_oil_store_transaction_item_test_003[train_holiday_oil_store_transaction_item_test_003['source'] == 'test'].count()"
   ]
  },
  {
   "cell_type": "code",
   "execution_count": null,
   "metadata": {},
   "outputs": [],
   "source": [
    "stringIndexer = StringIndexer(inputCol=\"type\", outputCol=\"typeIndex\")\n",
    "model = stringIndexer.fit(train_holiday_oil_store_transaction_item_test_003)\n",
    "indexed = model.transform(train_holiday_oil_store_transaction_item_test_003)\n",
    "\n",
    "encoder = OneHotEncoder(inputCol=\"typeIndex\", outputCol=\"typeIndexVec\")\n",
    "train_holiday_oil_store_transaction_item_test_003 = encoder.transform(indexed)\n",
    "\n",
    "train_holiday_oil_store_transaction_item_test_003.show()"
   ]
  },
  {
   "cell_type": "code",
   "execution_count": null,
   "metadata": {},
   "outputs": [],
   "source": [
    "stringIndexer = StringIndexer(inputCol=\"locale_name\", outputCol=\"locale_nameIndex\")\n",
    "model = stringIndexer.fit(train_holiday_oil_store_transaction_item_test_003)\n",
    "indexed = model.transform(train_holiday_oil_store_transaction_item_test_003)\n",
    "\n",
    "encoder = OneHotEncoder(inputCol=\"locale_nameIndex\", outputCol=\"locale_nameIndexVec\")\n",
    "train_holiday_oil_store_transaction_item_test_003 = encoder.transform(indexed)\n",
    "\n",
    "train_holiday_oil_store_transaction_item_test_003.show()"
   ]
  },
  {
   "cell_type": "markdown",
   "metadata": {},
   "source": [
    "## Combine all dataframes together, then drop original columns"
   ]
  },
  {
   "cell_type": "code",
   "execution_count": null,
   "metadata": {
    "collapsed": true
   },
   "outputs": [],
   "source": [
    "train_holiday_oil_store_transaction_item_test_003 = train_holiday_oil_store_transaction_item_test_003.drop('type', 'description', 'transferred', 'state', 'locale', 'locale_name', 'family', 'class')"
   ]
  },
  {
   "cell_type": "code",
   "execution_count": null,
   "metadata": {
    "collapsed": true
   },
   "outputs": [],
   "source": [
    "#Cast bolean values to int\n",
    "train_holiday_oil_store_transaction_item_test_003 = train_holiday_oil_store_transaction_item_test_003.withColumn(\"onpromotion\", train_holiday_oil_store_transaction_item_test_003[\"onpromotion\"].cast(\"integer\"))"
   ]
  },
  {
   "cell_type": "code",
   "execution_count": null,
   "metadata": {},
   "outputs": [],
   "source": [
    "# stringIndexer = StringIndexer(inputCol=\"onpromotion\", outputCol=\"onpromotionIndex\")\n",
    "# model = stringIndexer.fit(train_holiday_oil_store_transaction_item_test_003)\n",
    "# indexed = model.transform(train_holiday_oil_store_transaction_item_test_003)\n",
    "\n",
    "# encoder = OneHotEncoder(inputCol=\"onpromotionIndex\", outputCol=\"onpromotionIndexVec\")\n",
    "# train_holiday_oil_store_transaction_item_test_004 = encoder.transform(indexed)\n",
    "\n",
    "# train_holiday_oil_store_transaction_item_test_004 = train_holiday_oil_store_transaction_item_test_004.drop('onpromotion')\n",
    "# train_holiday_oil_store_transaction_item_test_004.show()\n",
    "train_holiday_oil_store_transaction_item_test_003.show(5)"
   ]
  },
  {
   "cell_type": "code",
   "execution_count": null,
   "metadata": {
    "collapsed": true
   },
   "outputs": [],
   "source": [
    "#fillna for onpromation:\n",
    "train_holiday_oil_store_transaction_item_test_003 = train_holiday_oil_store_transaction_item_test_003.fillna(0, subset=['onpromotion'])"
   ]
  },
  {
   "cell_type": "code",
   "execution_count": null,
   "metadata": {},
   "outputs": [],
   "source": [
    "train_holiday_oil_store_transaction_item_test_003[train_holiday_oil_store_transaction_item_test_003.onpromotion.isNull()].count()"
   ]
  },
  {
   "cell_type": "code",
   "execution_count": null,
   "metadata": {
    "collapsed": true
   },
   "outputs": [],
   "source": [
    "train_holiday_oil_store_transaction_item_test.unpersist()\n",
    "train_holiday_oil_store_transaction_item_test_002.unpersist()"
   ]
  },
  {
   "cell_type": "markdown",
   "metadata": {},
   "source": [
    "## Deal with store_type"
   ]
  },
  {
   "cell_type": "code",
   "execution_count": null,
   "metadata": {
    "collapsed": true
   },
   "outputs": [],
   "source": [
    "stringIndexer = StringIndexer(inputCol=\"store_type\", outputCol=\"store_type_Index\")\n",
    "model = stringIndexer.fit(train_holiday_oil_store_transaction_item_test_003)\n",
    "indexed = model.transform(train_holiday_oil_store_transaction_item_test_003)\n",
    "\n",
    "encoder = OneHotEncoder(inputCol=\"store_type_Index\", outputCol=\"store_type_Index_Vec\")\n",
    "train_holiday_oil_store_transaction_item_test_003 = encoder.transform(indexed)"
   ]
  },
  {
   "cell_type": "code",
   "execution_count": null,
   "metadata": {},
   "outputs": [],
   "source": [
    "train_holiday_oil_store_transaction_item_test_003 = train_holiday_oil_store_transaction_item_test_003.drop('store_type')\n",
    "train_holiday_oil_store_transaction_item_test_003.show()"
   ]
  },
  {
   "cell_type": "code",
   "execution_count": null,
   "metadata": {},
   "outputs": [],
   "source": [
    "train_holiday_oil_store_transaction_item_test_003.columns"
   ]
  },
  {
   "cell_type": "code",
   "execution_count": null,
   "metadata": {},
   "outputs": [],
   "source": [
    "train_holiday_oil_store_transaction_item_test_003.where(train_holiday_oil_store_transaction_item_test_003['source'] == 'test').count()"
   ]
  },
  {
   "cell_type": "markdown",
   "metadata": {
    "collapsed": true
   },
   "source": [
    "##  (drop NaN oil temporary)"
   ]
  },
  {
   "cell_type": "code",
   "execution_count": null,
   "metadata": {
    "collapsed": true
   },
   "outputs": [],
   "source": [
    "#without oil column\n",
    "train_holiday_oil_store_transaction_item_test_004 = train_holiday_oil_store_transaction_item_test_003.drop('dcoilwtico')"
   ]
  },
  {
   "cell_type": "markdown",
   "metadata": {
    "collapsed": true
   },
   "source": [
    "## Separate Train set and Test set"
   ]
  },
  {
   "cell_type": "code",
   "execution_count": null,
   "metadata": {
    "collapsed": true
   },
   "outputs": [],
   "source": [
    "train_001 = train_holiday_oil_store_transaction_item_test_004.filter(train_holiday_oil_store_transaction_item_test_004.source == 'train')\n",
    "test_001 = train_holiday_oil_store_transaction_item_test_004.filter(train_holiday_oil_store_transaction_item_test_004.source == 'test')"
   ]
  },
  {
   "cell_type": "code",
   "execution_count": null,
   "metadata": {
    "collapsed": true
   },
   "outputs": [],
   "source": [
    "train_target = train.select('id', 'unit_sales')"
   ]
  },
  {
   "cell_type": "code",
   "execution_count": null,
   "metadata": {
    "collapsed": true
   },
   "outputs": [],
   "source": [
    "train_001 = train_001.join(train_target, 'id', 'left_outer')"
   ]
  },
  {
   "cell_type": "code",
   "execution_count": null,
   "metadata": {
    "collapsed": true
   },
   "outputs": [],
   "source": [
    "train_001 = train_001.drop('transactions')"
   ]
  },
  {
   "cell_type": "code",
   "execution_count": null,
   "metadata": {},
   "outputs": [],
   "source": [
    "test.count()"
   ]
  },
  {
   "cell_type": "code",
   "execution_count": null,
   "metadata": {},
   "outputs": [],
   "source": [
    "test_001.count()"
   ]
  },
  {
   "cell_type": "code",
   "execution_count": null,
   "metadata": {
    "collapsed": true,
    "scrolled": false
   },
   "outputs": [],
   "source": [
    "test_001.show(5)"
   ]
  },
  {
   "cell_type": "code",
   "execution_count": null,
   "metadata": {
    "collapsed": true
   },
   "outputs": [],
   "source": [
    "test_001 = test_001.drop('transactions')"
   ]
  },
  {
   "cell_type": "code",
   "execution_count": null,
   "metadata": {},
   "outputs": [],
   "source": [
    "print(train_001.columns)"
   ]
  },
  {
   "cell_type": "code",
   "execution_count": null,
   "metadata": {},
   "outputs": [],
   "source": [
    "print(test_001.columns)"
   ]
  },
  {
   "cell_type": "markdown",
   "metadata": {},
   "source": [
    "# Begin training and predicting"
   ]
  },
  {
   "cell_type": "code",
   "execution_count": null,
   "metadata": {
    "collapsed": true
   },
   "outputs": [],
   "source": [
    "from pyspark.ml.feature import VectorAssembler"
   ]
  },
  {
   "cell_type": "code",
   "execution_count": null,
   "metadata": {
    "collapsed": true
   },
   "outputs": [],
   "source": [
    "from pyspark.ml.regression import LinearRegression"
   ]
  },
  {
   "cell_type": "code",
   "execution_count": null,
   "metadata": {
    "collapsed": true
   },
   "outputs": [],
   "source": [
    "features = ['store_nbr', 'perishable', 'familyIndex', \\\n",
    "                             'cityIndex',  'clusterIndex',  'typeIndex', \\\n",
    "                             'locale_nameIndex',  \\\n",
    "                              'store_type_Index']\n",
    "assembler = VectorAssembler(\n",
    "    inputCols=features,\n",
    "    outputCol='features')"
   ]
  },
  {
   "cell_type": "code",
   "execution_count": null,
   "metadata": {},
   "outputs": [],
   "source": [
    "assembled_train = assembler.transform(train_001)\n",
    "assembled_train.take(5)"
   ]
  },
  {
   "cell_type": "code",
   "execution_count": null,
   "metadata": {
    "collapsed": true
   },
   "outputs": [],
   "source": [
    "train_df, test_df = assembled_train.randomSplit([0.6, 0.4], seed=0)"
   ]
  },
  {
   "cell_type": "code",
   "execution_count": null,
   "metadata": {},
   "outputs": [],
   "source": [
    "lr = LinearRegression(maxIter=10).setLabelCol(\"unit_sales\").setFeaturesCol(\"features\")\n",
    "model = lr.fit(train_df)"
   ]
  },
  {
   "cell_type": "code",
   "execution_count": null,
   "metadata": {
    "collapsed": true
   },
   "outputs": [],
   "source": [
    "testing_summary = model.evaluate(test_df)"
   ]
  },
  {
   "cell_type": "code",
   "execution_count": null,
   "metadata": {
    "collapsed": true
   },
   "outputs": [],
   "source": [
    "testing_summary.rootMeanSquaredError"
   ]
  },
  {
   "cell_type": "code",
   "execution_count": null,
   "metadata": {
    "collapsed": true
   },
   "outputs": [],
   "source": []
  },
  {
   "cell_type": "code",
   "execution_count": null,
   "metadata": {
    "collapsed": true
   },
   "outputs": [],
   "source": []
  }
 ],
 "metadata": {
  "kernelspec": {
   "display_name": "Python 3",
   "language": "python",
   "name": "python3"
  },
  "language_info": {
   "codemirror_mode": {
    "name": "ipython",
    "version": 3
   },
   "file_extension": ".py",
   "mimetype": "text/x-python",
   "name": "python",
   "nbconvert_exporter": "python",
   "pygments_lexer": "ipython3",
   "version": "3.6.1"
  }
 },
 "nbformat": 4,
 "nbformat_minor": 2
}
