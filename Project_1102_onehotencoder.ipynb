{
 "cells": [
  {
   "cell_type": "code",
   "execution_count": 1,
   "metadata": {
    "collapsed": true
   },
   "outputs": [],
   "source": [
    "import pandas as pd\n",
    "import numpy as np\n",
    "import seaborn as sns\n",
    "import matplotlib.pyplot as plt\n",
    "%matplotlib inline\n",
    "import findspark\n",
    "findspark.init()\n",
    "import pyspark\n",
    "from pyspark.sql import SparkSession\n",
    "spark = SparkSession.builder.appName(\"SalesPrediction1026\").getOrCreate()"
   ]
  },
  {
   "cell_type": "code",
   "execution_count": 2,
   "metadata": {
    "collapsed": true
   },
   "outputs": [],
   "source": [
    "from pyspark.sql.functions import lit\n",
    "from pyspark.sql import functions"
   ]
  },
  {
   "cell_type": "code",
   "execution_count": 3,
   "metadata": {
    "collapsed": true
   },
   "outputs": [],
   "source": [
    "#from pyspark.sql.functions import broadcast"
   ]
  },
  {
   "cell_type": "code",
   "execution_count": 3,
   "metadata": {
    "collapsed": true
   },
   "outputs": [],
   "source": [
    "holidays_events = spark.read.csv(\"holidays_events.csv\", header=True, inferSchema=True)\n",
    "items = spark.read.csv(\"items.csv\", header=True, inferSchema=True)\n",
    "oil = spark.read.csv(\"oil.csv\", header=True, inferSchema=True)\n",
    "stores = spark.read.csv(\"stores.csv\", header=True, inferSchema=True)\n",
    "test = spark.read.csv(\"test.csv\", header=True, inferSchema=True)\n",
    "train = spark.read.csv(\"train.csv\", header=True, inferSchema=True)\n",
    "#train_sample = train.sample(False, 0.05, 1)\n",
    "transactions = spark.read.csv(\"transactions.csv\", header=True, inferSchema=True)"
   ]
  },
  {
   "cell_type": "code",
   "execution_count": 4,
   "metadata": {
    "collapsed": true
   },
   "outputs": [],
   "source": [
    "#deal with oil dataframe in pandas with backfill, then transform it to spark dataframe\n",
    "oil_pandas = pd.read_csv(\"oil.csv\")"
   ]
  },
  {
   "cell_type": "code",
   "execution_count": 5,
   "metadata": {
    "collapsed": true
   },
   "outputs": [],
   "source": [
    "#spark.sql(\"\"\"SET spark.sql.autoBroadcastJoinThreshold = -1\"\"\")\n",
    "spark.conf.set(\"spark.sql.autoBroadcastJoinThreshold\", -1)"
   ]
  },
  {
   "cell_type": "code",
   "execution_count": 6,
   "metadata": {},
   "outputs": [
    {
     "name": "stdout",
     "output_type": "stream",
     "text": [
      "+---+-------------------+---------+--------+-----------+------+\n",
      "| id|               date|store_nbr|item_nbr|onpromotion|source|\n",
      "+---+-------------------+---------+--------+-----------+------+\n",
      "|  0|2013-01-01 00:00:00|       25|  103665|       null| train|\n",
      "|  1|2013-01-01 00:00:00|       25|  105574|       null| train|\n",
      "|  2|2013-01-01 00:00:00|       25|  105575|       null| train|\n",
      "|  3|2013-01-01 00:00:00|       25|  108079|       null| train|\n",
      "|  4|2013-01-01 00:00:00|       25|  108701|       null| train|\n",
      "|  5|2013-01-01 00:00:00|       25|  108786|       null| train|\n",
      "|  6|2013-01-01 00:00:00|       25|  108797|       null| train|\n",
      "|  7|2013-01-01 00:00:00|       25|  108952|       null| train|\n",
      "|  8|2013-01-01 00:00:00|       25|  111397|       null| train|\n",
      "|  9|2013-01-01 00:00:00|       25|  114790|       null| train|\n",
      "| 10|2013-01-01 00:00:00|       25|  114800|       null| train|\n",
      "| 11|2013-01-01 00:00:00|       25|  115267|       null| train|\n",
      "| 12|2013-01-01 00:00:00|       25|  115611|       null| train|\n",
      "| 13|2013-01-01 00:00:00|       25|  115693|       null| train|\n",
      "| 14|2013-01-01 00:00:00|       25|  115720|       null| train|\n",
      "| 15|2013-01-01 00:00:00|       25|  115850|       null| train|\n",
      "| 16|2013-01-01 00:00:00|       25|  115891|       null| train|\n",
      "| 17|2013-01-01 00:00:00|       25|  115892|       null| train|\n",
      "| 18|2013-01-01 00:00:00|       25|  115894|       null| train|\n",
      "| 19|2013-01-01 00:00:00|       25|  119024|       null| train|\n",
      "+---+-------------------+---------+--------+-----------+------+\n",
      "only showing top 20 rows\n",
      "\n"
     ]
    }
   ],
   "source": [
    "#combine test set and train set together\n",
    "#add 'source' column to both train and test set so we can separate them after data cleaning\n",
    "train = train.withColumn('source', lit('train'))\n",
    "test = test.withColumn('source', lit('test'))\n",
    "train_without_target = train.select(\"id\", 'date', 'store_nbr', 'item_nbr', 'onpromotion', 'source')\n",
    "#use .union() to add them together\n",
    "train_test_set = train_without_target.union(test)\n",
    "train_test_set.show()"
   ]
  },
  {
   "cell_type": "markdown",
   "metadata": {},
   "source": [
    "## Join train and holiday_events dataframe"
   ]
  },
  {
   "cell_type": "code",
   "execution_count": 7,
   "metadata": {
    "scrolled": false
   },
   "outputs": [
    {
     "name": "stdout",
     "output_type": "stream",
     "text": [
      "+-------------------+-------+---------+--------+-----------+------+----+------+-----------+-----------+-----------+\n",
      "|               date|     id|store_nbr|item_nbr|onpromotion|source|type|locale|locale_name|description|transferred|\n",
      "+-------------------+-------+---------+--------+-----------+------+----+------+-----------+-----------+-----------+\n",
      "|2013-05-06 00:00:00|5202345|        1|  103520|       null| train|null|  null|       null|       null|       null|\n",
      "|2013-05-06 00:00:00|5202346|        1|  105574|       null| train|null|  null|       null|       null|       null|\n",
      "+-------------------+-------+---------+--------+-----------+------+----+------+-----------+-----------+-----------+\n",
      "only showing top 2 rows\n",
      "\n"
     ]
    }
   ],
   "source": [
    "train_holiday = train_test_set.join(holidays_events, 'date', 'left_outer')\n",
    "train_holiday.show(2)"
   ]
  },
  {
   "cell_type": "code",
   "execution_count": 8,
   "metadata": {},
   "outputs": [
    {
     "data": {
      "text/plain": [
       "DataFrame[id: int, date: timestamp, store_nbr: int, item_nbr: int, onpromotion: boolean, source: string]"
      ]
     },
     "execution_count": 8,
     "metadata": {},
     "output_type": "execute_result"
    }
   ],
   "source": [
    "train_test_set.unpersist()"
   ]
  },
  {
   "cell_type": "markdown",
   "metadata": {},
   "source": [
    "## Clean Oil Dataframe"
   ]
  },
  {
   "cell_type": "code",
   "execution_count": 9,
   "metadata": {},
   "outputs": [
    {
     "data": {
      "text/html": [
       "<div>\n",
       "<style>\n",
       "    .dataframe thead tr:only-child th {\n",
       "        text-align: right;\n",
       "    }\n",
       "\n",
       "    .dataframe thead th {\n",
       "        text-align: left;\n",
       "    }\n",
       "\n",
       "    .dataframe tbody tr th {\n",
       "        vertical-align: top;\n",
       "    }\n",
       "</style>\n",
       "<table border=\"1\" class=\"dataframe\">\n",
       "  <thead>\n",
       "    <tr style=\"text-align: right;\">\n",
       "      <th></th>\n",
       "      <th>date</th>\n",
       "      <th>dcoilwtico</th>\n",
       "    </tr>\n",
       "  </thead>\n",
       "  <tbody>\n",
       "    <tr>\n",
       "      <th>0</th>\n",
       "      <td>2013-01-01</td>\n",
       "      <td>93.14</td>\n",
       "    </tr>\n",
       "    <tr>\n",
       "      <th>1</th>\n",
       "      <td>2013-01-02</td>\n",
       "      <td>93.14</td>\n",
       "    </tr>\n",
       "    <tr>\n",
       "      <th>2</th>\n",
       "      <td>2013-01-03</td>\n",
       "      <td>92.97</td>\n",
       "    </tr>\n",
       "    <tr>\n",
       "      <th>3</th>\n",
       "      <td>2013-01-04</td>\n",
       "      <td>93.12</td>\n",
       "    </tr>\n",
       "    <tr>\n",
       "      <th>4</th>\n",
       "      <td>2013-01-07</td>\n",
       "      <td>93.20</td>\n",
       "    </tr>\n",
       "  </tbody>\n",
       "</table>\n",
       "</div>"
      ],
      "text/plain": [
       "         date  dcoilwtico\n",
       "0  2013-01-01       93.14\n",
       "1  2013-01-02       93.14\n",
       "2  2013-01-03       92.97\n",
       "3  2013-01-04       93.12\n",
       "4  2013-01-07       93.20"
      ]
     },
     "execution_count": 9,
     "metadata": {},
     "output_type": "execute_result"
    }
   ],
   "source": [
    "oil_pandas = oil_pandas.fillna(method='bfill')\n",
    "oil_pandas = oil_pandas.fillna(method='ffill')\n",
    "oil_pandas.head()"
   ]
  },
  {
   "cell_type": "code",
   "execution_count": 10,
   "metadata": {},
   "outputs": [
    {
     "data": {
      "text/plain": [
       "date          0\n",
       "dcoilwtico    0\n",
       "dtype: int64"
      ]
     },
     "execution_count": 10,
     "metadata": {},
     "output_type": "execute_result"
    }
   ],
   "source": [
    "oil_pandas.isnull().sum()"
   ]
  },
  {
   "cell_type": "markdown",
   "metadata": {},
   "source": [
    "## Transform pandas dataframe back to spark dataframe"
   ]
  },
  {
   "cell_type": "code",
   "execution_count": 11,
   "metadata": {},
   "outputs": [
    {
     "name": "stdout",
     "output_type": "stream",
     "text": [
      "+----------+----------+\n",
      "|      date|dcoilwtico|\n",
      "+----------+----------+\n",
      "|2013-01-01|     93.14|\n",
      "|2013-01-02|     93.14|\n",
      "|2013-01-03|     92.97|\n",
      "|2013-01-04|     93.12|\n",
      "|2013-01-07|      93.2|\n",
      "|2013-01-08|     93.21|\n",
      "|2013-01-09|     93.08|\n",
      "|2013-01-10|     93.81|\n",
      "|2013-01-11|      93.6|\n",
      "|2013-01-14|     94.27|\n",
      "|2013-01-15|     93.26|\n",
      "|2013-01-16|     94.28|\n",
      "|2013-01-17|     95.49|\n",
      "|2013-01-18|     95.61|\n",
      "|2013-01-21|     96.09|\n",
      "|2013-01-22|     96.09|\n",
      "|2013-01-23|     95.06|\n",
      "|2013-01-24|     95.35|\n",
      "|2013-01-25|     95.15|\n",
      "|2013-01-28|     95.95|\n",
      "+----------+----------+\n",
      "only showing top 20 rows\n",
      "\n"
     ]
    }
   ],
   "source": [
    "oil_spark = spark.createDataFrame(oil_pandas)\n",
    "oil_spark.show()"
   ]
  },
  {
   "cell_type": "code",
   "execution_count": 12,
   "metadata": {},
   "outputs": [
    {
     "name": "stdout",
     "output_type": "stream",
     "text": [
      "+-------------------+-------+---------+--------+-----------+------+----+------+-----------+-----------+-----------+----------+\n",
      "|               date|     id|store_nbr|item_nbr|onpromotion|source|type|locale|locale_name|description|transferred|dcoilwtico|\n",
      "+-------------------+-------+---------+--------+-----------+------+----+------+-----------+-----------+-----------+----------+\n",
      "|2013-05-06 00:00:00|5202345|        1|  103520|       null| train|null|  null|       null|       null|       null|      95.8|\n",
      "|2013-05-06 00:00:00|5202346|        1|  105574|       null| train|null|  null|       null|       null|       null|      95.8|\n",
      "|2013-05-06 00:00:00|5202347|        1|  105575|       null| train|null|  null|       null|       null|       null|      95.8|\n",
      "|2013-05-06 00:00:00|5202348|        1|  105577|       null| train|null|  null|       null|       null|       null|      95.8|\n",
      "|2013-05-06 00:00:00|5202349|        1|  105693|       null| train|null|  null|       null|       null|       null|      95.8|\n",
      "|2013-05-06 00:00:00|5202350|        1|  105857|       null| train|null|  null|       null|       null|       null|      95.8|\n",
      "|2013-05-06 00:00:00|5202351|        1|  106716|       null| train|null|  null|       null|       null|       null|      95.8|\n",
      "|2013-05-06 00:00:00|5202352|        1|  108079|       null| train|null|  null|       null|       null|       null|      95.8|\n",
      "|2013-05-06 00:00:00|5202353|        1|  108696|       null| train|null|  null|       null|       null|       null|      95.8|\n",
      "|2013-05-06 00:00:00|5202354|        1|  108698|       null| train|null|  null|       null|       null|       null|      95.8|\n",
      "|2013-05-06 00:00:00|5202355|        1|  108701|       null| train|null|  null|       null|       null|       null|      95.8|\n",
      "|2013-05-06 00:00:00|5202356|        1|  108786|       null| train|null|  null|       null|       null|       null|      95.8|\n",
      "|2013-05-06 00:00:00|5202357|        1|  111223|       null| train|null|  null|       null|       null|       null|      95.8|\n",
      "|2013-05-06 00:00:00|5202358|        1|  111397|       null| train|null|  null|       null|       null|       null|      95.8|\n",
      "|2013-05-06 00:00:00|5202359|        1|  114778|       null| train|null|  null|       null|       null|       null|      95.8|\n",
      "|2013-05-06 00:00:00|5202360|        1|  114790|       null| train|null|  null|       null|       null|       null|      95.8|\n",
      "|2013-05-06 00:00:00|5202361|        1|  114799|       null| train|null|  null|       null|       null|       null|      95.8|\n",
      "|2013-05-06 00:00:00|5202362|        1|  114800|       null| train|null|  null|       null|       null|       null|      95.8|\n",
      "|2013-05-06 00:00:00|5202363|        1|  115267|       null| train|null|  null|       null|       null|       null|      95.8|\n",
      "|2013-05-06 00:00:00|5202364|        1|  115611|       null| train|null|  null|       null|       null|       null|      95.8|\n",
      "+-------------------+-------+---------+--------+-----------+------+----+------+-----------+-----------+-----------+----------+\n",
      "only showing top 20 rows\n",
      "\n"
     ]
    }
   ],
   "source": [
    "train_holiday_oil = train_holiday.join(oil_spark, 'date', 'left_outer')\n",
    "train_holiday_oil.show()"
   ]
  },
  {
   "cell_type": "code",
   "execution_count": 13,
   "metadata": {},
   "outputs": [
    {
     "data": {
      "text/plain": [
       "DataFrame[date: timestamp, id: int, store_nbr: int, item_nbr: int, onpromotion: boolean, source: string, type: string, locale: string, locale_name: string, description: string, transferred: boolean]"
      ]
     },
     "execution_count": 13,
     "metadata": {},
     "output_type": "execute_result"
    }
   ],
   "source": [
    "train_holiday.unpersist()"
   ]
  },
  {
   "cell_type": "markdown",
   "metadata": {},
   "source": [
    "## Join train_holiday_oil with store"
   ]
  },
  {
   "cell_type": "markdown",
   "metadata": {},
   "source": [
    "### Rename store.type so it would not duplicate with holiday.type"
   ]
  },
  {
   "cell_type": "code",
   "execution_count": 14,
   "metadata": {
    "scrolled": true
   },
   "outputs": [
    {
     "name": "stdout",
     "output_type": "stream",
     "text": [
      "+---------+-------------------+--------+--------+-----------+------+----+------+-----------+-----------+-----------+----------+--------+--------+----------+-------+\n",
      "|store_nbr|               date|      id|item_nbr|onpromotion|source|type|locale|locale_name|description|transferred|dcoilwtico|    city|   state|store_type|cluster|\n",
      "+---------+-------------------+--------+--------+-----------+------+----+------+-----------+-----------+-----------+----------+--------+--------+----------+-------+\n",
      "|       31|2013-05-06 00:00:00| 5226034|  103501|       null| train|null|  null|       null|       null|       null|      95.8|Babahoyo|Los Rios|         B|     10|\n",
      "|       31|2014-01-30 00:00:00|18164509| 1464035|       null| train|null|  null|       null|       null|       null|     98.25|Babahoyo|Los Rios|         B|     10|\n",
      "|       31|2013-05-06 00:00:00| 5226035|  103520|       null| train|null|  null|       null|       null|       null|      95.8|Babahoyo|Los Rios|         B|     10|\n",
      "|       31|2014-01-30 00:00:00|18164510| 1464066|       null| train|null|  null|       null|       null|       null|     98.25|Babahoyo|Los Rios|         B|     10|\n",
      "|       31|2013-05-06 00:00:00| 5226036|  103665|       null| train|null|  null|       null|       null|       null|      95.8|Babahoyo|Los Rios|         B|     10|\n",
      "|       31|2014-01-30 00:00:00|18164511| 1464070|       null| train|null|  null|       null|       null|       null|     98.25|Babahoyo|Los Rios|         B|     10|\n",
      "|       31|2013-05-06 00:00:00| 5226037|  105576|       null| train|null|  null|       null|       null|       null|      95.8|Babahoyo|Los Rios|         B|     10|\n",
      "|       31|2014-01-30 00:00:00|18164512| 1464071|       null| train|null|  null|       null|       null|       null|     98.25|Babahoyo|Los Rios|         B|     10|\n",
      "|       31|2013-05-06 00:00:00| 5226038|  105693|       null| train|null|  null|       null|       null|       null|      95.8|Babahoyo|Los Rios|         B|     10|\n",
      "|       31|2014-01-30 00:00:00|18164513| 1464073|       null| train|null|  null|       null|       null|       null|     98.25|Babahoyo|Los Rios|         B|     10|\n",
      "|       31|2013-05-06 00:00:00| 5226039|  106716|       null| train|null|  null|       null|       null|       null|      95.8|Babahoyo|Los Rios|         B|     10|\n",
      "|       31|2014-01-30 00:00:00|18164514| 1464076|       null| train|null|  null|       null|       null|       null|     98.25|Babahoyo|Los Rios|         B|     10|\n",
      "|       31|2013-05-06 00:00:00| 5226040|  108079|       null| train|null|  null|       null|       null|       null|      95.8|Babahoyo|Los Rios|         B|     10|\n",
      "|       31|2014-01-30 00:00:00|18164515| 1464079|       null| train|null|  null|       null|       null|       null|     98.25|Babahoyo|Los Rios|         B|     10|\n",
      "|       31|2013-05-06 00:00:00| 5226041|  108698|       null| train|null|  null|       null|       null|       null|      95.8|Babahoyo|Los Rios|         B|     10|\n",
      "|       31|2014-01-30 00:00:00|18164516| 1464081|       null| train|null|  null|       null|       null|       null|     98.25|Babahoyo|Los Rios|         B|     10|\n",
      "|       31|2013-05-06 00:00:00| 5226042|  108786|       null| train|null|  null|       null|       null|       null|      95.8|Babahoyo|Los Rios|         B|     10|\n",
      "|       31|2014-01-30 00:00:00|18164517| 1464082|       null| train|null|  null|       null|       null|       null|     98.25|Babahoyo|Los Rios|         B|     10|\n",
      "|       31|2013-05-06 00:00:00| 5226043|  108797|       null| train|null|  null|       null|       null|       null|      95.8|Babahoyo|Los Rios|         B|     10|\n",
      "|       31|2014-01-30 00:00:00|18164518| 1464086|       null| train|null|  null|       null|       null|       null|     98.25|Babahoyo|Los Rios|         B|     10|\n",
      "+---------+-------------------+--------+--------+-----------+------+----+------+-----------+-----------+-----------+----------+--------+--------+----------+-------+\n",
      "only showing top 20 rows\n",
      "\n"
     ]
    }
   ],
   "source": [
    "stores = stores.withColumnRenamed(\"type\", \"store_type\")\n",
    "train_holiday_oil_store = train_holiday_oil.join(stores, 'store_nbr', 'left_outer')\n",
    "train_holiday_oil_store.show()"
   ]
  },
  {
   "cell_type": "code",
   "execution_count": 15,
   "metadata": {},
   "outputs": [
    {
     "data": {
      "text/plain": [
       "DataFrame[date: timestamp, id: int, store_nbr: int, item_nbr: int, onpromotion: boolean, source: string, type: string, locale: string, locale_name: string, description: string, transferred: boolean, dcoilwtico: double]"
      ]
     },
     "execution_count": 15,
     "metadata": {},
     "output_type": "execute_result"
    }
   ],
   "source": [
    "train_holiday_oil.unpersist()"
   ]
  },
  {
   "cell_type": "markdown",
   "metadata": {},
   "source": [
    "## Join train_holiday_oil_store and transaction"
   ]
  },
  {
   "cell_type": "code",
   "execution_count": 16,
   "metadata": {
    "scrolled": false
   },
   "outputs": [
    {
     "name": "stdout",
     "output_type": "stream",
     "text": [
      "+-------------------+---------+-----+--------+-----------+------+----+------+-----------+-----------+-----------+----------+-----+---------+----------+-------+------------+\n",
      "|               date|store_nbr|   id|item_nbr|onpromotion|source|type|locale|locale_name|description|transferred|dcoilwtico| city|    state|store_type|cluster|transactions|\n",
      "+-------------------+---------+-----+--------+-----------+------+----+------+-----------+-----------+-----------+----------+-----+---------+----------+-------+------------+\n",
      "|2013-01-04 00:00:00|       18|97380|  103501|       null| train|null|  null|       null|       null|       null|     93.12|Quito|Pichincha|         B|     16|        1238|\n",
      "|2013-01-04 00:00:00|       18|97381|  105576|       null| train|null|  null|       null|       null|       null|     93.12|Quito|Pichincha|         B|     16|        1238|\n",
      "|2013-01-04 00:00:00|       18|97382|  105857|       null| train|null|  null|       null|       null|       null|     93.12|Quito|Pichincha|         B|     16|        1238|\n",
      "|2013-01-04 00:00:00|       18|97383|  106716|       null| train|null|  null|       null|       null|       null|     93.12|Quito|Pichincha|         B|     16|        1238|\n",
      "|2013-01-04 00:00:00|       18|97384|  108079|       null| train|null|  null|       null|       null|       null|     93.12|Quito|Pichincha|         B|     16|        1238|\n",
      "|2013-01-04 00:00:00|       18|97385|  108696|       null| train|null|  null|       null|       null|       null|     93.12|Quito|Pichincha|         B|     16|        1238|\n",
      "|2013-01-04 00:00:00|       18|97386|  108698|       null| train|null|  null|       null|       null|       null|     93.12|Quito|Pichincha|         B|     16|        1238|\n",
      "|2013-01-04 00:00:00|       18|97387|  108701|       null| train|null|  null|       null|       null|       null|     93.12|Quito|Pichincha|         B|     16|        1238|\n",
      "|2013-01-04 00:00:00|       18|97388|  108786|       null| train|null|  null|       null|       null|       null|     93.12|Quito|Pichincha|         B|     16|        1238|\n",
      "|2013-01-04 00:00:00|       18|97389|  108797|       null| train|null|  null|       null|       null|       null|     93.12|Quito|Pichincha|         B|     16|        1238|\n",
      "|2013-01-04 00:00:00|       18|97390|  108952|       null| train|null|  null|       null|       null|       null|     93.12|Quito|Pichincha|         B|     16|        1238|\n",
      "|2013-01-04 00:00:00|       18|97391|  111223|       null| train|null|  null|       null|       null|       null|     93.12|Quito|Pichincha|         B|     16|        1238|\n",
      "|2013-01-04 00:00:00|       18|97392|  111397|       null| train|null|  null|       null|       null|       null|     93.12|Quito|Pichincha|         B|     16|        1238|\n",
      "|2013-01-04 00:00:00|       18|97393|  112830|       null| train|null|  null|       null|       null|       null|     93.12|Quito|Pichincha|         B|     16|        1238|\n",
      "|2013-01-04 00:00:00|       18|97394|  114778|       null| train|null|  null|       null|       null|       null|     93.12|Quito|Pichincha|         B|     16|        1238|\n",
      "|2013-01-04 00:00:00|       18|97395|  114790|       null| train|null|  null|       null|       null|       null|     93.12|Quito|Pichincha|         B|     16|        1238|\n",
      "|2013-01-04 00:00:00|       18|97396|  114799|       null| train|null|  null|       null|       null|       null|     93.12|Quito|Pichincha|         B|     16|        1238|\n",
      "|2013-01-04 00:00:00|       18|97397|  115267|       null| train|null|  null|       null|       null|       null|     93.12|Quito|Pichincha|         B|     16|        1238|\n",
      "|2013-01-04 00:00:00|       18|97398|  115611|       null| train|null|  null|       null|       null|       null|     93.12|Quito|Pichincha|         B|     16|        1238|\n",
      "|2013-01-04 00:00:00|       18|97399|  115693|       null| train|null|  null|       null|       null|       null|     93.12|Quito|Pichincha|         B|     16|        1238|\n",
      "+-------------------+---------+-----+--------+-----------+------+----+------+-----------+-----------+-----------+----------+-----+---------+----------+-------+------------+\n",
      "only showing top 20 rows\n",
      "\n"
     ]
    }
   ],
   "source": [
    "#try to avoid the duplicated column name:\n",
    "train_holiday_oil_store_transaction = train_holiday_oil_store.join(transactions, ['date', 'store_nbr'], 'left_outer')\n",
    "train_holiday_oil_store_transaction.show()"
   ]
  },
  {
   "cell_type": "markdown",
   "metadata": {},
   "source": [
    "## Join items table"
   ]
  },
  {
   "cell_type": "code",
   "execution_count": 17,
   "metadata": {
    "collapsed": true
   },
   "outputs": [],
   "source": [
    "train_holiday_oil_store_transaction_item = train_holiday_oil_store_transaction.join(items, 'item_nbr', 'left_outer')\n",
    "#train_holiday_oil_store_transaction_item.show()"
   ]
  },
  {
   "cell_type": "code",
   "execution_count": 18,
   "metadata": {},
   "outputs": [
    {
     "data": {
      "text/plain": [
       "DataFrame[date: timestamp, store_nbr: int, id: int, item_nbr: int, onpromotion: boolean, source: string, type: string, locale: string, locale_name: string, description: string, transferred: boolean, dcoilwtico: double, city: string, state: string, store_type: string, cluster: int, transactions: int]"
      ]
     },
     "execution_count": 18,
     "metadata": {},
     "output_type": "execute_result"
    }
   ],
   "source": [
    "train_holiday_oil_store_transaction.unpersist()"
   ]
  },
  {
   "cell_type": "markdown",
   "metadata": {},
   "source": [
    "## Begin data cleaning"
   ]
  },
  {
   "cell_type": "code",
   "execution_count": 68,
   "metadata": {
    "collapsed": true
   },
   "outputs": [],
   "source": [
    "#Created a new dataframe called test, so I would not damage the previous one. \n",
    "train_holiday_oil_store_transaction_item_test = train_holiday_oil_store_transaction_item.fillna(False, subset=['onpromotion'])\n",
    "#train_holiday_oil_store_transaction_item_test.show()"
   ]
  },
  {
   "cell_type": "code",
   "execution_count": 20,
   "metadata": {
    "scrolled": true
   },
   "outputs": [
    {
     "data": {
      "text/plain": [
       "DataFrame[item_nbr: int, date: timestamp, store_nbr: int, id: int, onpromotion: boolean, source: string, type: string, locale: string, locale_name: string, description: string, transferred: boolean, dcoilwtico: double, city: string, state: string, store_type: string, cluster: int, transactions: int, family: string, class: int, perishable: int]"
      ]
     },
     "execution_count": 20,
     "metadata": {},
     "output_type": "execute_result"
    }
   ],
   "source": [
    "train_holiday_oil_store_transaction_item.unpersist()"
   ]
  },
  {
   "cell_type": "code",
   "execution_count": 93,
   "metadata": {},
   "outputs": [
    {
     "data": {
      "text/plain": [
       "210654"
      ]
     },
     "execution_count": 93,
     "metadata": {},
     "output_type": "execute_result"
    }
   ],
   "source": [
    "#train_holiday_oil_store_transaction_item_test_003[train_holiday_oil_store_transaction_item_test_003['source'] == 'test'].count()"
   ]
  },
  {
   "cell_type": "markdown",
   "metadata": {},
   "source": [
    "### create a table for on_promotion, encoded"
   ]
  },
  {
   "cell_type": "code",
   "execution_count": 69,
   "metadata": {},
   "outputs": [],
   "source": [
    "# from pyspark.sql import functions as F\n",
    "# onpromotions = train_holiday_oil_store_transaction_item_test.select(\"onpromotion\").distinct().rdd.flatMap(lambda x: x).collect()\n",
    "\n",
    "# exprs = [F.when(F.col(\"onpromotion\") == onpromotion, 1).otherwise(0).alias('onpromotion_' + onpromotion)\n",
    "#          for onpromotion in onpromotions]\n",
    "\n",
    "#train_holiday_oil_store_transaction_item_test.select(\"item_nbr\", *exprs).show()"
   ]
  },
  {
   "cell_type": "code",
   "execution_count": null,
   "metadata": {
    "collapsed": true
   },
   "outputs": [],
   "source": [
    "#item table with onpromotion encoded to 1 and 0\n",
    "# item_onpromotion = train_holiday_oil_store_transaction_item_test.select(\"item_nbr\", *exprs)"
   ]
  },
  {
   "cell_type": "markdown",
   "metadata": {},
   "source": [
    "### Encode item_family and create a new table"
   ]
  },
  {
   "cell_type": "code",
   "execution_count": 70,
   "metadata": {
    "collapsed": true,
    "scrolled": false
   },
   "outputs": [],
   "source": [
    "from pyspark.ml.feature import OneHotEncoder, StringIndexer\n",
    "\n",
    "stringIndexer = StringIndexer(inputCol=\"family\", outputCol=\"familyIndex\")\n",
    "model = stringIndexer.fit(train_holiday_oil_store_transaction_item_test)\n",
    "indexed = model.transform(train_holiday_oil_store_transaction_item_test)\n",
    "\n",
    "encoder = OneHotEncoder(inputCol=\"familyIndex\", outputCol=\"familyIndexVec\")\n",
    "family_encoded = encoder.transform(indexed)\n",
    "\n",
    "train_holiday_oil_store_transaction_item_test = train_holiday_oil_store_transaction_item_test.drop('family')\n",
    "#family_encoded.show()"
   ]
  },
  {
   "cell_type": "code",
   "execution_count": 71,
   "metadata": {
    "collapsed": true
   },
   "outputs": [],
   "source": [
    "train_holiday_oil_store_transaction_item_test = encoder.transform(indexed)\n",
    "#train_holiday_oil_store_transaction_item_test = train_holiday_oil_store_transaction_item_test.drop('family')"
   ]
  },
  {
   "cell_type": "code",
   "execution_count": 72,
   "metadata": {
    "scrolled": false
   },
   "outputs": [
    {
     "name": "stdout",
     "output_type": "stream",
     "text": [
      "+--------+-------------------+---------+--------+-----------+------+----------+--------+-----------+--------------------+-----------+----------+---------+-----------+----------+-------+------------+---------+-----+----------+-----------+--------------+---------+---------------+\n",
      "|item_nbr|               date|store_nbr|      id|onpromotion|source|      type|  locale|locale_name|         description|transferred|dcoilwtico|     city|      state|store_type|cluster|transactions|   family|class|perishable|familyIndex|familyIndexVec|cityIndex|   cityIndexVec|\n",
      "+--------+-------------------+---------+--------+-----------+------+----------+--------+-----------+--------------------+-----------+----------+---------+-----------+----------+-------+------------+---------+-----+----------+-----------+--------------+---------+---------------+\n",
      "|  454593|2013-02-08 00:00:00|        6| 1512928|       null| train|      null|    null|       null|                null|       null|     95.71|    Quito|  Pichincha|         D|     13|        1609|GROCERY I| 1092|         0|        0.0|(32,[0],[1.0])|      0.0| (21,[0],[1.0])|\n",
      "|  454593|2013-04-12 00:00:00|       25| 4186270|       null| train|   Holiday|   Local|     Cuenca| Fundacion de Cuenca|      false|     91.23|  Salinas|Santa Elena|         D|      1|        1099|GROCERY I| 1092|         0|        0.0|(32,[0],[1.0])|     13.0|(21,[13],[1.0])|\n",
      "|  454593|2013-04-21 00:00:00|        4| 4556946|       null| train|   Holiday|   Local|   Riobamba|Cantonizacion de ...|      false|      null|    Quito|  Pichincha|         D|      9|        1726|GROCERY I| 1092|         0|        0.0|(32,[0],[1.0])|      0.0| (21,[0],[1.0])|\n",
      "|  454593|2013-04-22 00:00:00|        7| 4604603|       null| train|      null|    null|       null|                null|       null|     88.81|    Quito|  Pichincha|         D|      8|        1785|GROCERY I| 1092|         0|        0.0|(32,[0],[1.0])|      0.0| (21,[0],[1.0])|\n",
      "|  454593|2013-06-30 00:00:00|       38| 7677915|       null| train|      null|    null|       null|                null|       null|      null|     Loja|       Loja|         D|      4|        2227|GROCERY I| 1092|         0|        0.0|(32,[0],[1.0])|      7.0| (21,[7],[1.0])|\n",
      "|  454593|2013-07-14 00:00:00|        4| 8281360|       null| train|      null|    null|       null|                null|       null|      null|    Quito|  Pichincha|         D|      9|        1629|GROCERY I| 1092|         0|        0.0|(32,[0],[1.0])|      0.0| (21,[0],[1.0])|\n",
      "|  454593|2013-08-03 00:00:00|        3| 9174884|       null| train|      null|    null|       null|                null|       null|      null|    Quito|  Pichincha|         D|      8|        3613|GROCERY I| 1092|         0|        0.0|(32,[0],[1.0])|      0.0| (21,[0],[1.0])|\n",
      "|  454593|2013-11-02 00:00:00|       49|13400928|       null| train|   Holiday|National|    Ecuador|     Dia de Difuntos|      false|      null|    Quito|  Pichincha|         A|     11|        2752|GROCERY I| 1092|         0|        0.0|(32,[0],[1.0])|      0.0| (21,[0],[1.0])|\n",
      "|  454593|2013-11-12 00:00:00|       51|13891979|       null| train|   Holiday|   Local|     Ambato|Independencia de ...|      false|     93.12|Guayaquil|     Guayas|         A|     17|        1481|GROCERY I| 1092|         0|        0.0|(32,[0],[1.0])|      1.0| (21,[1],[1.0])|\n",
      "|  454593|2013-12-01 00:00:00|        3|14776963|       null| train|      null|    null|       null|                null|       null|      null|    Quito|  Pichincha|         D|      8|        3663|GROCERY I| 1092|         0|        0.0|(32,[0],[1.0])|      0.0| (21,[0],[1.0])|\n",
      "|  454593|2013-12-04 00:00:00|       49|14977052|       null| train|      null|    null|       null|                null|       null|     96.97|    Quito|  Pichincha|         A|     11|        2582|GROCERY I| 1092|         0|        0.0|(32,[0],[1.0])|      0.0| (21,[0],[1.0])|\n",
      "|  454593|2013-12-16 00:00:00|       47|15586785|       null| train|      null|    null|       null|                null|       null|     97.18|    Quito|  Pichincha|         A|     14|        4669|GROCERY I| 1092|         0|        0.0|(32,[0],[1.0])|      0.0| (21,[0],[1.0])|\n",
      "|  454593|2013-12-20 00:00:00|       23|15768018|       null| train|      null|    null|       null|                null|       null|     99.11|   Ambato| Tungurahua|         D|      9|        1453|GROCERY I| 1092|         0|        0.0|(32,[0],[1.0])|      4.0| (21,[4],[1.0])|\n",
      "|  454593|2013-12-26 00:00:00|        7|16020613|       null| train|Additional|National|    Ecuador|           Navidad+1|      false|     99.18|    Quito|  Pichincha|         D|      8|        1980|GROCERY I| 1092|         0|        0.0|(32,[0],[1.0])|      0.0| (21,[0],[1.0])|\n",
      "|  454593|2013-12-30 00:00:00|       50|16268912|       null| train|      null|    null|       null|                null|       null|      98.9|   Ambato| Tungurahua|         A|     14|        3876|GROCERY I| 1092|         0|        0.0|(32,[0],[1.0])|      4.0| (21,[4],[1.0])|\n",
      "|  454593|2014-01-25 00:00:00|        7|17819211|       null| train|      null|    null|       null|                null|       null|      null|    Quito|  Pichincha|         D|      8|        1830|GROCERY I| 1092|         0|        0.0|(32,[0],[1.0])|      0.0| (21,[0],[1.0])|\n",
      "|  454593|2014-02-14 00:00:00|       25|18936178|       null| train|      null|    null|       null|                null|       null|    100.31|  Salinas|Santa Elena|         D|      1|        1279|GROCERY I| 1092|         0|        0.0|(32,[0],[1.0])|     13.0|(21,[13],[1.0])|\n",
      "|  454593|2014-02-16 00:00:00|        2|19016982|       null| train|      null|    null|       null|                null|       null|      null|    Quito|  Pichincha|         D|     13|        2024|GROCERY I| 1092|         0|        0.0|(32,[0],[1.0])|      0.0| (21,[0],[1.0])|\n",
      "|  454593|2014-02-21 00:00:00|       27|19284757|       null| train|      null|    null|       null|                null|       null|    102.53|    Daule|     Guayas|         D|      1|        1207|GROCERY I| 1092|         0|        0.0|(32,[0],[1.0])|      8.0| (21,[8],[1.0])|\n",
      "|  454593|2014-03-13 00:00:00|       44|20480222|       null| train|      null|    null|       null|                null|       null|     98.57|    Quito|  Pichincha|         A|      5|        3660|GROCERY I| 1092|         0|        0.0|(32,[0],[1.0])|      0.0| (21,[0],[1.0])|\n",
      "+--------+-------------------+---------+--------+-----------+------+----------+--------+-----------+--------------------+-----------+----------+---------+-----------+----------+-------+------------+---------+-----+----------+-----------+--------------+---------+---------------+\n",
      "only showing top 20 rows\n",
      "\n"
     ]
    }
   ],
   "source": [
    "stringIndexer = StringIndexer(inputCol=\"city\", outputCol=\"cityIndex\")\n",
    "model = stringIndexer.fit(train_holiday_oil_store_transaction_item_test)\n",
    "indexed = model.transform(train_holiday_oil_store_transaction_item_test)\n",
    "\n",
    "encoder = OneHotEncoder(inputCol=\"cityIndex\", outputCol=\"cityIndexVec\")\n",
    "train_holiday_oil_store_transaction_item_test = encoder.transform(indexed)\n",
    "\n",
    "train_holiday_oil_store_transaction_item_test.show()"
   ]
  },
  {
   "cell_type": "code",
   "execution_count": 73,
   "metadata": {
    "collapsed": true
   },
   "outputs": [],
   "source": [
    "train_holiday_oil_store_transaction_item_test = train_holiday_oil_store_transaction_item_test.drop('city')"
   ]
  },
  {
   "cell_type": "code",
   "execution_count": 74,
   "metadata": {},
   "outputs": [
    {
     "name": "stdout",
     "output_type": "stream",
     "text": [
      "+--------+-------------------+---------+--------+-----------+------+----------+--------+-----------+--------------------+-----------+----------+-----------+----------+------------+---------+-----+----------+-----------+--------------+---------+---------------+------------+---------------+\n",
      "|item_nbr|               date|store_nbr|      id|onpromotion|source|      type|  locale|locale_name|         description|transferred|dcoilwtico|      state|store_type|transactions|   family|class|perishable|familyIndex|familyIndexVec|cityIndex|   cityIndexVec|clusterIndex|clusterIndexVec|\n",
      "+--------+-------------------+---------+--------+-----------+------+----------+--------+-----------+--------------------+-----------+----------+-----------+----------+------------+---------+-----+----------+-----------+--------------+---------+---------------+------------+---------------+\n",
      "|  454593|2013-02-08 00:00:00|        6| 1512928|       null| train|      null|    null|       null|                null|       null|     95.71|  Pichincha|         D|        1609|GROCERY I| 1092|         0|        0.0|(32,[0],[1.0])|      0.0| (21,[0],[1.0])|         4.0| (16,[4],[1.0])|\n",
      "|  454593|2013-04-12 00:00:00|       25| 4186270|       null| train|   Holiday|   Local|     Cuenca| Fundacion de Cuenca|      false|     91.23|Santa Elena|         D|        1099|GROCERY I| 1092|         0|        0.0|(32,[0],[1.0])|     13.0|(21,[13],[1.0])|         8.0| (16,[8],[1.0])|\n",
      "|  454593|2013-04-21 00:00:00|        4| 4556946|       null| train|   Holiday|   Local|   Riobamba|Cantonizacion de ...|      false|      null|  Pichincha|         D|        1726|GROCERY I| 1092|         0|        0.0|(32,[0],[1.0])|      0.0| (21,[0],[1.0])|        10.0|(16,[10],[1.0])|\n",
      "|  454593|2013-04-22 00:00:00|        7| 4604603|       null| train|      null|    null|       null|                null|       null|     88.81|  Pichincha|         D|        1785|GROCERY I| 1092|         0|        0.0|(32,[0],[1.0])|      0.0| (21,[0],[1.0])|         5.0| (16,[5],[1.0])|\n",
      "|  454593|2013-06-30 00:00:00|       38| 7677915|       null| train|      null|    null|       null|                null|       null|      null|       Loja|         D|        2227|GROCERY I| 1092|         0|        0.0|(32,[0],[1.0])|      7.0| (21,[7],[1.0])|         7.0| (16,[7],[1.0])|\n",
      "|  454593|2013-07-14 00:00:00|        4| 8281360|       null| train|      null|    null|       null|                null|       null|      null|  Pichincha|         D|        1629|GROCERY I| 1092|         0|        0.0|(32,[0],[1.0])|      0.0| (21,[0],[1.0])|        10.0|(16,[10],[1.0])|\n",
      "|  454593|2013-08-03 00:00:00|        3| 9174884|       null| train|      null|    null|       null|                null|       null|      null|  Pichincha|         D|        3613|GROCERY I| 1092|         0|        0.0|(32,[0],[1.0])|      0.0| (21,[0],[1.0])|         5.0| (16,[5],[1.0])|\n",
      "|  454593|2013-11-02 00:00:00|       49|13400928|       null| train|   Holiday|National|    Ecuador|     Dia de Difuntos|      false|      null|  Pichincha|         A|        2752|GROCERY I| 1092|         0|        0.0|(32,[0],[1.0])|      0.0| (21,[0],[1.0])|         9.0| (16,[9],[1.0])|\n",
      "|  454593|2013-11-12 00:00:00|       51|13891979|       null| train|   Holiday|   Local|     Ambato|Independencia de ...|      false|     93.12|     Guayas|         A|        1481|GROCERY I| 1092|         0|        0.0|(32,[0],[1.0])|      1.0| (21,[1],[1.0])|        13.0|(16,[13],[1.0])|\n",
      "|  454593|2013-12-01 00:00:00|        3|14776963|       null| train|      null|    null|       null|                null|       null|      null|  Pichincha|         D|        3663|GROCERY I| 1092|         0|        0.0|(32,[0],[1.0])|      0.0| (21,[0],[1.0])|         5.0| (16,[5],[1.0])|\n",
      "|  454593|2013-12-04 00:00:00|       49|14977052|       null| train|      null|    null|       null|                null|       null|     96.97|  Pichincha|         A|        2582|GROCERY I| 1092|         0|        0.0|(32,[0],[1.0])|      0.0| (21,[0],[1.0])|         9.0| (16,[9],[1.0])|\n",
      "|  454593|2013-12-16 00:00:00|       47|15586785|       null| train|      null|    null|       null|                null|       null|     97.18|  Pichincha|         A|        4669|GROCERY I| 1092|         0|        0.0|(32,[0],[1.0])|      0.0| (21,[0],[1.0])|         1.0| (16,[1],[1.0])|\n",
      "|  454593|2013-12-20 00:00:00|       23|15768018|       null| train|      null|    null|       null|                null|       null|     99.11| Tungurahua|         D|        1453|GROCERY I| 1092|         0|        0.0|(32,[0],[1.0])|      4.0| (21,[4],[1.0])|        10.0|(16,[10],[1.0])|\n",
      "|  454593|2013-12-26 00:00:00|        7|16020613|       null| train|Additional|National|    Ecuador|           Navidad+1|      false|     99.18|  Pichincha|         D|        1980|GROCERY I| 1092|         0|        0.0|(32,[0],[1.0])|      0.0| (21,[0],[1.0])|         5.0| (16,[5],[1.0])|\n",
      "|  454593|2013-12-30 00:00:00|       50|16268912|       null| train|      null|    null|       null|                null|       null|      98.9| Tungurahua|         A|        3876|GROCERY I| 1092|         0|        0.0|(32,[0],[1.0])|      4.0| (21,[4],[1.0])|         1.0| (16,[1],[1.0])|\n",
      "|  454593|2014-01-25 00:00:00|        7|17819211|       null| train|      null|    null|       null|                null|       null|      null|  Pichincha|         D|        1830|GROCERY I| 1092|         0|        0.0|(32,[0],[1.0])|      0.0| (21,[0],[1.0])|         5.0| (16,[5],[1.0])|\n",
      "|  454593|2014-02-14 00:00:00|       25|18936178|       null| train|      null|    null|       null|                null|       null|    100.31|Santa Elena|         D|        1279|GROCERY I| 1092|         0|        0.0|(32,[0],[1.0])|     13.0|(21,[13],[1.0])|         8.0| (16,[8],[1.0])|\n",
      "|  454593|2014-02-16 00:00:00|        2|19016982|       null| train|      null|    null|       null|                null|       null|      null|  Pichincha|         D|        2024|GROCERY I| 1092|         0|        0.0|(32,[0],[1.0])|      0.0| (21,[0],[1.0])|         4.0| (16,[4],[1.0])|\n",
      "|  454593|2014-02-21 00:00:00|       27|19284757|       null| train|      null|    null|       null|                null|       null|    102.53|     Guayas|         D|        1207|GROCERY I| 1092|         0|        0.0|(32,[0],[1.0])|      8.0| (21,[8],[1.0])|         8.0| (16,[8],[1.0])|\n",
      "|  454593|2014-03-13 00:00:00|       44|20480222|       null| train|      null|    null|       null|                null|       null|     98.57|  Pichincha|         A|        3660|GROCERY I| 1092|         0|        0.0|(32,[0],[1.0])|      0.0| (21,[0],[1.0])|        12.0|(16,[12],[1.0])|\n",
      "+--------+-------------------+---------+--------+-----------+------+----------+--------+-----------+--------------------+-----------+----------+-----------+----------+------------+---------+-----+----------+-----------+--------------+---------+---------------+------------+---------------+\n",
      "only showing top 20 rows\n",
      "\n"
     ]
    }
   ],
   "source": [
    "stringIndexer = StringIndexer(inputCol=\"cluster\", outputCol=\"clusterIndex\")\n",
    "model = stringIndexer.fit(train_holiday_oil_store_transaction_item_test)\n",
    "indexed = model.transform(train_holiday_oil_store_transaction_item_test)\n",
    "\n",
    "encoder = OneHotEncoder(inputCol=\"clusterIndex\", outputCol=\"clusterIndexVec\")\n",
    "train_holiday_oil_store_transaction_item_test = encoder.transform(indexed)\n",
    "\n",
    "train_holiday_oil_store_transaction_item_test = train_holiday_oil_store_transaction_item_test.drop('cluster')\n",
    "train_holiday_oil_store_transaction_item_test.show()"
   ]
  },
  {
   "cell_type": "markdown",
   "metadata": {},
   "source": [
    "### Deal with holiday_event dataframe:"
   ]
  },
  {
   "cell_type": "markdown",
   "metadata": {},
   "source": [
    "## Pay attention to how I fillna with a bolean value here"
   ]
  },
  {
   "cell_type": "code",
   "execution_count": 104,
   "metadata": {
    "collapsed": true
   },
   "outputs": [],
   "source": [
    "#fill NaN value in transferred column:\n",
    "train_holiday_oil_store_transaction_item_test_002 = train_holiday_oil_store_transaction_item_test.fillna('False', subset=['type', 'locale', 'locale_name', 'description'])\n",
    "train_holiday_oil_store_transaction_item_test_003 = train_holiday_oil_store_transaction_item_test_002.fillna({\"transferred\": False})"
   ]
  },
  {
   "cell_type": "code",
   "execution_count": 100,
   "metadata": {},
   "outputs": [
    {
     "data": {
      "text/plain": [
       "3370464"
      ]
     },
     "execution_count": 100,
     "metadata": {},
     "output_type": "execute_result"
    }
   ],
   "source": [
    "train_holiday_oil_store_transaction_item_test_003[train_holiday_oil_store_transaction_item_test_003['source'] == 'test'].count()"
   ]
  },
  {
   "cell_type": "code",
   "execution_count": 106,
   "metadata": {},
   "outputs": [
    {
     "data": {
      "text/plain": [
       "0"
      ]
     },
     "execution_count": 106,
     "metadata": {},
     "output_type": "execute_result"
    }
   ],
   "source": [
    "train_holiday_oil_store_transaction_item_test_003[train_holiday_oil_store_transaction_item_test_003.locale.isNull()].count()"
   ]
  },
  {
   "cell_type": "code",
   "execution_count": 107,
   "metadata": {},
   "outputs": [
    {
     "name": "stdout",
     "output_type": "stream",
     "text": [
      "+--------+-------------------+---------+--------+-----------+------+----------+--------+-----------+--------------------+-----------+----------+-----------+----------+------------+---------+-----+----------+-----------+--------------+---------+---------------+------------+---------------+---------+-------------+\n",
      "|item_nbr|               date|store_nbr|      id|onpromotion|source|      type|  locale|locale_name|         description|transferred|dcoilwtico|      state|store_type|transactions|   family|class|perishable|familyIndex|familyIndexVec|cityIndex|   cityIndexVec|clusterIndex|clusterIndexVec|typeIndex| typeIndexVec|\n",
      "+--------+-------------------+---------+--------+-----------+------+----------+--------+-----------+--------------------+-----------+----------+-----------+----------+------------+---------+-----+----------+-----------+--------------+---------+---------------+------------+---------------+---------+-------------+\n",
      "|  454593|2013-02-08 00:00:00|        6| 1512928|       null| train|     False|   False|      False|               False|      false|     95.71|  Pichincha|         D|        1609|GROCERY I| 1092|         0|        0.0|(32,[0],[1.0])|      0.0| (21,[0],[1.0])|         4.0| (16,[4],[1.0])|      0.0|(6,[0],[1.0])|\n",
      "|  454593|2013-04-12 00:00:00|       25| 4186270|       null| train|   Holiday|   Local|     Cuenca| Fundacion de Cuenca|      false|     91.23|Santa Elena|         D|        1099|GROCERY I| 1092|         0|        0.0|(32,[0],[1.0])|     13.0|(21,[13],[1.0])|         8.0| (16,[8],[1.0])|      1.0|(6,[1],[1.0])|\n",
      "|  454593|2013-04-21 00:00:00|        4| 4556946|       null| train|   Holiday|   Local|   Riobamba|Cantonizacion de ...|      false|      null|  Pichincha|         D|        1726|GROCERY I| 1092|         0|        0.0|(32,[0],[1.0])|      0.0| (21,[0],[1.0])|        10.0|(16,[10],[1.0])|      1.0|(6,[1],[1.0])|\n",
      "|  454593|2013-04-22 00:00:00|        7| 4604603|       null| train|     False|   False|      False|               False|      false|     88.81|  Pichincha|         D|        1785|GROCERY I| 1092|         0|        0.0|(32,[0],[1.0])|      0.0| (21,[0],[1.0])|         5.0| (16,[5],[1.0])|      0.0|(6,[0],[1.0])|\n",
      "|  454593|2013-06-30 00:00:00|       38| 7677915|       null| train|     False|   False|      False|               False|      false|      null|       Loja|         D|        2227|GROCERY I| 1092|         0|        0.0|(32,[0],[1.0])|      7.0| (21,[7],[1.0])|         7.0| (16,[7],[1.0])|      0.0|(6,[0],[1.0])|\n",
      "|  454593|2013-07-14 00:00:00|        4| 8281360|       null| train|     False|   False|      False|               False|      false|      null|  Pichincha|         D|        1629|GROCERY I| 1092|         0|        0.0|(32,[0],[1.0])|      0.0| (21,[0],[1.0])|        10.0|(16,[10],[1.0])|      0.0|(6,[0],[1.0])|\n",
      "|  454593|2013-08-03 00:00:00|        3| 9174884|       null| train|     False|   False|      False|               False|      false|      null|  Pichincha|         D|        3613|GROCERY I| 1092|         0|        0.0|(32,[0],[1.0])|      0.0| (21,[0],[1.0])|         5.0| (16,[5],[1.0])|      0.0|(6,[0],[1.0])|\n",
      "|  454593|2013-11-02 00:00:00|       49|13400928|       null| train|   Holiday|National|    Ecuador|     Dia de Difuntos|      false|      null|  Pichincha|         A|        2752|GROCERY I| 1092|         0|        0.0|(32,[0],[1.0])|      0.0| (21,[0],[1.0])|         9.0| (16,[9],[1.0])|      1.0|(6,[1],[1.0])|\n",
      "|  454593|2013-11-12 00:00:00|       51|13891979|       null| train|   Holiday|   Local|     Ambato|Independencia de ...|      false|     93.12|     Guayas|         A|        1481|GROCERY I| 1092|         0|        0.0|(32,[0],[1.0])|      1.0| (21,[1],[1.0])|        13.0|(16,[13],[1.0])|      1.0|(6,[1],[1.0])|\n",
      "|  454593|2013-12-01 00:00:00|        3|14776963|       null| train|     False|   False|      False|               False|      false|      null|  Pichincha|         D|        3663|GROCERY I| 1092|         0|        0.0|(32,[0],[1.0])|      0.0| (21,[0],[1.0])|         5.0| (16,[5],[1.0])|      0.0|(6,[0],[1.0])|\n",
      "|  454593|2013-12-04 00:00:00|       49|14977052|       null| train|     False|   False|      False|               False|      false|     96.97|  Pichincha|         A|        2582|GROCERY I| 1092|         0|        0.0|(32,[0],[1.0])|      0.0| (21,[0],[1.0])|         9.0| (16,[9],[1.0])|      0.0|(6,[0],[1.0])|\n",
      "|  454593|2013-12-16 00:00:00|       47|15586785|       null| train|     False|   False|      False|               False|      false|     97.18|  Pichincha|         A|        4669|GROCERY I| 1092|         0|        0.0|(32,[0],[1.0])|      0.0| (21,[0],[1.0])|         1.0| (16,[1],[1.0])|      0.0|(6,[0],[1.0])|\n",
      "|  454593|2013-12-20 00:00:00|       23|15768018|       null| train|     False|   False|      False|               False|      false|     99.11| Tungurahua|         D|        1453|GROCERY I| 1092|         0|        0.0|(32,[0],[1.0])|      4.0| (21,[4],[1.0])|        10.0|(16,[10],[1.0])|      0.0|(6,[0],[1.0])|\n",
      "|  454593|2013-12-26 00:00:00|        7|16020613|       null| train|Additional|National|    Ecuador|           Navidad+1|      false|     99.18|  Pichincha|         D|        1980|GROCERY I| 1092|         0|        0.0|(32,[0],[1.0])|      0.0| (21,[0],[1.0])|         5.0| (16,[5],[1.0])|      3.0|(6,[3],[1.0])|\n",
      "|  454593|2013-12-30 00:00:00|       50|16268912|       null| train|     False|   False|      False|               False|      false|      98.9| Tungurahua|         A|        3876|GROCERY I| 1092|         0|        0.0|(32,[0],[1.0])|      4.0| (21,[4],[1.0])|         1.0| (16,[1],[1.0])|      0.0|(6,[0],[1.0])|\n",
      "|  454593|2014-01-25 00:00:00|        7|17819211|       null| train|     False|   False|      False|               False|      false|      null|  Pichincha|         D|        1830|GROCERY I| 1092|         0|        0.0|(32,[0],[1.0])|      0.0| (21,[0],[1.0])|         5.0| (16,[5],[1.0])|      0.0|(6,[0],[1.0])|\n",
      "|  454593|2014-02-14 00:00:00|       25|18936178|       null| train|     False|   False|      False|               False|      false|    100.31|Santa Elena|         D|        1279|GROCERY I| 1092|         0|        0.0|(32,[0],[1.0])|     13.0|(21,[13],[1.0])|         8.0| (16,[8],[1.0])|      0.0|(6,[0],[1.0])|\n",
      "|  454593|2014-02-16 00:00:00|        2|19016982|       null| train|     False|   False|      False|               False|      false|      null|  Pichincha|         D|        2024|GROCERY I| 1092|         0|        0.0|(32,[0],[1.0])|      0.0| (21,[0],[1.0])|         4.0| (16,[4],[1.0])|      0.0|(6,[0],[1.0])|\n",
      "|  454593|2014-02-21 00:00:00|       27|19284757|       null| train|     False|   False|      False|               False|      false|    102.53|     Guayas|         D|        1207|GROCERY I| 1092|         0|        0.0|(32,[0],[1.0])|      8.0| (21,[8],[1.0])|         8.0| (16,[8],[1.0])|      0.0|(6,[0],[1.0])|\n",
      "|  454593|2014-03-13 00:00:00|       44|20480222|       null| train|     False|   False|      False|               False|      false|     98.57|  Pichincha|         A|        3660|GROCERY I| 1092|         0|        0.0|(32,[0],[1.0])|      0.0| (21,[0],[1.0])|        12.0|(16,[12],[1.0])|      0.0|(6,[0],[1.0])|\n",
      "+--------+-------------------+---------+--------+-----------+------+----------+--------+-----------+--------------------+-----------+----------+-----------+----------+------------+---------+-----+----------+-----------+--------------+---------+---------------+------------+---------------+---------+-------------+\n",
      "only showing top 20 rows\n",
      "\n"
     ]
    }
   ],
   "source": [
    "stringIndexer = StringIndexer(inputCol=\"type\", outputCol=\"typeIndex\")\n",
    "model = stringIndexer.fit(train_holiday_oil_store_transaction_item_test_003)\n",
    "indexed = model.transform(train_holiday_oil_store_transaction_item_test_003)\n",
    "\n",
    "encoder = OneHotEncoder(inputCol=\"typeIndex\", outputCol=\"typeIndexVec\")\n",
    "train_holiday_oil_store_transaction_item_test_003 = encoder.transform(indexed)\n",
    "\n",
    "train_holiday_oil_store_transaction_item_test_003.show()"
   ]
  },
  {
   "cell_type": "code",
   "execution_count": 108,
   "metadata": {},
   "outputs": [
    {
     "name": "stdout",
     "output_type": "stream",
     "text": [
      "+--------+-------------------+---------+--------+-----------+------+----------+--------+-----------+--------------------+-----------+----------+-----------+----------+------------+---------+-----+----------+-----------+--------------+---------+---------------+------------+---------------+---------+-------------+----------------+-------------------+\n",
      "|item_nbr|               date|store_nbr|      id|onpromotion|source|      type|  locale|locale_name|         description|transferred|dcoilwtico|      state|store_type|transactions|   family|class|perishable|familyIndex|familyIndexVec|cityIndex|   cityIndexVec|clusterIndex|clusterIndexVec|typeIndex| typeIndexVec|locale_nameIndex|locale_nameIndexVec|\n",
      "+--------+-------------------+---------+--------+-----------+------+----------+--------+-----------+--------------------+-----------+----------+-----------+----------+------------+---------+-----+----------+-----------+--------------+---------+---------------+------------+---------------+---------+-------------+----------------+-------------------+\n",
      "|  454593|2013-02-08 00:00:00|        6| 1512928|       null| train|     False|   False|      False|               False|      false|     95.71|  Pichincha|         D|        1609|GROCERY I| 1092|         0|        0.0|(32,[0],[1.0])|      0.0| (21,[0],[1.0])|         4.0| (16,[4],[1.0])|      0.0|(6,[0],[1.0])|             0.0|     (24,[0],[1.0])|\n",
      "|  454593|2013-04-12 00:00:00|       25| 4186270|       null| train|   Holiday|   Local|     Cuenca| Fundacion de Cuenca|      false|     91.23|Santa Elena|         D|        1099|GROCERY I| 1092|         0|        0.0|(32,[0],[1.0])|     13.0|(21,[13],[1.0])|         8.0| (16,[8],[1.0])|      1.0|(6,[1],[1.0])|             8.0|     (24,[8],[1.0])|\n",
      "|  454593|2013-04-21 00:00:00|        4| 4556946|       null| train|   Holiday|   Local|   Riobamba|Cantonizacion de ...|      false|      null|  Pichincha|         D|        1726|GROCERY I| 1092|         0|        0.0|(32,[0],[1.0])|      0.0| (21,[0],[1.0])|        10.0|(16,[10],[1.0])|      1.0|(6,[1],[1.0])|             4.0|     (24,[4],[1.0])|\n",
      "|  454593|2013-04-22 00:00:00|        7| 4604603|       null| train|     False|   False|      False|               False|      false|     88.81|  Pichincha|         D|        1785|GROCERY I| 1092|         0|        0.0|(32,[0],[1.0])|      0.0| (21,[0],[1.0])|         5.0| (16,[5],[1.0])|      0.0|(6,[0],[1.0])|             0.0|     (24,[0],[1.0])|\n",
      "|  454593|2013-06-30 00:00:00|       38| 7677915|       null| train|     False|   False|      False|               False|      false|      null|       Loja|         D|        2227|GROCERY I| 1092|         0|        0.0|(32,[0],[1.0])|      7.0| (21,[7],[1.0])|         7.0| (16,[7],[1.0])|      0.0|(6,[0],[1.0])|             0.0|     (24,[0],[1.0])|\n",
      "|  454593|2013-07-14 00:00:00|        4| 8281360|       null| train|     False|   False|      False|               False|      false|      null|  Pichincha|         D|        1629|GROCERY I| 1092|         0|        0.0|(32,[0],[1.0])|      0.0| (21,[0],[1.0])|        10.0|(16,[10],[1.0])|      0.0|(6,[0],[1.0])|             0.0|     (24,[0],[1.0])|\n",
      "|  454593|2013-08-03 00:00:00|        3| 9174884|       null| train|     False|   False|      False|               False|      false|      null|  Pichincha|         D|        3613|GROCERY I| 1092|         0|        0.0|(32,[0],[1.0])|      0.0| (21,[0],[1.0])|         5.0| (16,[5],[1.0])|      0.0|(6,[0],[1.0])|             0.0|     (24,[0],[1.0])|\n",
      "|  454593|2013-11-02 00:00:00|       49|13400928|       null| train|   Holiday|National|    Ecuador|     Dia de Difuntos|      false|      null|  Pichincha|         A|        2752|GROCERY I| 1092|         0|        0.0|(32,[0],[1.0])|      0.0| (21,[0],[1.0])|         9.0| (16,[9],[1.0])|      1.0|(6,[1],[1.0])|             1.0|     (24,[1],[1.0])|\n",
      "|  454593|2013-11-12 00:00:00|       51|13891979|       null| train|   Holiday|   Local|     Ambato|Independencia de ...|      false|     93.12|     Guayas|         A|        1481|GROCERY I| 1092|         0|        0.0|(32,[0],[1.0])|      1.0| (21,[1],[1.0])|        13.0|(16,[13],[1.0])|      1.0|(6,[1],[1.0])|             3.0|     (24,[3],[1.0])|\n",
      "|  454593|2013-12-01 00:00:00|        3|14776963|       null| train|     False|   False|      False|               False|      false|      null|  Pichincha|         D|        3663|GROCERY I| 1092|         0|        0.0|(32,[0],[1.0])|      0.0| (21,[0],[1.0])|         5.0| (16,[5],[1.0])|      0.0|(6,[0],[1.0])|             0.0|     (24,[0],[1.0])|\n",
      "|  454593|2013-12-04 00:00:00|       49|14977052|       null| train|     False|   False|      False|               False|      false|     96.97|  Pichincha|         A|        2582|GROCERY I| 1092|         0|        0.0|(32,[0],[1.0])|      0.0| (21,[0],[1.0])|         9.0| (16,[9],[1.0])|      0.0|(6,[0],[1.0])|             0.0|     (24,[0],[1.0])|\n",
      "|  454593|2013-12-16 00:00:00|       47|15586785|       null| train|     False|   False|      False|               False|      false|     97.18|  Pichincha|         A|        4669|GROCERY I| 1092|         0|        0.0|(32,[0],[1.0])|      0.0| (21,[0],[1.0])|         1.0| (16,[1],[1.0])|      0.0|(6,[0],[1.0])|             0.0|     (24,[0],[1.0])|\n",
      "|  454593|2013-12-20 00:00:00|       23|15768018|       null| train|     False|   False|      False|               False|      false|     99.11| Tungurahua|         D|        1453|GROCERY I| 1092|         0|        0.0|(32,[0],[1.0])|      4.0| (21,[4],[1.0])|        10.0|(16,[10],[1.0])|      0.0|(6,[0],[1.0])|             0.0|     (24,[0],[1.0])|\n",
      "|  454593|2013-12-26 00:00:00|        7|16020613|       null| train|Additional|National|    Ecuador|           Navidad+1|      false|     99.18|  Pichincha|         D|        1980|GROCERY I| 1092|         0|        0.0|(32,[0],[1.0])|      0.0| (21,[0],[1.0])|         5.0| (16,[5],[1.0])|      3.0|(6,[3],[1.0])|             1.0|     (24,[1],[1.0])|\n",
      "|  454593|2013-12-30 00:00:00|       50|16268912|       null| train|     False|   False|      False|               False|      false|      98.9| Tungurahua|         A|        3876|GROCERY I| 1092|         0|        0.0|(32,[0],[1.0])|      4.0| (21,[4],[1.0])|         1.0| (16,[1],[1.0])|      0.0|(6,[0],[1.0])|             0.0|     (24,[0],[1.0])|\n",
      "|  454593|2014-01-25 00:00:00|        7|17819211|       null| train|     False|   False|      False|               False|      false|      null|  Pichincha|         D|        1830|GROCERY I| 1092|         0|        0.0|(32,[0],[1.0])|      0.0| (21,[0],[1.0])|         5.0| (16,[5],[1.0])|      0.0|(6,[0],[1.0])|             0.0|     (24,[0],[1.0])|\n",
      "|  454593|2014-02-14 00:00:00|       25|18936178|       null| train|     False|   False|      False|               False|      false|    100.31|Santa Elena|         D|        1279|GROCERY I| 1092|         0|        0.0|(32,[0],[1.0])|     13.0|(21,[13],[1.0])|         8.0| (16,[8],[1.0])|      0.0|(6,[0],[1.0])|             0.0|     (24,[0],[1.0])|\n",
      "|  454593|2014-02-16 00:00:00|        2|19016982|       null| train|     False|   False|      False|               False|      false|      null|  Pichincha|         D|        2024|GROCERY I| 1092|         0|        0.0|(32,[0],[1.0])|      0.0| (21,[0],[1.0])|         4.0| (16,[4],[1.0])|      0.0|(6,[0],[1.0])|             0.0|     (24,[0],[1.0])|\n",
      "|  454593|2014-02-21 00:00:00|       27|19284757|       null| train|     False|   False|      False|               False|      false|    102.53|     Guayas|         D|        1207|GROCERY I| 1092|         0|        0.0|(32,[0],[1.0])|      8.0| (21,[8],[1.0])|         8.0| (16,[8],[1.0])|      0.0|(6,[0],[1.0])|             0.0|     (24,[0],[1.0])|\n",
      "|  454593|2014-03-13 00:00:00|       44|20480222|       null| train|     False|   False|      False|               False|      false|     98.57|  Pichincha|         A|        3660|GROCERY I| 1092|         0|        0.0|(32,[0],[1.0])|      0.0| (21,[0],[1.0])|        12.0|(16,[12],[1.0])|      0.0|(6,[0],[1.0])|             0.0|     (24,[0],[1.0])|\n",
      "+--------+-------------------+---------+--------+-----------+------+----------+--------+-----------+--------------------+-----------+----------+-----------+----------+------------+---------+-----+----------+-----------+--------------+---------+---------------+------------+---------------+---------+-------------+----------------+-------------------+\n",
      "only showing top 20 rows\n",
      "\n"
     ]
    }
   ],
   "source": [
    "stringIndexer = StringIndexer(inputCol=\"locale_name\", outputCol=\"locale_nameIndex\")\n",
    "model = stringIndexer.fit(train_holiday_oil_store_transaction_item_test_003)\n",
    "indexed = model.transform(train_holiday_oil_store_transaction_item_test_003)\n",
    "\n",
    "encoder = OneHotEncoder(inputCol=\"locale_nameIndex\", outputCol=\"locale_nameIndexVec\")\n",
    "train_holiday_oil_store_transaction_item_test_003 = encoder.transform(indexed)\n",
    "\n",
    "train_holiday_oil_store_transaction_item_test_003.show()"
   ]
  },
  {
   "cell_type": "markdown",
   "metadata": {},
   "source": [
    "## Combine all dataframes together, then drop original columns"
   ]
  },
  {
   "cell_type": "code",
   "execution_count": 109,
   "metadata": {
    "collapsed": true
   },
   "outputs": [],
   "source": [
    "train_holiday_oil_store_transaction_item_test_003 = train_holiday_oil_store_transaction_item_test_003.drop('type', 'description', 'transferred', 'state', 'locale', 'locale_name', 'family', 'class')"
   ]
  },
  {
   "cell_type": "code",
   "execution_count": 110,
   "metadata": {},
   "outputs": [],
   "source": [
    "#Cast bolean values to int\n",
    "train_holiday_oil_store_transaction_item_test_003 = train_holiday_oil_store_transaction_item_test_003.withColumn(\"onpromotion\", train_holiday_oil_store_transaction_item_test_003[\"onpromotion\"].cast(\"integer\"))"
   ]
  },
  {
   "cell_type": "code",
   "execution_count": 111,
   "metadata": {},
   "outputs": [
    {
     "name": "stdout",
     "output_type": "stream",
     "text": [
      "+--------+-------------------+---------+-------+-----------+------+----------+----------+------------+----------+-----------+--------------+---------+---------------+------------+---------------+---------+-------------+----------------+-------------------+\n",
      "|item_nbr|               date|store_nbr|     id|onpromotion|source|dcoilwtico|store_type|transactions|perishable|familyIndex|familyIndexVec|cityIndex|   cityIndexVec|clusterIndex|clusterIndexVec|typeIndex| typeIndexVec|locale_nameIndex|locale_nameIndexVec|\n",
      "+--------+-------------------+---------+-------+-----------+------+----------+----------+------------+----------+-----------+--------------+---------+---------------+------------+---------------+---------+-------------+----------------+-------------------+\n",
      "|  454593|2013-02-08 00:00:00|        6|1512928|       null| train|     95.71|         D|        1609|         0|        0.0|(32,[0],[1.0])|      0.0| (21,[0],[1.0])|         4.0| (16,[4],[1.0])|      0.0|(6,[0],[1.0])|             0.0|     (24,[0],[1.0])|\n",
      "|  454593|2013-04-12 00:00:00|       25|4186270|       null| train|     91.23|         D|        1099|         0|        0.0|(32,[0],[1.0])|     13.0|(21,[13],[1.0])|         8.0| (16,[8],[1.0])|      1.0|(6,[1],[1.0])|             8.0|     (24,[8],[1.0])|\n",
      "|  454593|2013-04-21 00:00:00|        4|4556946|       null| train|      null|         D|        1726|         0|        0.0|(32,[0],[1.0])|      0.0| (21,[0],[1.0])|        10.0|(16,[10],[1.0])|      1.0|(6,[1],[1.0])|             4.0|     (24,[4],[1.0])|\n",
      "|  454593|2013-04-22 00:00:00|        7|4604603|       null| train|     88.81|         D|        1785|         0|        0.0|(32,[0],[1.0])|      0.0| (21,[0],[1.0])|         5.0| (16,[5],[1.0])|      0.0|(6,[0],[1.0])|             0.0|     (24,[0],[1.0])|\n",
      "|  454593|2013-06-30 00:00:00|       38|7677915|       null| train|      null|         D|        2227|         0|        0.0|(32,[0],[1.0])|      7.0| (21,[7],[1.0])|         7.0| (16,[7],[1.0])|      0.0|(6,[0],[1.0])|             0.0|     (24,[0],[1.0])|\n",
      "+--------+-------------------+---------+-------+-----------+------+----------+----------+------------+----------+-----------+--------------+---------+---------------+------------+---------------+---------+-------------+----------------+-------------------+\n",
      "only showing top 5 rows\n",
      "\n"
     ]
    }
   ],
   "source": [
    "# stringIndexer = StringIndexer(inputCol=\"onpromotion\", outputCol=\"onpromotionIndex\")\n",
    "# model = stringIndexer.fit(train_holiday_oil_store_transaction_item_test_003)\n",
    "# indexed = model.transform(train_holiday_oil_store_transaction_item_test_003)\n",
    "\n",
    "# encoder = OneHotEncoder(inputCol=\"onpromotionIndex\", outputCol=\"onpromotionIndexVec\")\n",
    "# train_holiday_oil_store_transaction_item_test_004 = encoder.transform(indexed)\n",
    "\n",
    "# train_holiday_oil_store_transaction_item_test_004 = train_holiday_oil_store_transaction_item_test_004.drop('onpromotion')\n",
    "# train_holiday_oil_store_transaction_item_test_004.show()\n",
    "train_holiday_oil_store_transaction_item_test_003.show(5)"
   ]
  },
  {
   "cell_type": "code",
   "execution_count": 112,
   "metadata": {},
   "outputs": [],
   "source": [
    "#fillna for onpromation:\n",
    "train_holiday_oil_store_transaction_item_test_003 = train_holiday_oil_store_transaction_item_test_003.fillna(0, subset=['onpromotion'])"
   ]
  },
  {
   "cell_type": "code",
   "execution_count": 114,
   "metadata": {},
   "outputs": [
    {
     "data": {
      "text/plain": [
       "0"
      ]
     },
     "execution_count": 114,
     "metadata": {},
     "output_type": "execute_result"
    }
   ],
   "source": [
    "train_holiday_oil_store_transaction_item_test_003[train_holiday_oil_store_transaction_item_test_003.onpromotion.isNull()].count()"
   ]
  },
  {
   "cell_type": "markdown",
   "metadata": {},
   "source": [
    "## Deal with store_type"
   ]
  },
  {
   "cell_type": "code",
   "execution_count": 115,
   "metadata": {},
   "outputs": [],
   "source": [
    "stringIndexer = StringIndexer(inputCol=\"store_type\", outputCol=\"store_type_Index\")\n",
    "model = stringIndexer.fit(train_holiday_oil_store_transaction_item_test_003)\n",
    "indexed = model.transform(train_holiday_oil_store_transaction_item_test_003)\n",
    "\n",
    "encoder = OneHotEncoder(inputCol=\"store_type_Index\", outputCol=\"store_type_Index_Vec\")\n",
    "train_holiday_oil_store_transaction_item_test_003 = encoder.transform(indexed)"
   ]
  },
  {
   "cell_type": "code",
   "execution_count": 116,
   "metadata": {},
   "outputs": [
    {
     "name": "stdout",
     "output_type": "stream",
     "text": [
      "+--------+-------------------+---------+--------+-----------+------+----------+------------+----------+-----------+--------------+---------+---------------+------------+---------------+---------+-------------+----------------+-------------------+----------------+--------------------+\n",
      "|item_nbr|               date|store_nbr|      id|onpromotion|source|dcoilwtico|transactions|perishable|familyIndex|familyIndexVec|cityIndex|   cityIndexVec|clusterIndex|clusterIndexVec|typeIndex| typeIndexVec|locale_nameIndex|locale_nameIndexVec|store_type_Index|store_type_Index_Vec|\n",
      "+--------+-------------------+---------+--------+-----------+------+----------+------------+----------+-----------+--------------+---------+---------------+------------+---------------+---------+-------------+----------------+-------------------+----------------+--------------------+\n",
      "|  454593|2013-02-08 00:00:00|        6| 1512928|          0| train|     95.71|        1609|         0|        0.0|(32,[0],[1.0])|      0.0| (21,[0],[1.0])|         4.0| (16,[4],[1.0])|      0.0|(6,[0],[1.0])|             0.0|     (24,[0],[1.0])|             0.0|       (4,[0],[1.0])|\n",
      "|  454593|2013-04-12 00:00:00|       25| 4186270|          0| train|     91.23|        1099|         0|        0.0|(32,[0],[1.0])|     13.0|(21,[13],[1.0])|         8.0| (16,[8],[1.0])|      1.0|(6,[1],[1.0])|             8.0|     (24,[8],[1.0])|             0.0|       (4,[0],[1.0])|\n",
      "|  454593|2013-04-21 00:00:00|        4| 4556946|          0| train|      null|        1726|         0|        0.0|(32,[0],[1.0])|      0.0| (21,[0],[1.0])|        10.0|(16,[10],[1.0])|      1.0|(6,[1],[1.0])|             4.0|     (24,[4],[1.0])|             0.0|       (4,[0],[1.0])|\n",
      "|  454593|2013-04-22 00:00:00|        7| 4604603|          0| train|     88.81|        1785|         0|        0.0|(32,[0],[1.0])|      0.0| (21,[0],[1.0])|         5.0| (16,[5],[1.0])|      0.0|(6,[0],[1.0])|             0.0|     (24,[0],[1.0])|             0.0|       (4,[0],[1.0])|\n",
      "|  454593|2013-06-30 00:00:00|       38| 7677915|          0| train|      null|        2227|         0|        0.0|(32,[0],[1.0])|      7.0| (21,[7],[1.0])|         7.0| (16,[7],[1.0])|      0.0|(6,[0],[1.0])|             0.0|     (24,[0],[1.0])|             0.0|       (4,[0],[1.0])|\n",
      "|  454593|2013-07-14 00:00:00|        4| 8281360|          0| train|      null|        1629|         0|        0.0|(32,[0],[1.0])|      0.0| (21,[0],[1.0])|        10.0|(16,[10],[1.0])|      0.0|(6,[0],[1.0])|             0.0|     (24,[0],[1.0])|             0.0|       (4,[0],[1.0])|\n",
      "|  454593|2013-08-03 00:00:00|        3| 9174884|          0| train|      null|        3613|         0|        0.0|(32,[0],[1.0])|      0.0| (21,[0],[1.0])|         5.0| (16,[5],[1.0])|      0.0|(6,[0],[1.0])|             0.0|     (24,[0],[1.0])|             0.0|       (4,[0],[1.0])|\n",
      "|  454593|2013-11-02 00:00:00|       49|13400928|          0| train|      null|        2752|         0|        0.0|(32,[0],[1.0])|      0.0| (21,[0],[1.0])|         9.0| (16,[9],[1.0])|      1.0|(6,[1],[1.0])|             1.0|     (24,[1],[1.0])|             1.0|       (4,[1],[1.0])|\n",
      "|  454593|2013-11-12 00:00:00|       51|13891979|          0| train|     93.12|        1481|         0|        0.0|(32,[0],[1.0])|      1.0| (21,[1],[1.0])|        13.0|(16,[13],[1.0])|      1.0|(6,[1],[1.0])|             3.0|     (24,[3],[1.0])|             1.0|       (4,[1],[1.0])|\n",
      "|  454593|2013-12-01 00:00:00|        3|14776963|          0| train|      null|        3663|         0|        0.0|(32,[0],[1.0])|      0.0| (21,[0],[1.0])|         5.0| (16,[5],[1.0])|      0.0|(6,[0],[1.0])|             0.0|     (24,[0],[1.0])|             0.0|       (4,[0],[1.0])|\n",
      "|  454593|2013-12-04 00:00:00|       49|14977052|          0| train|     96.97|        2582|         0|        0.0|(32,[0],[1.0])|      0.0| (21,[0],[1.0])|         9.0| (16,[9],[1.0])|      0.0|(6,[0],[1.0])|             0.0|     (24,[0],[1.0])|             1.0|       (4,[1],[1.0])|\n",
      "|  454593|2013-12-16 00:00:00|       47|15586785|          0| train|     97.18|        4669|         0|        0.0|(32,[0],[1.0])|      0.0| (21,[0],[1.0])|         1.0| (16,[1],[1.0])|      0.0|(6,[0],[1.0])|             0.0|     (24,[0],[1.0])|             1.0|       (4,[1],[1.0])|\n",
      "|  454593|2013-12-20 00:00:00|       23|15768018|          0| train|     99.11|        1453|         0|        0.0|(32,[0],[1.0])|      4.0| (21,[4],[1.0])|        10.0|(16,[10],[1.0])|      0.0|(6,[0],[1.0])|             0.0|     (24,[0],[1.0])|             0.0|       (4,[0],[1.0])|\n",
      "|  454593|2013-12-26 00:00:00|        7|16020613|          0| train|     99.18|        1980|         0|        0.0|(32,[0],[1.0])|      0.0| (21,[0],[1.0])|         5.0| (16,[5],[1.0])|      3.0|(6,[3],[1.0])|             1.0|     (24,[1],[1.0])|             0.0|       (4,[0],[1.0])|\n",
      "|  454593|2013-12-30 00:00:00|       50|16268912|          0| train|      98.9|        3876|         0|        0.0|(32,[0],[1.0])|      4.0| (21,[4],[1.0])|         1.0| (16,[1],[1.0])|      0.0|(6,[0],[1.0])|             0.0|     (24,[0],[1.0])|             1.0|       (4,[1],[1.0])|\n",
      "|  454593|2014-01-25 00:00:00|        7|17819211|          0| train|      null|        1830|         0|        0.0|(32,[0],[1.0])|      0.0| (21,[0],[1.0])|         5.0| (16,[5],[1.0])|      0.0|(6,[0],[1.0])|             0.0|     (24,[0],[1.0])|             0.0|       (4,[0],[1.0])|\n",
      "|  454593|2014-02-14 00:00:00|       25|18936178|          0| train|    100.31|        1279|         0|        0.0|(32,[0],[1.0])|     13.0|(21,[13],[1.0])|         8.0| (16,[8],[1.0])|      0.0|(6,[0],[1.0])|             0.0|     (24,[0],[1.0])|             0.0|       (4,[0],[1.0])|\n",
      "|  454593|2014-02-16 00:00:00|        2|19016982|          0| train|      null|        2024|         0|        0.0|(32,[0],[1.0])|      0.0| (21,[0],[1.0])|         4.0| (16,[4],[1.0])|      0.0|(6,[0],[1.0])|             0.0|     (24,[0],[1.0])|             0.0|       (4,[0],[1.0])|\n",
      "|  454593|2014-02-21 00:00:00|       27|19284757|          0| train|    102.53|        1207|         0|        0.0|(32,[0],[1.0])|      8.0| (21,[8],[1.0])|         8.0| (16,[8],[1.0])|      0.0|(6,[0],[1.0])|             0.0|     (24,[0],[1.0])|             0.0|       (4,[0],[1.0])|\n",
      "|  454593|2014-03-13 00:00:00|       44|20480222|          0| train|     98.57|        3660|         0|        0.0|(32,[0],[1.0])|      0.0| (21,[0],[1.0])|        12.0|(16,[12],[1.0])|      0.0|(6,[0],[1.0])|             0.0|     (24,[0],[1.0])|             1.0|       (4,[1],[1.0])|\n",
      "+--------+-------------------+---------+--------+-----------+------+----------+------------+----------+-----------+--------------+---------+---------------+------------+---------------+---------+-------------+----------------+-------------------+----------------+--------------------+\n",
      "only showing top 20 rows\n",
      "\n"
     ]
    }
   ],
   "source": [
    "train_holiday_oil_store_transaction_item_test_003 = train_holiday_oil_store_transaction_item_test_003.drop('store_type')\n",
    "train_holiday_oil_store_transaction_item_test_003.show()"
   ]
  },
  {
   "cell_type": "code",
   "execution_count": 87,
   "metadata": {},
   "outputs": [
    {
     "data": {
      "text/plain": [
       "['item_nbr',\n",
       " 'date',\n",
       " 'store_nbr',\n",
       " 'id',\n",
       " 'onpromotion',\n",
       " 'source',\n",
       " 'dcoilwtico',\n",
       " 'transactions',\n",
       " 'perishable',\n",
       " 'familyIndex',\n",
       " 'familyIndexVec',\n",
       " 'cityIndex',\n",
       " 'cityIndexVec',\n",
       " 'clusterIndex',\n",
       " 'clusterIndexVec',\n",
       " 'typeIndex',\n",
       " 'typeIndexVec',\n",
       " 'locale_nameIndex',\n",
       " 'locale_nameIndexVec',\n",
       " 'store_type_Index',\n",
       " 'store_type_Index_Vec']"
      ]
     },
     "execution_count": 87,
     "metadata": {},
     "output_type": "execute_result"
    }
   ],
   "source": [
    "train_holiday_oil_store_transaction_item_test_003.columns"
   ]
  },
  {
   "cell_type": "code",
   "execution_count": 88,
   "metadata": {},
   "outputs": [],
   "source": [
    "#train_holiday_oil_store_transaction_item_test_004.where(train_holiday_oil_store_transaction_item_test_004['transactions'].isNull()).count()"
   ]
  },
  {
   "cell_type": "code",
   "execution_count": 117,
   "metadata": {},
   "outputs": [
    {
     "data": {
      "text/plain": [
       "3370464"
      ]
     },
     "execution_count": 117,
     "metadata": {},
     "output_type": "execute_result"
    }
   ],
   "source": [
    "train_holiday_oil_store_transaction_item_test_003.where(train_holiday_oil_store_transaction_item_test_003['source'] == 'test').count()"
   ]
  },
  {
   "cell_type": "code",
   "execution_count": 119,
   "metadata": {},
   "outputs": [
    {
     "data": {
      "text/plain": [
       "39768779"
      ]
     },
     "execution_count": 119,
     "metadata": {},
     "output_type": "execute_result"
    }
   ],
   "source": [
    "train_holiday_oil_store_transaction_item_test_003[train_holiday_oil_store_transaction_item_test_003.dcoilwtico.isNull()].count()"
   ]
  },
  {
   "cell_type": "markdown",
   "metadata": {
    "collapsed": true
   },
   "source": [
    "##  (drop NaN oil temporary)"
   ]
  },
  {
   "cell_type": "code",
   "execution_count": 120,
   "metadata": {},
   "outputs": [],
   "source": [
    "#without oil column\n",
    "train_holiday_oil_store_transaction_item_test_004 = train_holiday_oil_store_transaction_item_test_003.drop('dcoilwtico')"
   ]
  },
  {
   "cell_type": "markdown",
   "metadata": {
    "collapsed": true
   },
   "source": [
    "## Separate Train set and Test set"
   ]
  },
  {
   "cell_type": "code",
   "execution_count": 121,
   "metadata": {
    "collapsed": true
   },
   "outputs": [],
   "source": [
    "train_001 = train_holiday_oil_store_transaction_item_test_004.filter(train_holiday_oil_store_transaction_item_test_003.source == 'train')\n",
    "test_001 = train_holiday_oil_store_transaction_item_test_004.filter(train_holiday_oil_store_transaction_item_test_003.source == 'test')"
   ]
  },
  {
   "cell_type": "code",
   "execution_count": null,
   "metadata": {
    "collapsed": true
   },
   "outputs": [],
   "source": []
  },
  {
   "cell_type": "code",
   "execution_count": 122,
   "metadata": {
    "collapsed": true
   },
   "outputs": [],
   "source": [
    "train_target = train.select('id', 'unit_sales')"
   ]
  },
  {
   "cell_type": "code",
   "execution_count": 123,
   "metadata": {
    "collapsed": true
   },
   "outputs": [],
   "source": [
    "train_002 = train_001.join(train_target, 'id', 'left_outer')"
   ]
  },
  {
   "cell_type": "code",
   "execution_count": 124,
   "metadata": {
    "collapsed": true
   },
   "outputs": [],
   "source": [
    "train_003 = train_002.drop('transactions', 'dcoilwtico')"
   ]
  },
  {
   "cell_type": "code",
   "execution_count": 65,
   "metadata": {},
   "outputs": [
    {
     "data": {
      "text/plain": [
       "3370464"
      ]
     },
     "execution_count": 65,
     "metadata": {},
     "output_type": "execute_result"
    }
   ],
   "source": [
    "test.count()"
   ]
  },
  {
   "cell_type": "code",
   "execution_count": 125,
   "metadata": {},
   "outputs": [
    {
     "data": {
      "text/plain": [
       "3370464"
      ]
     },
     "execution_count": 125,
     "metadata": {},
     "output_type": "execute_result"
    }
   ],
   "source": [
    "test_001.count()"
   ]
  },
  {
   "cell_type": "code",
   "execution_count": null,
   "metadata": {
    "scrolled": false
   },
   "outputs": [],
   "source": [
    "test_001.show()"
   ]
  },
  {
   "cell_type": "code",
   "execution_count": null,
   "metadata": {},
   "outputs": [],
   "source": [
    "train_holiday_oil_store_transaction_item_test.unpersist()\n",
    "train_holiday_oil_store_transaction_item_test_002.unpersist()\n",
    "#train_holiday_oil_store_transaction_item_test_003.unpersist()"
   ]
  },
  {
   "cell_type": "code",
   "execution_count": 126,
   "metadata": {
    "collapsed": true
   },
   "outputs": [],
   "source": [
    "test_002 = test_001.drop('transactions', 'dcoilwtico')"
   ]
  },
  {
   "cell_type": "code",
   "execution_count": 127,
   "metadata": {},
   "outputs": [
    {
     "name": "stdout",
     "output_type": "stream",
     "text": [
      "['id', 'item_nbr', 'date', 'store_nbr', 'onpromotion', 'source', 'perishable', 'familyIndex', 'familyIndexVec', 'cityIndex', 'cityIndexVec', 'clusterIndex', 'clusterIndexVec', 'typeIndex', 'typeIndexVec', 'locale_nameIndex', 'locale_nameIndexVec', 'store_type_Index', 'store_type_Index_Vec', 'unit_sales']\n"
     ]
    }
   ],
   "source": [
    "print(train_003.columns)"
   ]
  },
  {
   "cell_type": "code",
   "execution_count": 128,
   "metadata": {},
   "outputs": [
    {
     "name": "stdout",
     "output_type": "stream",
     "text": [
      "['item_nbr', 'date', 'store_nbr', 'id', 'onpromotion', 'source', 'perishable', 'familyIndex', 'familyIndexVec', 'cityIndex', 'cityIndexVec', 'clusterIndex', 'clusterIndexVec', 'typeIndex', 'typeIndexVec', 'locale_nameIndex', 'locale_nameIndexVec', 'store_type_Index', 'store_type_Index_Vec']\n"
     ]
    }
   ],
   "source": [
    "print(test_002.columns)"
   ]
  },
  {
   "cell_type": "markdown",
   "metadata": {},
   "source": [
    "# Begin training and predicting"
   ]
  },
  {
   "cell_type": "code",
   "execution_count": 129,
   "metadata": {},
   "outputs": [],
   "source": [
    "from pyspark.mllib.regression import LabeledPoint"
   ]
  },
  {
   "cell_type": "code",
   "execution_count": 131,
   "metadata": {},
   "outputs": [
    {
     "data": {
      "text/plain": [
       "[('id', 'int'),\n",
       " ('item_nbr', 'int'),\n",
       " ('date', 'timestamp'),\n",
       " ('store_nbr', 'int'),\n",
       " ('onpromotion', 'int'),\n",
       " ('source', 'string'),\n",
       " ('perishable', 'int'),\n",
       " ('familyIndex', 'double'),\n",
       " ('familyIndexVec', 'vector'),\n",
       " ('cityIndex', 'double'),\n",
       " ('cityIndexVec', 'vector'),\n",
       " ('clusterIndex', 'double'),\n",
       " ('clusterIndexVec', 'vector'),\n",
       " ('typeIndex', 'double'),\n",
       " ('typeIndexVec', 'vector'),\n",
       " ('locale_nameIndex', 'double'),\n",
       " ('locale_nameIndexVec', 'vector'),\n",
       " ('store_type_Index', 'double'),\n",
       " ('store_type_Index_Vec', 'vector'),\n",
       " ('unit_sales', 'double')]"
      ]
     },
     "execution_count": 131,
     "metadata": {},
     "output_type": "execute_result"
    }
   ],
   "source": [
    "train_003.dtypes"
   ]
  },
  {
   "cell_type": "code",
   "execution_count": 87,
   "metadata": {
    "collapsed": true
   },
   "outputs": [],
   "source": [
    "#check dtypes before preceding!!\n",
    "# train_004 = train_004.withColumn(\"unit_sales\", train_004[\"unit_sales\"].cast(\"float\"))\n",
    "# train_004 = train_004.withColumn(\"store_nbr\", train_004[\"store_nbr\"].cast(\"float\"))\n",
    "# train_004 = train_004.withColumn(\"perishable\", train_004[\"perishable\"].cast(\"float\"))"
   ]
  },
  {
   "cell_type": "code",
   "execution_count": 134,
   "metadata": {},
   "outputs": [
    {
     "data": {
      "text/plain": [
       "[LabeledPoint(2.0, [25.0,0.0,0.0,13.0,8.0,1.0,1.0,0.0]),\n",
       " LabeledPoint(4.0, [25.0,0.0,2.0,13.0,8.0,1.0,1.0,0.0]),\n",
       " LabeledPoint(2.0, [25.0,0.0,0.0,13.0,8.0,1.0,1.0,0.0]),\n",
       " LabeledPoint(1.0, [25.0,0.0,0.0,13.0,8.0,1.0,1.0,0.0]),\n",
       " LabeledPoint(2.0, [1.0,0.0,0.0,0.0,4.0,0.0,0.0,0.0])]"
      ]
     },
     "execution_count": 134,
     "metadata": {},
     "output_type": "execute_result"
    }
   ],
   "source": [
    "train_004 = train_003.select('unit_sales', 'store_nbr', 'perishable', 'familyIndex', \\\n",
    "                             'cityIndex',  'clusterIndex',  'typeIndex', \\\n",
    "                             'locale_nameIndex',  \\\n",
    "                              'store_type_Index')\n",
    "temp = train_004.rdd.map(lambda line:LabeledPoint(line[0],[line[1:]]))\n",
    "temp.take(5)"
   ]
  },
  {
   "cell_type": "code",
   "execution_count": 135,
   "metadata": {
    "collapsed": true
   },
   "outputs": [],
   "source": [
    "from pyspark.mllib.util import MLUtils\n",
    "from pyspark.mllib.linalg import Vectors\n",
    "from pyspark.mllib.feature import StandardScaler"
   ]
  },
  {
   "cell_type": "code",
   "execution_count": 136,
   "metadata": {},
   "outputs": [
    {
     "data": {
      "text/plain": [
       "[(25, 0, 0.0, 13.0, 8.0, 1.0, 1.0, 0.0),\n",
       " (25, 0, 2.0, 13.0, 8.0, 1.0, 1.0, 0.0),\n",
       " (25, 0, 0.0, 13.0, 8.0, 1.0, 1.0, 0.0),\n",
       " (25, 0, 0.0, 13.0, 8.0, 1.0, 1.0, 0.0),\n",
       " (1, 0, 0.0, 0.0, 4.0, 0.0, 0.0, 0.0)]"
      ]
     },
     "execution_count": 136,
     "metadata": {},
     "output_type": "execute_result"
    }
   ],
   "source": [
    "features = train_004.rdd.map(lambda row: row[1:])\n",
    "features.take(5)"
   ]
  },
  {
   "cell_type": "code",
   "execution_count": 137,
   "metadata": {
    "collapsed": true
   },
   "outputs": [],
   "source": [
    "standardizer = StandardScaler()\n",
    "model = standardizer.fit(features)\n",
    "features_transform = model.transform(features)"
   ]
  },
  {
   "cell_type": "code",
   "execution_count": 138,
   "metadata": {},
   "outputs": [
    {
     "data": {
      "text/plain": [
       "[DenseVector([1.531, 0.0, 0.0, 2.2903, 1.8854, 1.2746, 0.2836, 0.0]),\n",
       " DenseVector([1.531, 0.0, 0.4524, 2.2903, 1.8854, 1.2746, 0.2836, 0.0]),\n",
       " DenseVector([1.531, 0.0, 0.0, 2.2903, 1.8854, 1.2746, 0.2836, 0.0]),\n",
       " DenseVector([1.531, 0.0, 0.0, 2.2903, 1.8854, 1.2746, 0.2836, 0.0]),\n",
       " DenseVector([0.0612, 0.0, 0.0, 0.0, 0.9427, 0.0, 0.0, 0.0])]"
      ]
     },
     "execution_count": 138,
     "metadata": {},
     "output_type": "execute_result"
    }
   ],
   "source": [
    "features_transform.take(5)"
   ]
  },
  {
   "cell_type": "code",
   "execution_count": 141,
   "metadata": {},
   "outputs": [
    {
     "data": {
      "text/plain": [
       "[2.0, 4.0, 2.0, 1.0, 2.0]"
      ]
     },
     "execution_count": 141,
     "metadata": {},
     "output_type": "execute_result"
    }
   ],
   "source": [
    "lab = train_004.rdd.map(lambda row: row[0])\n",
    "lab.take(5)"
   ]
  },
  {
   "cell_type": "code",
   "execution_count": 142,
   "metadata": {},
   "outputs": [
    {
     "data": {
      "text/plain": [
       "[(2.0, DenseVector([1.531, 0.0, 0.0, 2.2903, 1.8854, 1.2746, 0.2836, 0.0])),\n",
       " (4.0, DenseVector([1.531, 0.0, 0.4524, 2.2903, 1.8854, 1.2746, 0.2836, 0.0])),\n",
       " (2.0, DenseVector([1.531, 0.0, 0.0, 2.2903, 1.8854, 1.2746, 0.2836, 0.0])),\n",
       " (1.0, DenseVector([1.531, 0.0, 0.0, 2.2903, 1.8854, 1.2746, 0.2836, 0.0])),\n",
       " (2.0, DenseVector([0.0612, 0.0, 0.0, 0.0, 0.9427, 0.0, 0.0, 0.0]))]"
      ]
     },
     "execution_count": 142,
     "metadata": {},
     "output_type": "execute_result"
    }
   ],
   "source": [
    "transformedData = lab.zip(features_transform)\n",
    "transformedData.take(5)"
   ]
  },
  {
   "cell_type": "code",
   "execution_count": 143,
   "metadata": {
    "collapsed": true
   },
   "outputs": [],
   "source": [
    "transformedData = transformedData.map(lambda row: LabeledPoint(row[0],[row[1]]))"
   ]
  },
  {
   "cell_type": "code",
   "execution_count": 144,
   "metadata": {
    "collapsed": true
   },
   "outputs": [],
   "source": [
    "trainingData, testingData = transformedData.randomSplit([.8,.2],seed=1234)"
   ]
  },
  {
   "cell_type": "code",
   "execution_count": null,
   "metadata": {},
   "outputs": [
    {
     "name": "stderr",
     "output_type": "stream",
     "text": [
      "/usr/local/opt/apache-spark/libexec/python/pyspark/mllib/regression.py:281: UserWarning: Deprecated in 2.0.0. Use ml.regression.LinearRegression.\n",
      "  warnings.warn(\"Deprecated in 2.0.0. Use ml.regression.LinearRegression.\")\n"
     ]
    }
   ],
   "source": [
    "from pyspark.mllib.regression import LinearRegressionWithSGD\n",
    "linearModel = LinearRegressionWithSGD.train(trainingData,1000,.2)"
   ]
  },
  {
   "cell_type": "code",
   "execution_count": null,
   "metadata": {
    "collapsed": true
   },
   "outputs": [],
   "source": [
    "testingData.take(10)"
   ]
  },
  {
   "cell_type": "markdown",
   "metadata": {},
   "source": [
    "# Checking the Model with Metrics"
   ]
  },
  {
   "cell_type": "code",
   "execution_count": null,
   "metadata": {
    "collapsed": true
   },
   "outputs": [],
   "source": [
    "from pyspark.mllib.evaluation import RegressionMetrics\n",
    "prediObserRDDin = trainingData.map(lambda row: (float(linearModel.predict(row.features[0])),row.label))\n",
    "metrics = RegressionMetrics(prediObserRDDin)\n",
    "metrics.r2"
   ]
  },
  {
   "cell_type": "code",
   "execution_count": null,
   "metadata": {
    "collapsed": true
   },
   "outputs": [],
   "source": []
  },
  {
   "cell_type": "code",
   "execution_count": null,
   "metadata": {
    "collapsed": true
   },
   "outputs": [],
   "source": []
  }
 ],
 "metadata": {
  "kernelspec": {
   "display_name": "Python 3",
   "language": "python",
   "name": "python3"
  },
  "language_info": {
   "codemirror_mode": {
    "name": "ipython",
    "version": 3
   },
   "file_extension": ".py",
   "mimetype": "text/x-python",
   "name": "python",
   "nbconvert_exporter": "python",
   "pygments_lexer": "ipython3",
   "version": "3.6.1"
  }
 },
 "nbformat": 4,
 "nbformat_minor": 2
}
