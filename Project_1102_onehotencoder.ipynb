{
 "cells": [
  {
   "cell_type": "code",
   "execution_count": 1,
   "metadata": {
    "collapsed": true
   },
   "outputs": [],
   "source": [
    "import pandas as pd\n",
    "import numpy as np\n",
    "import seaborn as sns\n",
    "import matplotlib.pyplot as plt\n",
    "%matplotlib inline\n",
    "import findspark\n",
    "findspark.init()\n",
    "import pyspark\n",
    "from pyspark.sql import SparkSession\n",
    "spark = SparkSession.builder.appName(\"SalesPrediction1026\").getOrCreate()"
   ]
  },
  {
   "cell_type": "code",
   "execution_count": 2,
   "metadata": {
    "collapsed": true
   },
   "outputs": [],
   "source": [
    "from pyspark.sql.functions import lit\n",
    "from pyspark.sql import functions"
   ]
  },
  {
   "cell_type": "code",
   "execution_count": 3,
   "metadata": {
    "collapsed": true
   },
   "outputs": [],
   "source": [
    "#from pyspark.sql.functions import broadcast"
   ]
  },
  {
   "cell_type": "code",
   "execution_count": 3,
   "metadata": {
    "collapsed": true
   },
   "outputs": [],
   "source": [
    "holidays_events = spark.read.csv(\"holidays_events.csv\", header=True, inferSchema=True)\n",
    "items = spark.read.csv(\"items.csv\", header=True, inferSchema=True)\n",
    "oil = spark.read.csv(\"oil.csv\", header=True, inferSchema=True)\n",
    "stores = spark.read.csv(\"stores.csv\", header=True, inferSchema=True)\n",
    "test = spark.read.csv(\"test.csv\", header=True, inferSchema=True)\n",
    "train = spark.read.csv(\"train.csv\", header=True, inferSchema=True)\n",
    "#train_sample = train.sample(False, 0.05, 1)\n",
    "transactions = spark.read.csv(\"transactions.csv\", header=True, inferSchema=True)"
   ]
  },
  {
   "cell_type": "code",
   "execution_count": 4,
   "metadata": {
    "collapsed": true
   },
   "outputs": [],
   "source": [
    "#deal with oil dataframe in pandas with backfill, then transform it to spark dataframe\n",
    "oil_pandas = pd.read_csv(\"oil.csv\")"
   ]
  },
  {
   "cell_type": "code",
   "execution_count": 5,
   "metadata": {
    "collapsed": true
   },
   "outputs": [],
   "source": [
    "#spark.sql(\"\"\"SET spark.sql.autoBroadcastJoinThreshold = -1\"\"\")\n",
    "spark.conf.set(\"spark.sql.autoBroadcastJoinThreshold\", -1)"
   ]
  },
  {
   "cell_type": "code",
   "execution_count": 6,
   "metadata": {},
   "outputs": [
    {
     "name": "stdout",
     "output_type": "stream",
     "text": [
      "+---+-------------------+---------+--------+-----------+------+\n",
      "| id|               date|store_nbr|item_nbr|onpromotion|source|\n",
      "+---+-------------------+---------+--------+-----------+------+\n",
      "|  0|2013-01-01 00:00:00|       25|  103665|       null| train|\n",
      "|  1|2013-01-01 00:00:00|       25|  105574|       null| train|\n",
      "|  2|2013-01-01 00:00:00|       25|  105575|       null| train|\n",
      "|  3|2013-01-01 00:00:00|       25|  108079|       null| train|\n",
      "|  4|2013-01-01 00:00:00|       25|  108701|       null| train|\n",
      "|  5|2013-01-01 00:00:00|       25|  108786|       null| train|\n",
      "|  6|2013-01-01 00:00:00|       25|  108797|       null| train|\n",
      "|  7|2013-01-01 00:00:00|       25|  108952|       null| train|\n",
      "|  8|2013-01-01 00:00:00|       25|  111397|       null| train|\n",
      "|  9|2013-01-01 00:00:00|       25|  114790|       null| train|\n",
      "| 10|2013-01-01 00:00:00|       25|  114800|       null| train|\n",
      "| 11|2013-01-01 00:00:00|       25|  115267|       null| train|\n",
      "| 12|2013-01-01 00:00:00|       25|  115611|       null| train|\n",
      "| 13|2013-01-01 00:00:00|       25|  115693|       null| train|\n",
      "| 14|2013-01-01 00:00:00|       25|  115720|       null| train|\n",
      "| 15|2013-01-01 00:00:00|       25|  115850|       null| train|\n",
      "| 16|2013-01-01 00:00:00|       25|  115891|       null| train|\n",
      "| 17|2013-01-01 00:00:00|       25|  115892|       null| train|\n",
      "| 18|2013-01-01 00:00:00|       25|  115894|       null| train|\n",
      "| 19|2013-01-01 00:00:00|       25|  119024|       null| train|\n",
      "+---+-------------------+---------+--------+-----------+------+\n",
      "only showing top 20 rows\n",
      "\n"
     ]
    }
   ],
   "source": [
    "#combine test set and train set together\n",
    "#add 'source' column to both train and test set so we can separate them after data cleaning\n",
    "train = train.withColumn('source', lit('train'))\n",
    "test = test.withColumn('source', lit('test'))\n",
    "train_without_target = train.select(\"id\", 'date', 'store_nbr', 'item_nbr', 'onpromotion', 'source')\n",
    "#use .union() to add them together\n",
    "train_test_set = train_without_target.union(test)\n",
    "train_test_set.show()"
   ]
  },
  {
   "cell_type": "markdown",
   "metadata": {},
   "source": [
    "## Join train and holiday_events dataframe"
   ]
  },
  {
   "cell_type": "code",
   "execution_count": 7,
   "metadata": {
    "scrolled": false
   },
   "outputs": [
    {
     "name": "stdout",
     "output_type": "stream",
     "text": [
      "+-------------------+-------+---------+--------+-----------+------+----+------+-----------+-----------+-----------+\n",
      "|               date|     id|store_nbr|item_nbr|onpromotion|source|type|locale|locale_name|description|transferred|\n",
      "+-------------------+-------+---------+--------+-----------+------+----+------+-----------+-----------+-----------+\n",
      "|2013-05-06 00:00:00|5202345|        1|  103520|       null| train|null|  null|       null|       null|       null|\n",
      "|2013-05-06 00:00:00|5202346|        1|  105574|       null| train|null|  null|       null|       null|       null|\n",
      "+-------------------+-------+---------+--------+-----------+------+----+------+-----------+-----------+-----------+\n",
      "only showing top 2 rows\n",
      "\n"
     ]
    }
   ],
   "source": [
    "train_holiday = train_test_set.join(holidays_events, 'date', 'left_outer')\n",
    "train_holiday.show(2)"
   ]
  },
  {
   "cell_type": "code",
   "execution_count": 8,
   "metadata": {},
   "outputs": [
    {
     "data": {
      "text/plain": [
       "DataFrame[id: int, date: timestamp, store_nbr: int, item_nbr: int, onpromotion: boolean, source: string]"
      ]
     },
     "execution_count": 8,
     "metadata": {},
     "output_type": "execute_result"
    }
   ],
   "source": [
    "train_test_set.unpersist()"
   ]
  },
  {
   "cell_type": "markdown",
   "metadata": {},
   "source": [
    "## Clean Oil Dataframe"
   ]
  },
  {
   "cell_type": "code",
   "execution_count": 9,
   "metadata": {},
   "outputs": [
    {
     "data": {
      "text/html": [
       "<div>\n",
       "<style>\n",
       "    .dataframe thead tr:only-child th {\n",
       "        text-align: right;\n",
       "    }\n",
       "\n",
       "    .dataframe thead th {\n",
       "        text-align: left;\n",
       "    }\n",
       "\n",
       "    .dataframe tbody tr th {\n",
       "        vertical-align: top;\n",
       "    }\n",
       "</style>\n",
       "<table border=\"1\" class=\"dataframe\">\n",
       "  <thead>\n",
       "    <tr style=\"text-align: right;\">\n",
       "      <th></th>\n",
       "      <th>date</th>\n",
       "      <th>dcoilwtico</th>\n",
       "    </tr>\n",
       "  </thead>\n",
       "  <tbody>\n",
       "    <tr>\n",
       "      <th>0</th>\n",
       "      <td>2013-01-01</td>\n",
       "      <td>93.14</td>\n",
       "    </tr>\n",
       "    <tr>\n",
       "      <th>1</th>\n",
       "      <td>2013-01-02</td>\n",
       "      <td>93.14</td>\n",
       "    </tr>\n",
       "    <tr>\n",
       "      <th>2</th>\n",
       "      <td>2013-01-03</td>\n",
       "      <td>92.97</td>\n",
       "    </tr>\n",
       "    <tr>\n",
       "      <th>3</th>\n",
       "      <td>2013-01-04</td>\n",
       "      <td>93.12</td>\n",
       "    </tr>\n",
       "    <tr>\n",
       "      <th>4</th>\n",
       "      <td>2013-01-07</td>\n",
       "      <td>93.20</td>\n",
       "    </tr>\n",
       "  </tbody>\n",
       "</table>\n",
       "</div>"
      ],
      "text/plain": [
       "         date  dcoilwtico\n",
       "0  2013-01-01       93.14\n",
       "1  2013-01-02       93.14\n",
       "2  2013-01-03       92.97\n",
       "3  2013-01-04       93.12\n",
       "4  2013-01-07       93.20"
      ]
     },
     "execution_count": 9,
     "metadata": {},
     "output_type": "execute_result"
    }
   ],
   "source": [
    "oil_pandas = oil_pandas.fillna(method='bfill')\n",
    "oil_pandas = oil_pandas.fillna(method='ffill')\n",
    "oil_pandas.head()"
   ]
  },
  {
   "cell_type": "code",
   "execution_count": 10,
   "metadata": {},
   "outputs": [
    {
     "data": {
      "text/plain": [
       "date          0\n",
       "dcoilwtico    0\n",
       "dtype: int64"
      ]
     },
     "execution_count": 10,
     "metadata": {},
     "output_type": "execute_result"
    }
   ],
   "source": [
    "oil_pandas.isnull().sum()"
   ]
  },
  {
   "cell_type": "markdown",
   "metadata": {},
   "source": [
    "## Transform pandas dataframe back to spark dataframe"
   ]
  },
  {
   "cell_type": "code",
   "execution_count": 11,
   "metadata": {},
   "outputs": [
    {
     "name": "stdout",
     "output_type": "stream",
     "text": [
      "+----------+----------+\n",
      "|      date|dcoilwtico|\n",
      "+----------+----------+\n",
      "|2013-01-01|     93.14|\n",
      "|2013-01-02|     93.14|\n",
      "|2013-01-03|     92.97|\n",
      "|2013-01-04|     93.12|\n",
      "|2013-01-07|      93.2|\n",
      "|2013-01-08|     93.21|\n",
      "|2013-01-09|     93.08|\n",
      "|2013-01-10|     93.81|\n",
      "|2013-01-11|      93.6|\n",
      "|2013-01-14|     94.27|\n",
      "|2013-01-15|     93.26|\n",
      "|2013-01-16|     94.28|\n",
      "|2013-01-17|     95.49|\n",
      "|2013-01-18|     95.61|\n",
      "|2013-01-21|     96.09|\n",
      "|2013-01-22|     96.09|\n",
      "|2013-01-23|     95.06|\n",
      "|2013-01-24|     95.35|\n",
      "|2013-01-25|     95.15|\n",
      "|2013-01-28|     95.95|\n",
      "+----------+----------+\n",
      "only showing top 20 rows\n",
      "\n"
     ]
    }
   ],
   "source": [
    "oil_spark = spark.createDataFrame(oil_pandas)\n",
    "oil_spark.show()"
   ]
  },
  {
   "cell_type": "code",
   "execution_count": 12,
   "metadata": {},
   "outputs": [
    {
     "name": "stdout",
     "output_type": "stream",
     "text": [
      "+-------------------+-------+---------+--------+-----------+------+----+------+-----------+-----------+-----------+----------+\n",
      "|               date|     id|store_nbr|item_nbr|onpromotion|source|type|locale|locale_name|description|transferred|dcoilwtico|\n",
      "+-------------------+-------+---------+--------+-----------+------+----+------+-----------+-----------+-----------+----------+\n",
      "|2013-05-06 00:00:00|5202345|        1|  103520|       null| train|null|  null|       null|       null|       null|      95.8|\n",
      "|2013-05-06 00:00:00|5202346|        1|  105574|       null| train|null|  null|       null|       null|       null|      95.8|\n",
      "|2013-05-06 00:00:00|5202347|        1|  105575|       null| train|null|  null|       null|       null|       null|      95.8|\n",
      "|2013-05-06 00:00:00|5202348|        1|  105577|       null| train|null|  null|       null|       null|       null|      95.8|\n",
      "|2013-05-06 00:00:00|5202349|        1|  105693|       null| train|null|  null|       null|       null|       null|      95.8|\n",
      "|2013-05-06 00:00:00|5202350|        1|  105857|       null| train|null|  null|       null|       null|       null|      95.8|\n",
      "|2013-05-06 00:00:00|5202351|        1|  106716|       null| train|null|  null|       null|       null|       null|      95.8|\n",
      "|2013-05-06 00:00:00|5202352|        1|  108079|       null| train|null|  null|       null|       null|       null|      95.8|\n",
      "|2013-05-06 00:00:00|5202353|        1|  108696|       null| train|null|  null|       null|       null|       null|      95.8|\n",
      "|2013-05-06 00:00:00|5202354|        1|  108698|       null| train|null|  null|       null|       null|       null|      95.8|\n",
      "|2013-05-06 00:00:00|5202355|        1|  108701|       null| train|null|  null|       null|       null|       null|      95.8|\n",
      "|2013-05-06 00:00:00|5202356|        1|  108786|       null| train|null|  null|       null|       null|       null|      95.8|\n",
      "|2013-05-06 00:00:00|5202357|        1|  111223|       null| train|null|  null|       null|       null|       null|      95.8|\n",
      "|2013-05-06 00:00:00|5202358|        1|  111397|       null| train|null|  null|       null|       null|       null|      95.8|\n",
      "|2013-05-06 00:00:00|5202359|        1|  114778|       null| train|null|  null|       null|       null|       null|      95.8|\n",
      "|2013-05-06 00:00:00|5202360|        1|  114790|       null| train|null|  null|       null|       null|       null|      95.8|\n",
      "|2013-05-06 00:00:00|5202361|        1|  114799|       null| train|null|  null|       null|       null|       null|      95.8|\n",
      "|2013-05-06 00:00:00|5202362|        1|  114800|       null| train|null|  null|       null|       null|       null|      95.8|\n",
      "|2013-05-06 00:00:00|5202363|        1|  115267|       null| train|null|  null|       null|       null|       null|      95.8|\n",
      "|2013-05-06 00:00:00|5202364|        1|  115611|       null| train|null|  null|       null|       null|       null|      95.8|\n",
      "+-------------------+-------+---------+--------+-----------+------+----+------+-----------+-----------+-----------+----------+\n",
      "only showing top 20 rows\n",
      "\n"
     ]
    }
   ],
   "source": [
    "train_holiday_oil = train_holiday.join(oil_spark, 'date', 'left_outer')\n",
    "train_holiday_oil.show()"
   ]
  },
  {
   "cell_type": "code",
   "execution_count": 13,
   "metadata": {},
   "outputs": [
    {
     "data": {
      "text/plain": [
       "DataFrame[date: timestamp, id: int, store_nbr: int, item_nbr: int, onpromotion: boolean, source: string, type: string, locale: string, locale_name: string, description: string, transferred: boolean]"
      ]
     },
     "execution_count": 13,
     "metadata": {},
     "output_type": "execute_result"
    }
   ],
   "source": [
    "train_holiday.unpersist()"
   ]
  },
  {
   "cell_type": "markdown",
   "metadata": {},
   "source": [
    "## Join train_holiday_oil with store"
   ]
  },
  {
   "cell_type": "markdown",
   "metadata": {},
   "source": [
    "### Rename store.type so it would not duplicate with holiday.type"
   ]
  },
  {
   "cell_type": "code",
   "execution_count": 14,
   "metadata": {
    "scrolled": true
   },
   "outputs": [
    {
     "name": "stdout",
     "output_type": "stream",
     "text": [
      "+---------+-------------------+--------+--------+-----------+------+----+------+-----------+-----------+-----------+----------+--------+--------+----------+-------+\n",
      "|store_nbr|               date|      id|item_nbr|onpromotion|source|type|locale|locale_name|description|transferred|dcoilwtico|    city|   state|store_type|cluster|\n",
      "+---------+-------------------+--------+--------+-----------+------+----+------+-----------+-----------+-----------+----------+--------+--------+----------+-------+\n",
      "|       31|2013-05-06 00:00:00| 5226034|  103501|       null| train|null|  null|       null|       null|       null|      95.8|Babahoyo|Los Rios|         B|     10|\n",
      "|       31|2014-01-30 00:00:00|18164509| 1464035|       null| train|null|  null|       null|       null|       null|     98.25|Babahoyo|Los Rios|         B|     10|\n",
      "|       31|2013-05-06 00:00:00| 5226035|  103520|       null| train|null|  null|       null|       null|       null|      95.8|Babahoyo|Los Rios|         B|     10|\n",
      "|       31|2014-01-30 00:00:00|18164510| 1464066|       null| train|null|  null|       null|       null|       null|     98.25|Babahoyo|Los Rios|         B|     10|\n",
      "|       31|2013-05-06 00:00:00| 5226036|  103665|       null| train|null|  null|       null|       null|       null|      95.8|Babahoyo|Los Rios|         B|     10|\n",
      "|       31|2014-01-30 00:00:00|18164511| 1464070|       null| train|null|  null|       null|       null|       null|     98.25|Babahoyo|Los Rios|         B|     10|\n",
      "|       31|2013-05-06 00:00:00| 5226037|  105576|       null| train|null|  null|       null|       null|       null|      95.8|Babahoyo|Los Rios|         B|     10|\n",
      "|       31|2014-01-30 00:00:00|18164512| 1464071|       null| train|null|  null|       null|       null|       null|     98.25|Babahoyo|Los Rios|         B|     10|\n",
      "|       31|2013-05-06 00:00:00| 5226038|  105693|       null| train|null|  null|       null|       null|       null|      95.8|Babahoyo|Los Rios|         B|     10|\n",
      "|       31|2014-01-30 00:00:00|18164513| 1464073|       null| train|null|  null|       null|       null|       null|     98.25|Babahoyo|Los Rios|         B|     10|\n",
      "|       31|2013-05-06 00:00:00| 5226039|  106716|       null| train|null|  null|       null|       null|       null|      95.8|Babahoyo|Los Rios|         B|     10|\n",
      "|       31|2014-01-30 00:00:00|18164514| 1464076|       null| train|null|  null|       null|       null|       null|     98.25|Babahoyo|Los Rios|         B|     10|\n",
      "|       31|2013-05-06 00:00:00| 5226040|  108079|       null| train|null|  null|       null|       null|       null|      95.8|Babahoyo|Los Rios|         B|     10|\n",
      "|       31|2014-01-30 00:00:00|18164515| 1464079|       null| train|null|  null|       null|       null|       null|     98.25|Babahoyo|Los Rios|         B|     10|\n",
      "|       31|2013-05-06 00:00:00| 5226041|  108698|       null| train|null|  null|       null|       null|       null|      95.8|Babahoyo|Los Rios|         B|     10|\n",
      "|       31|2014-01-30 00:00:00|18164516| 1464081|       null| train|null|  null|       null|       null|       null|     98.25|Babahoyo|Los Rios|         B|     10|\n",
      "|       31|2013-05-06 00:00:00| 5226042|  108786|       null| train|null|  null|       null|       null|       null|      95.8|Babahoyo|Los Rios|         B|     10|\n",
      "|       31|2014-01-30 00:00:00|18164517| 1464082|       null| train|null|  null|       null|       null|       null|     98.25|Babahoyo|Los Rios|         B|     10|\n",
      "|       31|2013-05-06 00:00:00| 5226043|  108797|       null| train|null|  null|       null|       null|       null|      95.8|Babahoyo|Los Rios|         B|     10|\n",
      "|       31|2014-01-30 00:00:00|18164518| 1464086|       null| train|null|  null|       null|       null|       null|     98.25|Babahoyo|Los Rios|         B|     10|\n",
      "+---------+-------------------+--------+--------+-----------+------+----+------+-----------+-----------+-----------+----------+--------+--------+----------+-------+\n",
      "only showing top 20 rows\n",
      "\n"
     ]
    }
   ],
   "source": [
    "stores = stores.withColumnRenamed(\"type\", \"store_type\")\n",
    "train_holiday_oil_store = train_holiday_oil.join(stores, 'store_nbr', 'left_outer')\n",
    "train_holiday_oil_store.show()"
   ]
  },
  {
   "cell_type": "code",
   "execution_count": 15,
   "metadata": {},
   "outputs": [
    {
     "data": {
      "text/plain": [
       "DataFrame[date: timestamp, id: int, store_nbr: int, item_nbr: int, onpromotion: boolean, source: string, type: string, locale: string, locale_name: string, description: string, transferred: boolean, dcoilwtico: double]"
      ]
     },
     "execution_count": 15,
     "metadata": {},
     "output_type": "execute_result"
    }
   ],
   "source": [
    "train_holiday_oil.unpersist()"
   ]
  },
  {
   "cell_type": "markdown",
   "metadata": {},
   "source": [
    "## Join train_holiday_oil_store and transaction"
   ]
  },
  {
   "cell_type": "code",
   "execution_count": 16,
   "metadata": {
    "scrolled": false
   },
   "outputs": [
    {
     "name": "stdout",
     "output_type": "stream",
     "text": [
      "+-------------------+---------+-----+--------+-----------+------+----+------+-----------+-----------+-----------+----------+-----+---------+----------+-------+------------+\n",
      "|               date|store_nbr|   id|item_nbr|onpromotion|source|type|locale|locale_name|description|transferred|dcoilwtico| city|    state|store_type|cluster|transactions|\n",
      "+-------------------+---------+-----+--------+-----------+------+----+------+-----------+-----------+-----------+----------+-----+---------+----------+-------+------------+\n",
      "|2013-01-04 00:00:00|       18|97380|  103501|       null| train|null|  null|       null|       null|       null|     93.12|Quito|Pichincha|         B|     16|        1238|\n",
      "|2013-01-04 00:00:00|       18|97381|  105576|       null| train|null|  null|       null|       null|       null|     93.12|Quito|Pichincha|         B|     16|        1238|\n",
      "|2013-01-04 00:00:00|       18|97382|  105857|       null| train|null|  null|       null|       null|       null|     93.12|Quito|Pichincha|         B|     16|        1238|\n",
      "|2013-01-04 00:00:00|       18|97383|  106716|       null| train|null|  null|       null|       null|       null|     93.12|Quito|Pichincha|         B|     16|        1238|\n",
      "|2013-01-04 00:00:00|       18|97384|  108079|       null| train|null|  null|       null|       null|       null|     93.12|Quito|Pichincha|         B|     16|        1238|\n",
      "|2013-01-04 00:00:00|       18|97385|  108696|       null| train|null|  null|       null|       null|       null|     93.12|Quito|Pichincha|         B|     16|        1238|\n",
      "|2013-01-04 00:00:00|       18|97386|  108698|       null| train|null|  null|       null|       null|       null|     93.12|Quito|Pichincha|         B|     16|        1238|\n",
      "|2013-01-04 00:00:00|       18|97387|  108701|       null| train|null|  null|       null|       null|       null|     93.12|Quito|Pichincha|         B|     16|        1238|\n",
      "|2013-01-04 00:00:00|       18|97388|  108786|       null| train|null|  null|       null|       null|       null|     93.12|Quito|Pichincha|         B|     16|        1238|\n",
      "|2013-01-04 00:00:00|       18|97389|  108797|       null| train|null|  null|       null|       null|       null|     93.12|Quito|Pichincha|         B|     16|        1238|\n",
      "|2013-01-04 00:00:00|       18|97390|  108952|       null| train|null|  null|       null|       null|       null|     93.12|Quito|Pichincha|         B|     16|        1238|\n",
      "|2013-01-04 00:00:00|       18|97391|  111223|       null| train|null|  null|       null|       null|       null|     93.12|Quito|Pichincha|         B|     16|        1238|\n",
      "|2013-01-04 00:00:00|       18|97392|  111397|       null| train|null|  null|       null|       null|       null|     93.12|Quito|Pichincha|         B|     16|        1238|\n",
      "|2013-01-04 00:00:00|       18|97393|  112830|       null| train|null|  null|       null|       null|       null|     93.12|Quito|Pichincha|         B|     16|        1238|\n",
      "|2013-01-04 00:00:00|       18|97394|  114778|       null| train|null|  null|       null|       null|       null|     93.12|Quito|Pichincha|         B|     16|        1238|\n",
      "|2013-01-04 00:00:00|       18|97395|  114790|       null| train|null|  null|       null|       null|       null|     93.12|Quito|Pichincha|         B|     16|        1238|\n",
      "|2013-01-04 00:00:00|       18|97396|  114799|       null| train|null|  null|       null|       null|       null|     93.12|Quito|Pichincha|         B|     16|        1238|\n",
      "|2013-01-04 00:00:00|       18|97397|  115267|       null| train|null|  null|       null|       null|       null|     93.12|Quito|Pichincha|         B|     16|        1238|\n",
      "|2013-01-04 00:00:00|       18|97398|  115611|       null| train|null|  null|       null|       null|       null|     93.12|Quito|Pichincha|         B|     16|        1238|\n",
      "|2013-01-04 00:00:00|       18|97399|  115693|       null| train|null|  null|       null|       null|       null|     93.12|Quito|Pichincha|         B|     16|        1238|\n",
      "+-------------------+---------+-----+--------+-----------+------+----+------+-----------+-----------+-----------+----------+-----+---------+----------+-------+------------+\n",
      "only showing top 20 rows\n",
      "\n"
     ]
    }
   ],
   "source": [
    "#try to avoid the duplicated column name:\n",
    "train_holiday_oil_store_transaction = train_holiday_oil_store.join(transactions, ['date', 'store_nbr'], 'left_outer')\n",
    "train_holiday_oil_store_transaction.show()"
   ]
  },
  {
   "cell_type": "markdown",
   "metadata": {},
   "source": [
    "## Join items table"
   ]
  },
  {
   "cell_type": "code",
   "execution_count": 17,
   "metadata": {
    "collapsed": true
   },
   "outputs": [],
   "source": [
    "train_holiday_oil_store_transaction_item = train_holiday_oil_store_transaction.join(items, 'item_nbr', 'left_outer')\n",
    "#train_holiday_oil_store_transaction_item.show()"
   ]
  },
  {
   "cell_type": "code",
   "execution_count": 18,
   "metadata": {},
   "outputs": [
    {
     "data": {
      "text/plain": [
       "DataFrame[date: timestamp, store_nbr: int, id: int, item_nbr: int, onpromotion: boolean, source: string, type: string, locale: string, locale_name: string, description: string, transferred: boolean, dcoilwtico: double, city: string, state: string, store_type: string, cluster: int, transactions: int]"
      ]
     },
     "execution_count": 18,
     "metadata": {},
     "output_type": "execute_result"
    }
   ],
   "source": [
    "train_holiday_oil_store_transaction.unpersist()"
   ]
  },
  {
   "cell_type": "markdown",
   "metadata": {},
   "source": [
    "## Begin data cleaning"
   ]
  },
  {
   "cell_type": "code",
   "execution_count": 68,
   "metadata": {
    "collapsed": true
   },
   "outputs": [],
   "source": [
    "#Created a new dataframe called test, so I would not damage the previous one. \n",
    "train_holiday_oil_store_transaction_item_test = train_holiday_oil_store_transaction_item.fillna(False, subset=['onpromotion'])\n",
    "#train_holiday_oil_store_transaction_item_test.show()"
   ]
  },
  {
   "cell_type": "code",
   "execution_count": 20,
   "metadata": {
    "scrolled": true
   },
   "outputs": [
    {
     "data": {
      "text/plain": [
       "DataFrame[item_nbr: int, date: timestamp, store_nbr: int, id: int, onpromotion: boolean, source: string, type: string, locale: string, locale_name: string, description: string, transferred: boolean, dcoilwtico: double, city: string, state: string, store_type: string, cluster: int, transactions: int, family: string, class: int, perishable: int]"
      ]
     },
     "execution_count": 20,
     "metadata": {},
     "output_type": "execute_result"
    }
   ],
   "source": [
    "train_holiday_oil_store_transaction_item.unpersist()"
   ]
  },
  {
   "cell_type": "code",
   "execution_count": 93,
   "metadata": {},
   "outputs": [
    {
     "data": {
      "text/plain": [
       "210654"
      ]
     },
     "execution_count": 93,
     "metadata": {},
     "output_type": "execute_result"
    }
   ],
   "source": [
    "#train_holiday_oil_store_transaction_item_test_003[train_holiday_oil_store_transaction_item_test_003['source'] == 'test'].count()"
   ]
  },
  {
   "cell_type": "markdown",
   "metadata": {},
   "source": [
    "### create a table for on_promotion, encoded"
   ]
  },
  {
   "cell_type": "code",
   "execution_count": 69,
   "metadata": {},
   "outputs": [],
   "source": [
    "# from pyspark.sql import functions as F\n",
    "# onpromotions = train_holiday_oil_store_transaction_item_test.select(\"onpromotion\").distinct().rdd.flatMap(lambda x: x).collect()\n",
    "\n",
    "# exprs = [F.when(F.col(\"onpromotion\") == onpromotion, 1).otherwise(0).alias('onpromotion_' + onpromotion)\n",
    "#          for onpromotion in onpromotions]\n",
    "\n",
    "#train_holiday_oil_store_transaction_item_test.select(\"item_nbr\", *exprs).show()"
   ]
  },
  {
   "cell_type": "code",
   "execution_count": null,
   "metadata": {
    "collapsed": true
   },
   "outputs": [],
   "source": [
    "#item table with onpromotion encoded to 1 and 0\n",
    "# item_onpromotion = train_holiday_oil_store_transaction_item_test.select(\"item_nbr\", *exprs)"
   ]
  },
  {
   "cell_type": "markdown",
   "metadata": {},
   "source": [
    "### Encode item_family and create a new table"
   ]
  },
  {
   "cell_type": "code",
   "execution_count": 70,
   "metadata": {
    "collapsed": true,
    "scrolled": false
   },
   "outputs": [],
   "source": [
    "from pyspark.ml.feature import OneHotEncoder, StringIndexer\n",
    "\n",
    "stringIndexer = StringIndexer(inputCol=\"family\", outputCol=\"familyIndex\")\n",
    "model = stringIndexer.fit(train_holiday_oil_store_transaction_item_test)\n",
    "indexed = model.transform(train_holiday_oil_store_transaction_item_test)\n",
    "\n",
    "encoder = OneHotEncoder(inputCol=\"familyIndex\", outputCol=\"familyIndexVec\")\n",
    "family_encoded = encoder.transform(indexed)\n",
    "\n",
    "train_holiday_oil_store_transaction_item_test = train_holiday_oil_store_transaction_item_test.drop('family')\n",
    "#family_encoded.show()"
   ]
  },
  {
   "cell_type": "code",
   "execution_count": 71,
   "metadata": {
    "collapsed": true
   },
   "outputs": [],
   "source": [
    "train_holiday_oil_store_transaction_item_test = encoder.transform(indexed)\n",
    "#train_holiday_oil_store_transaction_item_test = train_holiday_oil_store_transaction_item_test.drop('family')"
   ]
  },
  {
   "cell_type": "code",
   "execution_count": 72,
   "metadata": {
    "scrolled": false
   },
   "outputs": [
    {
     "name": "stdout",
     "output_type": "stream",
     "text": [
      "+--------+-------------------+---------+--------+-----------+------+----------+--------+-----------+--------------------+-----------+----------+---------+-----------+----------+-------+------------+---------+-----+----------+-----------+--------------+---------+---------------+\n",
      "|item_nbr|               date|store_nbr|      id|onpromotion|source|      type|  locale|locale_name|         description|transferred|dcoilwtico|     city|      state|store_type|cluster|transactions|   family|class|perishable|familyIndex|familyIndexVec|cityIndex|   cityIndexVec|\n",
      "+--------+-------------------+---------+--------+-----------+------+----------+--------+-----------+--------------------+-----------+----------+---------+-----------+----------+-------+------------+---------+-----+----------+-----------+--------------+---------+---------------+\n",
      "|  454593|2013-02-08 00:00:00|        6| 1512928|       null| train|      null|    null|       null|                null|       null|     95.71|    Quito|  Pichincha|         D|     13|        1609|GROCERY I| 1092|         0|        0.0|(32,[0],[1.0])|      0.0| (21,[0],[1.0])|\n",
      "|  454593|2013-04-12 00:00:00|       25| 4186270|       null| train|   Holiday|   Local|     Cuenca| Fundacion de Cuenca|      false|     91.23|  Salinas|Santa Elena|         D|      1|        1099|GROCERY I| 1092|         0|        0.0|(32,[0],[1.0])|     13.0|(21,[13],[1.0])|\n",
      "|  454593|2013-04-21 00:00:00|        4| 4556946|       null| train|   Holiday|   Local|   Riobamba|Cantonizacion de ...|      false|      null|    Quito|  Pichincha|         D|      9|        1726|GROCERY I| 1092|         0|        0.0|(32,[0],[1.0])|      0.0| (21,[0],[1.0])|\n",
      "|  454593|2013-04-22 00:00:00|        7| 4604603|       null| train|      null|    null|       null|                null|       null|     88.81|    Quito|  Pichincha|         D|      8|        1785|GROCERY I| 1092|         0|        0.0|(32,[0],[1.0])|      0.0| (21,[0],[1.0])|\n",
      "|  454593|2013-06-30 00:00:00|       38| 7677915|       null| train|      null|    null|       null|                null|       null|      null|     Loja|       Loja|         D|      4|        2227|GROCERY I| 1092|         0|        0.0|(32,[0],[1.0])|      7.0| (21,[7],[1.0])|\n",
      "|  454593|2013-07-14 00:00:00|        4| 8281360|       null| train|      null|    null|       null|                null|       null|      null|    Quito|  Pichincha|         D|      9|        1629|GROCERY I| 1092|         0|        0.0|(32,[0],[1.0])|      0.0| (21,[0],[1.0])|\n",
      "|  454593|2013-08-03 00:00:00|        3| 9174884|       null| train|      null|    null|       null|                null|       null|      null|    Quito|  Pichincha|         D|      8|        3613|GROCERY I| 1092|         0|        0.0|(32,[0],[1.0])|      0.0| (21,[0],[1.0])|\n",
      "|  454593|2013-11-02 00:00:00|       49|13400928|       null| train|   Holiday|National|    Ecuador|     Dia de Difuntos|      false|      null|    Quito|  Pichincha|         A|     11|        2752|GROCERY I| 1092|         0|        0.0|(32,[0],[1.0])|      0.0| (21,[0],[1.0])|\n",
      "|  454593|2013-11-12 00:00:00|       51|13891979|       null| train|   Holiday|   Local|     Ambato|Independencia de ...|      false|     93.12|Guayaquil|     Guayas|         A|     17|        1481|GROCERY I| 1092|         0|        0.0|(32,[0],[1.0])|      1.0| (21,[1],[1.0])|\n",
      "|  454593|2013-12-01 00:00:00|        3|14776963|       null| train|      null|    null|       null|                null|       null|      null|    Quito|  Pichincha|         D|      8|        3663|GROCERY I| 1092|         0|        0.0|(32,[0],[1.0])|      0.0| (21,[0],[1.0])|\n",
      "|  454593|2013-12-04 00:00:00|       49|14977052|       null| train|      null|    null|       null|                null|       null|     96.97|    Quito|  Pichincha|         A|     11|        2582|GROCERY I| 1092|         0|        0.0|(32,[0],[1.0])|      0.0| (21,[0],[1.0])|\n",
      "|  454593|2013-12-16 00:00:00|       47|15586785|       null| train|      null|    null|       null|                null|       null|     97.18|    Quito|  Pichincha|         A|     14|        4669|GROCERY I| 1092|         0|        0.0|(32,[0],[1.0])|      0.0| (21,[0],[1.0])|\n",
      "|  454593|2013-12-20 00:00:00|       23|15768018|       null| train|      null|    null|       null|                null|       null|     99.11|   Ambato| Tungurahua|         D|      9|        1453|GROCERY I| 1092|         0|        0.0|(32,[0],[1.0])|      4.0| (21,[4],[1.0])|\n",
      "|  454593|2013-12-26 00:00:00|        7|16020613|       null| train|Additional|National|    Ecuador|           Navidad+1|      false|     99.18|    Quito|  Pichincha|         D|      8|        1980|GROCERY I| 1092|         0|        0.0|(32,[0],[1.0])|      0.0| (21,[0],[1.0])|\n",
      "|  454593|2013-12-30 00:00:00|       50|16268912|       null| train|      null|    null|       null|                null|       null|      98.9|   Ambato| Tungurahua|         A|     14|        3876|GROCERY I| 1092|         0|        0.0|(32,[0],[1.0])|      4.0| (21,[4],[1.0])|\n",
      "|  454593|2014-01-25 00:00:00|        7|17819211|       null| train|      null|    null|       null|                null|       null|      null|    Quito|  Pichincha|         D|      8|        1830|GROCERY I| 1092|         0|        0.0|(32,[0],[1.0])|      0.0| (21,[0],[1.0])|\n",
      "|  454593|2014-02-14 00:00:00|       25|18936178|       null| train|      null|    null|       null|                null|       null|    100.31|  Salinas|Santa Elena|         D|      1|        1279|GROCERY I| 1092|         0|        0.0|(32,[0],[1.0])|     13.0|(21,[13],[1.0])|\n",
      "|  454593|2014-02-16 00:00:00|        2|19016982|       null| train|      null|    null|       null|                null|       null|      null|    Quito|  Pichincha|         D|     13|        2024|GROCERY I| 1092|         0|        0.0|(32,[0],[1.0])|      0.0| (21,[0],[1.0])|\n",
      "|  454593|2014-02-21 00:00:00|       27|19284757|       null| train|      null|    null|       null|                null|       null|    102.53|    Daule|     Guayas|         D|      1|        1207|GROCERY I| 1092|         0|        0.0|(32,[0],[1.0])|      8.0| (21,[8],[1.0])|\n",
      "|  454593|2014-03-13 00:00:00|       44|20480222|       null| train|      null|    null|       null|                null|       null|     98.57|    Quito|  Pichincha|         A|      5|        3660|GROCERY I| 1092|         0|        0.0|(32,[0],[1.0])|      0.0| (21,[0],[1.0])|\n",
      "+--------+-------------------+---------+--------+-----------+------+----------+--------+-----------+--------------------+-----------+----------+---------+-----------+----------+-------+------------+---------+-----+----------+-----------+--------------+---------+---------------+\n",
      "only showing top 20 rows\n",
      "\n"
     ]
    }
   ],
   "source": [
    "stringIndexer = StringIndexer(inputCol=\"city\", outputCol=\"cityIndex\")\n",
    "model = stringIndexer.fit(train_holiday_oil_store_transaction_item_test)\n",
    "indexed = model.transform(train_holiday_oil_store_transaction_item_test)\n",
    "\n",
    "encoder = OneHotEncoder(inputCol=\"cityIndex\", outputCol=\"cityIndexVec\")\n",
    "train_holiday_oil_store_transaction_item_test = encoder.transform(indexed)\n",
    "\n",
    "train_holiday_oil_store_transaction_item_test.show()"
   ]
  },
  {
   "cell_type": "code",
   "execution_count": 73,
   "metadata": {
    "collapsed": true
   },
   "outputs": [],
   "source": [
    "train_holiday_oil_store_transaction_item_test = train_holiday_oil_store_transaction_item_test.drop('city')"
   ]
  },
  {
   "cell_type": "code",
   "execution_count": 74,
   "metadata": {},
   "outputs": [
    {
     "name": "stdout",
     "output_type": "stream",
     "text": [
      "+--------+-------------------+---------+--------+-----------+------+----------+--------+-----------+--------------------+-----------+----------+-----------+----------+------------+---------+-----+----------+-----------+--------------+---------+---------------+------------+---------------+\n",
      "|item_nbr|               date|store_nbr|      id|onpromotion|source|      type|  locale|locale_name|         description|transferred|dcoilwtico|      state|store_type|transactions|   family|class|perishable|familyIndex|familyIndexVec|cityIndex|   cityIndexVec|clusterIndex|clusterIndexVec|\n",
      "+--------+-------------------+---------+--------+-----------+------+----------+--------+-----------+--------------------+-----------+----------+-----------+----------+------------+---------+-----+----------+-----------+--------------+---------+---------------+------------+---------------+\n",
      "|  454593|2013-02-08 00:00:00|        6| 1512928|       null| train|      null|    null|       null|                null|       null|     95.71|  Pichincha|         D|        1609|GROCERY I| 1092|         0|        0.0|(32,[0],[1.0])|      0.0| (21,[0],[1.0])|         4.0| (16,[4],[1.0])|\n",
      "|  454593|2013-04-12 00:00:00|       25| 4186270|       null| train|   Holiday|   Local|     Cuenca| Fundacion de Cuenca|      false|     91.23|Santa Elena|         D|        1099|GROCERY I| 1092|         0|        0.0|(32,[0],[1.0])|     13.0|(21,[13],[1.0])|         8.0| (16,[8],[1.0])|\n",
      "|  454593|2013-04-21 00:00:00|        4| 4556946|       null| train|   Holiday|   Local|   Riobamba|Cantonizacion de ...|      false|      null|  Pichincha|         D|        1726|GROCERY I| 1092|         0|        0.0|(32,[0],[1.0])|      0.0| (21,[0],[1.0])|        10.0|(16,[10],[1.0])|\n",
      "|  454593|2013-04-22 00:00:00|        7| 4604603|       null| train|      null|    null|       null|                null|       null|     88.81|  Pichincha|         D|        1785|GROCERY I| 1092|         0|        0.0|(32,[0],[1.0])|      0.0| (21,[0],[1.0])|         5.0| (16,[5],[1.0])|\n",
      "|  454593|2013-06-30 00:00:00|       38| 7677915|       null| train|      null|    null|       null|                null|       null|      null|       Loja|         D|        2227|GROCERY I| 1092|         0|        0.0|(32,[0],[1.0])|      7.0| (21,[7],[1.0])|         7.0| (16,[7],[1.0])|\n",
      "|  454593|2013-07-14 00:00:00|        4| 8281360|       null| train|      null|    null|       null|                null|       null|      null|  Pichincha|         D|        1629|GROCERY I| 1092|         0|        0.0|(32,[0],[1.0])|      0.0| (21,[0],[1.0])|        10.0|(16,[10],[1.0])|\n",
      "|  454593|2013-08-03 00:00:00|        3| 9174884|       null| train|      null|    null|       null|                null|       null|      null|  Pichincha|         D|        3613|GROCERY I| 1092|         0|        0.0|(32,[0],[1.0])|      0.0| (21,[0],[1.0])|         5.0| (16,[5],[1.0])|\n",
      "|  454593|2013-11-02 00:00:00|       49|13400928|       null| train|   Holiday|National|    Ecuador|     Dia de Difuntos|      false|      null|  Pichincha|         A|        2752|GROCERY I| 1092|         0|        0.0|(32,[0],[1.0])|      0.0| (21,[0],[1.0])|         9.0| (16,[9],[1.0])|\n",
      "|  454593|2013-11-12 00:00:00|       51|13891979|       null| train|   Holiday|   Local|     Ambato|Independencia de ...|      false|     93.12|     Guayas|         A|        1481|GROCERY I| 1092|         0|        0.0|(32,[0],[1.0])|      1.0| (21,[1],[1.0])|        13.0|(16,[13],[1.0])|\n",
      "|  454593|2013-12-01 00:00:00|        3|14776963|       null| train|      null|    null|       null|                null|       null|      null|  Pichincha|         D|        3663|GROCERY I| 1092|         0|        0.0|(32,[0],[1.0])|      0.0| (21,[0],[1.0])|         5.0| (16,[5],[1.0])|\n",
      "|  454593|2013-12-04 00:00:00|       49|14977052|       null| train|      null|    null|       null|                null|       null|     96.97|  Pichincha|         A|        2582|GROCERY I| 1092|         0|        0.0|(32,[0],[1.0])|      0.0| (21,[0],[1.0])|         9.0| (16,[9],[1.0])|\n",
      "|  454593|2013-12-16 00:00:00|       47|15586785|       null| train|      null|    null|       null|                null|       null|     97.18|  Pichincha|         A|        4669|GROCERY I| 1092|         0|        0.0|(32,[0],[1.0])|      0.0| (21,[0],[1.0])|         1.0| (16,[1],[1.0])|\n",
      "|  454593|2013-12-20 00:00:00|       23|15768018|       null| train|      null|    null|       null|                null|       null|     99.11| Tungurahua|         D|        1453|GROCERY I| 1092|         0|        0.0|(32,[0],[1.0])|      4.0| (21,[4],[1.0])|        10.0|(16,[10],[1.0])|\n",
      "|  454593|2013-12-26 00:00:00|        7|16020613|       null| train|Additional|National|    Ecuador|           Navidad+1|      false|     99.18|  Pichincha|         D|        1980|GROCERY I| 1092|         0|        0.0|(32,[0],[1.0])|      0.0| (21,[0],[1.0])|         5.0| (16,[5],[1.0])|\n",
      "|  454593|2013-12-30 00:00:00|       50|16268912|       null| train|      null|    null|       null|                null|       null|      98.9| Tungurahua|         A|        3876|GROCERY I| 1092|         0|        0.0|(32,[0],[1.0])|      4.0| (21,[4],[1.0])|         1.0| (16,[1],[1.0])|\n",
      "|  454593|2014-01-25 00:00:00|        7|17819211|       null| train|      null|    null|       null|                null|       null|      null|  Pichincha|         D|        1830|GROCERY I| 1092|         0|        0.0|(32,[0],[1.0])|      0.0| (21,[0],[1.0])|         5.0| (16,[5],[1.0])|\n",
      "|  454593|2014-02-14 00:00:00|       25|18936178|       null| train|      null|    null|       null|                null|       null|    100.31|Santa Elena|         D|        1279|GROCERY I| 1092|         0|        0.0|(32,[0],[1.0])|     13.0|(21,[13],[1.0])|         8.0| (16,[8],[1.0])|\n",
      "|  454593|2014-02-16 00:00:00|        2|19016982|       null| train|      null|    null|       null|                null|       null|      null|  Pichincha|         D|        2024|GROCERY I| 1092|         0|        0.0|(32,[0],[1.0])|      0.0| (21,[0],[1.0])|         4.0| (16,[4],[1.0])|\n",
      "|  454593|2014-02-21 00:00:00|       27|19284757|       null| train|      null|    null|       null|                null|       null|    102.53|     Guayas|         D|        1207|GROCERY I| 1092|         0|        0.0|(32,[0],[1.0])|      8.0| (21,[8],[1.0])|         8.0| (16,[8],[1.0])|\n",
      "|  454593|2014-03-13 00:00:00|       44|20480222|       null| train|      null|    null|       null|                null|       null|     98.57|  Pichincha|         A|        3660|GROCERY I| 1092|         0|        0.0|(32,[0],[1.0])|      0.0| (21,[0],[1.0])|        12.0|(16,[12],[1.0])|\n",
      "+--------+-------------------+---------+--------+-----------+------+----------+--------+-----------+--------------------+-----------+----------+-----------+----------+------------+---------+-----+----------+-----------+--------------+---------+---------------+------------+---------------+\n",
      "only showing top 20 rows\n",
      "\n"
     ]
    }
   ],
   "source": [
    "stringIndexer = StringIndexer(inputCol=\"cluster\", outputCol=\"clusterIndex\")\n",
    "model = stringIndexer.fit(train_holiday_oil_store_transaction_item_test)\n",
    "indexed = model.transform(train_holiday_oil_store_transaction_item_test)\n",
    "\n",
    "encoder = OneHotEncoder(inputCol=\"clusterIndex\", outputCol=\"clusterIndexVec\")\n",
    "train_holiday_oil_store_transaction_item_test = encoder.transform(indexed)\n",
    "\n",
    "train_holiday_oil_store_transaction_item_test = train_holiday_oil_store_transaction_item_test.drop('cluster')\n",
    "train_holiday_oil_store_transaction_item_test.show()"
   ]
  },
  {
   "cell_type": "markdown",
   "metadata": {},
   "source": [
    "### Deal with holiday_event dataframe:"
   ]
  },
  {
   "cell_type": "markdown",
   "metadata": {},
   "source": [
    "## Pay attention to how I fillna with a bolean value here"
   ]
  },
  {
   "cell_type": "code",
   "execution_count": 104,
   "metadata": {
    "collapsed": true
   },
   "outputs": [],
   "source": [
    "#fill NaN value in transferred column:\n",
    "train_holiday_oil_store_transaction_item_test_002 = train_holiday_oil_store_transaction_item_test.fillna('False', subset=['type', 'locale', 'locale_name', 'description'])\n",
    "train_holiday_oil_store_transaction_item_test_003 = train_holiday_oil_store_transaction_item_test_002.fillna({\"transferred\": False})"
   ]
  },
  {
   "cell_type": "code",
   "execution_count": 100,
   "metadata": {},
   "outputs": [
    {
     "data": {
      "text/plain": [
       "3370464"
      ]
     },
     "execution_count": 100,
     "metadata": {},
     "output_type": "execute_result"
    }
   ],
   "source": [
    "train_holiday_oil_store_transaction_item_test_003[train_holiday_oil_store_transaction_item_test_003['source'] == 'test'].count()"
   ]
  },
  {
   "cell_type": "code",
   "execution_count": 106,
   "metadata": {},
   "outputs": [
    {
     "data": {
      "text/plain": [
       "0"
      ]
     },
     "execution_count": 106,
     "metadata": {},
     "output_type": "execute_result"
    }
   ],
   "source": [
    "train_holiday_oil_store_transaction_item_test_003[train_holiday_oil_store_transaction_item_test_003.locale.isNull()].count()"
   ]
  },
  {
   "cell_type": "code",
   "execution_count": 107,
   "metadata": {},
   "outputs": [
    {
     "name": "stdout",
     "output_type": "stream",
     "text": [
      "+--------+-------------------+---------+--------+-----------+------+----------+--------+-----------+--------------------+-----------+----------+-----------+----------+------------+---------+-----+----------+-----------+--------------+---------+---------------+------------+---------------+---------+-------------+\n",
      "|item_nbr|               date|store_nbr|      id|onpromotion|source|      type|  locale|locale_name|         description|transferred|dcoilwtico|      state|store_type|transactions|   family|class|perishable|familyIndex|familyIndexVec|cityIndex|   cityIndexVec|clusterIndex|clusterIndexVec|typeIndex| typeIndexVec|\n",
      "+--------+-------------------+---------+--------+-----------+------+----------+--------+-----------+--------------------+-----------+----------+-----------+----------+------------+---------+-----+----------+-----------+--------------+---------+---------------+------------+---------------+---------+-------------+\n",
      "|  454593|2013-02-08 00:00:00|        6| 1512928|       null| train|     False|   False|      False|               False|      false|     95.71|  Pichincha|         D|        1609|GROCERY I| 1092|         0|        0.0|(32,[0],[1.0])|      0.0| (21,[0],[1.0])|         4.0| (16,[4],[1.0])|      0.0|(6,[0],[1.0])|\n",
      "|  454593|2013-04-12 00:00:00|       25| 4186270|       null| train|   Holiday|   Local|     Cuenca| Fundacion de Cuenca|      false|     91.23|Santa Elena|         D|        1099|GROCERY I| 1092|         0|        0.0|(32,[0],[1.0])|     13.0|(21,[13],[1.0])|         8.0| (16,[8],[1.0])|      1.0|(6,[1],[1.0])|\n",
      "|  454593|2013-04-21 00:00:00|        4| 4556946|       null| train|   Holiday|   Local|   Riobamba|Cantonizacion de ...|      false|      null|  Pichincha|         D|        1726|GROCERY I| 1092|         0|        0.0|(32,[0],[1.0])|      0.0| (21,[0],[1.0])|        10.0|(16,[10],[1.0])|      1.0|(6,[1],[1.0])|\n",
      "|  454593|2013-04-22 00:00:00|        7| 4604603|       null| train|     False|   False|      False|               False|      false|     88.81|  Pichincha|         D|        1785|GROCERY I| 1092|         0|        0.0|(32,[0],[1.0])|      0.0| (21,[0],[1.0])|         5.0| (16,[5],[1.0])|      0.0|(6,[0],[1.0])|\n",
      "|  454593|2013-06-30 00:00:00|       38| 7677915|       null| train|     False|   False|      False|               False|      false|      null|       Loja|         D|        2227|GROCERY I| 1092|         0|        0.0|(32,[0],[1.0])|      7.0| (21,[7],[1.0])|         7.0| (16,[7],[1.0])|      0.0|(6,[0],[1.0])|\n",
      "|  454593|2013-07-14 00:00:00|        4| 8281360|       null| train|     False|   False|      False|               False|      false|      null|  Pichincha|         D|        1629|GROCERY I| 1092|         0|        0.0|(32,[0],[1.0])|      0.0| (21,[0],[1.0])|        10.0|(16,[10],[1.0])|      0.0|(6,[0],[1.0])|\n",
      "|  454593|2013-08-03 00:00:00|        3| 9174884|       null| train|     False|   False|      False|               False|      false|      null|  Pichincha|         D|        3613|GROCERY I| 1092|         0|        0.0|(32,[0],[1.0])|      0.0| (21,[0],[1.0])|         5.0| (16,[5],[1.0])|      0.0|(6,[0],[1.0])|\n",
      "|  454593|2013-11-02 00:00:00|       49|13400928|       null| train|   Holiday|National|    Ecuador|     Dia de Difuntos|      false|      null|  Pichincha|         A|        2752|GROCERY I| 1092|         0|        0.0|(32,[0],[1.0])|      0.0| (21,[0],[1.0])|         9.0| (16,[9],[1.0])|      1.0|(6,[1],[1.0])|\n",
      "|  454593|2013-11-12 00:00:00|       51|13891979|       null| train|   Holiday|   Local|     Ambato|Independencia de ...|      false|     93.12|     Guayas|         A|        1481|GROCERY I| 1092|         0|        0.0|(32,[0],[1.0])|      1.0| (21,[1],[1.0])|        13.0|(16,[13],[1.0])|      1.0|(6,[1],[1.0])|\n",
      "|  454593|2013-12-01 00:00:00|        3|14776963|       null| train|     False|   False|      False|               False|      false|      null|  Pichincha|         D|        3663|GROCERY I| 1092|         0|        0.0|(32,[0],[1.0])|      0.0| (21,[0],[1.0])|         5.0| (16,[5],[1.0])|      0.0|(6,[0],[1.0])|\n",
      "|  454593|2013-12-04 00:00:00|       49|14977052|       null| train|     False|   False|      False|               False|      false|     96.97|  Pichincha|         A|        2582|GROCERY I| 1092|         0|        0.0|(32,[0],[1.0])|      0.0| (21,[0],[1.0])|         9.0| (16,[9],[1.0])|      0.0|(6,[0],[1.0])|\n",
      "|  454593|2013-12-16 00:00:00|       47|15586785|       null| train|     False|   False|      False|               False|      false|     97.18|  Pichincha|         A|        4669|GROCERY I| 1092|         0|        0.0|(32,[0],[1.0])|      0.0| (21,[0],[1.0])|         1.0| (16,[1],[1.0])|      0.0|(6,[0],[1.0])|\n",
      "|  454593|2013-12-20 00:00:00|       23|15768018|       null| train|     False|   False|      False|               False|      false|     99.11| Tungurahua|         D|        1453|GROCERY I| 1092|         0|        0.0|(32,[0],[1.0])|      4.0| (21,[4],[1.0])|        10.0|(16,[10],[1.0])|      0.0|(6,[0],[1.0])|\n",
      "|  454593|2013-12-26 00:00:00|        7|16020613|       null| train|Additional|National|    Ecuador|           Navidad+1|      false|     99.18|  Pichincha|         D|        1980|GROCERY I| 1092|         0|        0.0|(32,[0],[1.0])|      0.0| (21,[0],[1.0])|         5.0| (16,[5],[1.0])|      3.0|(6,[3],[1.0])|\n",
      "|  454593|2013-12-30 00:00:00|       50|16268912|       null| train|     False|   False|      False|               False|      false|      98.9| Tungurahua|         A|        3876|GROCERY I| 1092|         0|        0.0|(32,[0],[1.0])|      4.0| (21,[4],[1.0])|         1.0| (16,[1],[1.0])|      0.0|(6,[0],[1.0])|\n",
      "|  454593|2014-01-25 00:00:00|        7|17819211|       null| train|     False|   False|      False|               False|      false|      null|  Pichincha|         D|        1830|GROCERY I| 1092|         0|        0.0|(32,[0],[1.0])|      0.0| (21,[0],[1.0])|         5.0| (16,[5],[1.0])|      0.0|(6,[0],[1.0])|\n",
      "|  454593|2014-02-14 00:00:00|       25|18936178|       null| train|     False|   False|      False|               False|      false|    100.31|Santa Elena|         D|        1279|GROCERY I| 1092|         0|        0.0|(32,[0],[1.0])|     13.0|(21,[13],[1.0])|         8.0| (16,[8],[1.0])|      0.0|(6,[0],[1.0])|\n",
      "|  454593|2014-02-16 00:00:00|        2|19016982|       null| train|     False|   False|      False|               False|      false|      null|  Pichincha|         D|        2024|GROCERY I| 1092|         0|        0.0|(32,[0],[1.0])|      0.0| (21,[0],[1.0])|         4.0| (16,[4],[1.0])|      0.0|(6,[0],[1.0])|\n",
      "|  454593|2014-02-21 00:00:00|       27|19284757|       null| train|     False|   False|      False|               False|      false|    102.53|     Guayas|         D|        1207|GROCERY I| 1092|         0|        0.0|(32,[0],[1.0])|      8.0| (21,[8],[1.0])|         8.0| (16,[8],[1.0])|      0.0|(6,[0],[1.0])|\n",
      "|  454593|2014-03-13 00:00:00|       44|20480222|       null| train|     False|   False|      False|               False|      false|     98.57|  Pichincha|         A|        3660|GROCERY I| 1092|         0|        0.0|(32,[0],[1.0])|      0.0| (21,[0],[1.0])|        12.0|(16,[12],[1.0])|      0.0|(6,[0],[1.0])|\n",
      "+--------+-------------------+---------+--------+-----------+------+----------+--------+-----------+--------------------+-----------+----------+-----------+----------+------------+---------+-----+----------+-----------+--------------+---------+---------------+------------+---------------+---------+-------------+\n",
      "only showing top 20 rows\n",
      "\n"
     ]
    }
   ],
   "source": [
    "stringIndexer = StringIndexer(inputCol=\"type\", outputCol=\"typeIndex\")\n",
    "model = stringIndexer.fit(train_holiday_oil_store_transaction_item_test_003)\n",
    "indexed = model.transform(train_holiday_oil_store_transaction_item_test_003)\n",
    "\n",
    "encoder = OneHotEncoder(inputCol=\"typeIndex\", outputCol=\"typeIndexVec\")\n",
    "train_holiday_oil_store_transaction_item_test_003 = encoder.transform(indexed)\n",
    "\n",
    "train_holiday_oil_store_transaction_item_test_003.show()"
   ]
  },
  {
   "cell_type": "code",
   "execution_count": null,
   "metadata": {},
   "outputs": [],
   "source": [
    "stringIndexer = StringIndexer(inputCol=\"locale_name\", outputCol=\"locale_nameIndex\")\n",
    "model = stringIndexer.fit(train_holiday_oil_store_transaction_item_test_003)\n",
    "indexed = model.transform(train_holiday_oil_store_transaction_item_test_003)\n",
    "\n",
    "encoder = OneHotEncoder(inputCol=\"locale_nameIndex\", outputCol=\"locale_nameIndexVec\")\n",
    "train_holiday_oil_store_transaction_item_test_003 = encoder.transform(indexed)\n",
    "\n",
    "train_holiday_oil_store_transaction_item_test_003.show()"
   ]
  },
  {
   "cell_type": "markdown",
   "metadata": {},
   "source": [
    "## Combine all dataframes together, then drop original columns"
   ]
  },
  {
   "cell_type": "code",
   "execution_count": 81,
   "metadata": {
    "collapsed": true
   },
   "outputs": [],
   "source": [
    "train_holiday_oil_store_transaction_item_test_003 = train_holiday_oil_store_transaction_item_test_003.drop('type', 'description', 'transferred', 'state', 'locale', 'locale_name', 'family', 'class')"
   ]
  },
  {
   "cell_type": "code",
   "execution_count": 82,
   "metadata": {},
   "outputs": [],
   "source": [
    "#Cast bolean values to int\n",
    "train_holiday_oil_store_transaction_item_test_003 = train_holiday_oil_store_transaction_item_test_003.withColumn(\"onpromotion\", train_holiday_oil_store_transaction_item_test_003[\"onpromotion\"].cast(\"integer\"))"
   ]
  },
  {
   "cell_type": "code",
   "execution_count": 83,
   "metadata": {},
   "outputs": [
    {
     "name": "stdout",
     "output_type": "stream",
     "text": [
      "+--------+-------------------+---------+-------+-----------+------+----------+----------+------------+----------+-----------+--------------+---------+---------------+------------+---------------+---------+-------------+----------------+-------------------+\n",
      "|item_nbr|               date|store_nbr|     id|onpromotion|source|dcoilwtico|store_type|transactions|perishable|familyIndex|familyIndexVec|cityIndex|   cityIndexVec|clusterIndex|clusterIndexVec|typeIndex| typeIndexVec|locale_nameIndex|locale_nameIndexVec|\n",
      "+--------+-------------------+---------+-------+-----------+------+----------+----------+------------+----------+-----------+--------------+---------+---------------+------------+---------------+---------+-------------+----------------+-------------------+\n",
      "|  454593|2013-04-12 00:00:00|       25|4186270|       null| train|     91.23|         D|        1099|         0|        0.0|(32,[0],[1.0])|     13.0|(21,[13],[1.0])|         8.0| (16,[8],[1.0])|      0.0|(5,[0],[1.0])|            15.0|    (23,[15],[1.0])|\n",
      "+--------+-------------------+---------+-------+-----------+------+----------+----------+------------+----------+-----------+--------------+---------+---------------+------------+---------------+---------+-------------+----------------+-------------------+\n",
      "only showing top 1 row\n",
      "\n"
     ]
    }
   ],
   "source": [
    "# stringIndexer = StringIndexer(inputCol=\"onpromotion\", outputCol=\"onpromotionIndex\")\n",
    "# model = stringIndexer.fit(train_holiday_oil_store_transaction_item_test_003)\n",
    "# indexed = model.transform(train_holiday_oil_store_transaction_item_test_003)\n",
    "\n",
    "# encoder = OneHotEncoder(inputCol=\"onpromotionIndex\", outputCol=\"onpromotionIndexVec\")\n",
    "# train_holiday_oil_store_transaction_item_test_004 = encoder.transform(indexed)\n",
    "\n",
    "# train_holiday_oil_store_transaction_item_test_004 = train_holiday_oil_store_transaction_item_test_004.drop('onpromotion')\n",
    "# train_holiday_oil_store_transaction_item_test_004.show()\n",
    "train_holiday_oil_store_transaction_item_test_003.show(1)"
   ]
  },
  {
   "cell_type": "code",
   "execution_count": 84,
   "metadata": {},
   "outputs": [],
   "source": [
    "#fillna for onpromation:\n",
    "train_holiday_oil_store_transaction_item_test_003 = train_holiday_oil_store_transaction_item_test_003.fillna(0, subset=['onpromotion'])"
   ]
  },
  {
   "cell_type": "markdown",
   "metadata": {},
   "source": [
    "## Deal with store_type"
   ]
  },
  {
   "cell_type": "code",
   "execution_count": 85,
   "metadata": {},
   "outputs": [],
   "source": [
    "stringIndexer = StringIndexer(inputCol=\"store_type\", outputCol=\"store_type_Index\")\n",
    "model = stringIndexer.fit(train_holiday_oil_store_transaction_item_test_003)\n",
    "indexed = model.transform(train_holiday_oil_store_transaction_item_test_003)\n",
    "\n",
    "encoder = OneHotEncoder(inputCol=\"store_type_Index\", outputCol=\"store_type_Index_Vec\")\n",
    "train_holiday_oil_store_transaction_item_test_003 = encoder.transform(indexed)"
   ]
  },
  {
   "cell_type": "code",
   "execution_count": 86,
   "metadata": {},
   "outputs": [
    {
     "name": "stdout",
     "output_type": "stream",
     "text": [
      "+--------+-------------------+---------+--------+-----------+------+----------+------------+----------+-----------+--------------+---------+---------------+------------+---------------+---------+-------------+----------------+-------------------+----------------+--------------------+\n",
      "|item_nbr|               date|store_nbr|      id|onpromotion|source|dcoilwtico|transactions|perishable|familyIndex|familyIndexVec|cityIndex|   cityIndexVec|clusterIndex|clusterIndexVec|typeIndex| typeIndexVec|locale_nameIndex|locale_nameIndexVec|store_type_Index|store_type_Index_Vec|\n",
      "+--------+-------------------+---------+--------+-----------+------+----------+------------+----------+-----------+--------------+---------+---------------+------------+---------------+---------+-------------+----------------+-------------------+----------------+--------------------+\n",
      "|  454593|2013-04-12 00:00:00|       25| 4186270|          0| train|     91.23|        1099|         0|        0.0|(32,[0],[1.0])|     13.0|(21,[13],[1.0])|         8.0| (16,[8],[1.0])|      0.0|(5,[0],[1.0])|            15.0|    (23,[15],[1.0])|             0.0|       (4,[0],[1.0])|\n",
      "|  454593|2013-04-21 00:00:00|        4| 4556946|          0| train|      null|        1726|         0|        0.0|(32,[0],[1.0])|      0.0| (21,[0],[1.0])|        10.0|(16,[10],[1.0])|      0.0|(5,[0],[1.0])|             3.0|     (23,[3],[1.0])|             0.0|       (4,[0],[1.0])|\n",
      "|  454593|2013-11-02 00:00:00|       49|13400928|          0| train|      null|        2752|         0|        0.0|(32,[0],[1.0])|      0.0| (21,[0],[1.0])|         9.0| (16,[9],[1.0])|      0.0|(5,[0],[1.0])|             0.0|     (23,[0],[1.0])|             1.0|       (4,[1],[1.0])|\n",
      "|  454593|2013-11-12 00:00:00|       51|13891979|          0| train|     93.12|        1481|         0|        0.0|(32,[0],[1.0])|      1.0| (21,[1],[1.0])|        13.0|(16,[13],[1.0])|      0.0|(5,[0],[1.0])|             2.0|     (23,[2],[1.0])|             1.0|       (4,[1],[1.0])|\n",
      "|  454593|2013-12-26 00:00:00|        7|16020613|          0| train|     99.18|        1980|         0|        0.0|(32,[0],[1.0])|      0.0| (21,[0],[1.0])|         5.0| (16,[5],[1.0])|      2.0|(5,[2],[1.0])|             0.0|     (23,[0],[1.0])|             0.0|       (4,[0],[1.0])|\n",
      "|  454593|2014-11-03 00:00:00|       38|34438501|          0| train|     78.77|        2297|         0|        0.0|(32,[0],[1.0])|      7.0| (21,[7],[1.0])|         7.0| (16,[7],[1.0])|      0.0|(5,[0],[1.0])|             0.0|     (23,[0],[1.0])|             0.0|       (4,[0],[1.0])|\n",
      "|  454593|2015-04-14 00:00:00|        2|44767300|          0| train|      53.3|        1693|         0|        0.0|(32,[0],[1.0])|      0.0| (21,[0],[1.0])|         4.0| (16,[4],[1.0])|      0.0|(5,[0],[1.0])|            17.0|    (23,[17],[1.0])|             0.0|       (4,[0],[1.0])|\n",
      "|  454593|2016-03-02 00:00:00|       51|72208504|          0| train|     34.57|        1706|         0|        0.0|(32,[0],[1.0])|      1.0| (21,[1],[1.0])|        13.0|(16,[13],[1.0])|      0.0|(5,[0],[1.0])|            14.0|    (23,[14],[1.0])|             1.0|       (4,[1],[1.0])|\n",
      "|  454593|2016-08-05 00:00:00|        8|87084674|          0| train|     41.83|        2863|         0|        0.0|(32,[0],[1.0])|      0.0| (21,[0],[1.0])|         5.0| (16,[5],[1.0])|      0.0|(5,[0],[1.0])|            10.0|    (23,[10],[1.0])|             0.0|       (4,[0],[1.0])|\n",
      "|  454593|2016-08-24 00:00:00|       51|88992237|          0| train|     46.29|        1637|         0|        0.0|(32,[0],[1.0])|      1.0| (21,[1],[1.0])|        13.0|(16,[13],[1.0])|      0.0|(5,[0],[1.0])|             2.0|     (23,[2],[1.0])|             1.0|       (4,[1],[1.0])|\n",
      "|  454593|2013-05-12 00:00:00|        7| 5469487|          0| train|      null|        1563|         0|        0.0|(32,[0],[1.0])|      0.0| (21,[0],[1.0])|         5.0| (16,[5],[1.0])|      0.0|(5,[0],[1.0])|            16.0|    (23,[16],[1.0])|             0.0|       (4,[0],[1.0])|\n",
      "|  454593|2013-05-12 00:00:00|        7| 5469487|          0| train|      null|        1563|         0|        0.0|(32,[0],[1.0])|      0.0| (21,[0],[1.0])|         5.0| (16,[5],[1.0])|      1.0|(5,[1],[1.0])|             0.0|     (23,[0],[1.0])|             0.0|       (4,[0],[1.0])|\n",
      "|  454593|2013-11-06 00:00:00|        4|13554834|          0| train|     94.74|        1477|         0|        0.0|(32,[0],[1.0])|      0.0| (21,[0],[1.0])|        10.0|(16,[10],[1.0])|      0.0|(5,[0],[1.0])|            21.0|    (23,[21],[1.0])|             0.0|       (4,[0],[1.0])|\n",
      "|  454593|2013-12-05 00:00:00|        3|14984225|          0| train|     97.14|        3123|         0|        0.0|(32,[0],[1.0])|      0.0| (21,[0],[1.0])|         5.0| (16,[5],[1.0])|      2.0|(5,[2],[1.0])|             6.0|     (23,[6],[1.0])|             0.0|       (4,[0],[1.0])|\n",
      "|  454593|2014-06-23 00:00:00|        3|25819332|          0| train|    106.83|        2907|         0|        0.0|(32,[0],[1.0])|      0.0| (21,[0],[1.0])|         5.0| (16,[5],[1.0])|      0.0|(5,[0],[1.0])|             5.0|     (23,[5],[1.0])|             0.0|       (4,[0],[1.0])|\n",
      "|  454593|2014-07-24 00:00:00|       44|27825178|          0| train|    102.76|        3756|         0|        0.0|(32,[0],[1.0])|      0.0| (21,[0],[1.0])|        12.0|(16,[12],[1.0])|      2.0|(5,[2],[1.0])|             1.0|     (23,[1],[1.0])|             1.0|       (4,[1],[1.0])|\n",
      "|  454593|2014-12-31 00:00:00|       27|38554615|          0| train|     53.45|        2340|         0|        0.0|(32,[0],[1.0])|      8.0| (21,[8],[1.0])|         8.0| (16,[8],[1.0])|      2.0|(5,[2],[1.0])|             0.0|     (23,[0],[1.0])|             0.0|       (4,[0],[1.0])|\n",
      "|  454593|2016-03-02 00:00:00|       25|72159328|          0| train|     34.57|         906|         0|        0.0|(32,[0],[1.0])|     13.0|(21,[13],[1.0])|         8.0| (16,[8],[1.0])|      0.0|(5,[0],[1.0])|            14.0|    (23,[14],[1.0])|             0.0|       (4,[0],[1.0])|\n",
      "|  454593|2016-04-01 00:00:00|       23|75003460|          0| train|     35.36|        1049|         0|        0.0|(32,[0],[1.0])|      4.0| (21,[4],[1.0])|        10.0|(16,[10],[1.0])|      0.0|(5,[0],[1.0])|            13.0|    (23,[13],[1.0])|             0.0|       (4,[0],[1.0])|\n",
      "|  454593|2016-05-08 00:00:00|       28|78588835|          0| train|      null|        1630|         0|        0.0|(32,[0],[1.0])|      1.0| (21,[1],[1.0])|         2.0| (16,[2],[1.0])|      1.0|(5,[1],[1.0])|             0.0|     (23,[0],[1.0])|             4.0|           (4,[],[])|\n",
      "+--------+-------------------+---------+--------+-----------+------+----------+------------+----------+-----------+--------------+---------+---------------+------------+---------------+---------+-------------+----------------+-------------------+----------------+--------------------+\n",
      "only showing top 20 rows\n",
      "\n"
     ]
    }
   ],
   "source": [
    "train_holiday_oil_store_transaction_item_test_003 = train_holiday_oil_store_transaction_item_test_003.drop('store_type')\n",
    "train_holiday_oil_store_transaction_item_test_003.show()"
   ]
  },
  {
   "cell_type": "code",
   "execution_count": 87,
   "metadata": {},
   "outputs": [
    {
     "data": {
      "text/plain": [
       "['item_nbr',\n",
       " 'date',\n",
       " 'store_nbr',\n",
       " 'id',\n",
       " 'onpromotion',\n",
       " 'source',\n",
       " 'dcoilwtico',\n",
       " 'transactions',\n",
       " 'perishable',\n",
       " 'familyIndex',\n",
       " 'familyIndexVec',\n",
       " 'cityIndex',\n",
       " 'cityIndexVec',\n",
       " 'clusterIndex',\n",
       " 'clusterIndexVec',\n",
       " 'typeIndex',\n",
       " 'typeIndexVec',\n",
       " 'locale_nameIndex',\n",
       " 'locale_nameIndexVec',\n",
       " 'store_type_Index',\n",
       " 'store_type_Index_Vec']"
      ]
     },
     "execution_count": 87,
     "metadata": {},
     "output_type": "execute_result"
    }
   ],
   "source": [
    "train_holiday_oil_store_transaction_item_test_003.columns"
   ]
  },
  {
   "cell_type": "code",
   "execution_count": 88,
   "metadata": {},
   "outputs": [],
   "source": [
    "#train_holiday_oil_store_transaction_item_test_004.where(train_holiday_oil_store_transaction_item_test_004['transactions'].isNull()).count()"
   ]
  },
  {
   "cell_type": "code",
   "execution_count": 89,
   "metadata": {},
   "outputs": [
    {
     "data": {
      "text/plain": [
       "210654"
      ]
     },
     "execution_count": 89,
     "metadata": {},
     "output_type": "execute_result"
    }
   ],
   "source": [
    "train_holiday_oil_store_transaction_item_test_003.where(train_holiday_oil_store_transaction_item_test_003['source'] == 'test').count()"
   ]
  },
  {
   "cell_type": "markdown",
   "metadata": {
    "collapsed": true
   },
   "source": [
    "## Drop rows where transaction is NaN (drop NaN oil temporary)"
   ]
  },
  {
   "cell_type": "code",
   "execution_count": 54,
   "metadata": {},
   "outputs": [],
   "source": [
    "#without oil column\n",
    "train_holiday_oil_store_transaction_item_test_004 = train_holiday_oil_store_transaction_item_test_003.drop('dcoilwtico')"
   ]
  },
  {
   "cell_type": "markdown",
   "metadata": {
    "collapsed": true
   },
   "source": [
    "## Separate Train set and Test set"
   ]
  },
  {
   "cell_type": "code",
   "execution_count": 61,
   "metadata": {
    "collapsed": true
   },
   "outputs": [],
   "source": [
    "train_001 = train_holiday_oil_store_transaction_item_test_004.filter(train_holiday_oil_store_transaction_item_test_003.source == 'train')\n",
    "test_001 = train_holiday_oil_store_transaction_item_test_004.filter(train_holiday_oil_store_transaction_item_test_003.source == 'test')"
   ]
  },
  {
   "cell_type": "code",
   "execution_count": 62,
   "metadata": {
    "collapsed": true
   },
   "outputs": [],
   "source": [
    "train_target = train.select('id', 'unit_sales')"
   ]
  },
  {
   "cell_type": "code",
   "execution_count": 63,
   "metadata": {
    "collapsed": true
   },
   "outputs": [],
   "source": [
    "train_002 = train_001.join(train_target, 'id', 'left_outer')"
   ]
  },
  {
   "cell_type": "code",
   "execution_count": 64,
   "metadata": {
    "collapsed": true
   },
   "outputs": [],
   "source": [
    "train_003 = train_002.drop('transactions', 'dcoilwtico')"
   ]
  },
  {
   "cell_type": "code",
   "execution_count": 65,
   "metadata": {},
   "outputs": [
    {
     "data": {
      "text/plain": [
       "3370464"
      ]
     },
     "execution_count": 65,
     "metadata": {},
     "output_type": "execute_result"
    }
   ],
   "source": [
    "test.count()"
   ]
  },
  {
   "cell_type": "code",
   "execution_count": 66,
   "metadata": {},
   "outputs": [
    {
     "data": {
      "text/plain": [
       "210654"
      ]
     },
     "execution_count": 66,
     "metadata": {},
     "output_type": "execute_result"
    }
   ],
   "source": [
    "test_001.count()"
   ]
  },
  {
   "cell_type": "code",
   "execution_count": null,
   "metadata": {
    "scrolled": false
   },
   "outputs": [],
   "source": [
    "test_001.show()"
   ]
  },
  {
   "cell_type": "code",
   "execution_count": null,
   "metadata": {},
   "outputs": [],
   "source": [
    "train_holiday_oil_store_transaction_item_test.unpersist()\n",
    "train_holiday_oil_store_transaction_item_test_002.unpersist()\n",
    "#train_holiday_oil_store_transaction_item_test_003.unpersist()"
   ]
  },
  {
   "cell_type": "code",
   "execution_count": null,
   "metadata": {
    "collapsed": true
   },
   "outputs": [],
   "source": [
    "test_002 = test_001.drop('transactions', 'dcoilwtico')"
   ]
  },
  {
   "cell_type": "code",
   "execution_count": null,
   "metadata": {},
   "outputs": [],
   "source": [
    "print(train_003.columns)"
   ]
  },
  {
   "cell_type": "code",
   "execution_count": null,
   "metadata": {},
   "outputs": [],
   "source": [
    "print(test_002.columns)"
   ]
  },
  {
   "cell_type": "markdown",
   "metadata": {},
   "source": [
    "# Begin training and predicting"
   ]
  },
  {
   "cell_type": "code",
   "execution_count": null,
   "metadata": {},
   "outputs": [],
   "source": [
    "from pyspark.mllib.regression import LabeledPoint"
   ]
  },
  {
   "cell_type": "code",
   "execution_count": null,
   "metadata": {},
   "outputs": [],
   "source": [
    "train_004.dtypes"
   ]
  },
  {
   "cell_type": "code",
   "execution_count": 87,
   "metadata": {
    "collapsed": true
   },
   "outputs": [],
   "source": [
    "#check dtypes before preceding!!\n",
    "train_004 = train_004.withColumn(\"unit_sales\", train_004[\"unit_sales\"].cast(\"float\"))\n",
    "train_004 = train_004.withColumn(\"store_nbr\", train_004[\"store_nbr\"].cast(\"float\"))\n",
    "train_004 = train_004.withColumn(\"perishable\", train_004[\"perishable\"].cast(\"float\"))"
   ]
  },
  {
   "cell_type": "code",
   "execution_count": 88,
   "metadata": {},
   "outputs": [
    {
     "data": {
      "text/plain": [
       "[('unit_sales', 'float'),\n",
       " ('store_nbr', 'float'),\n",
       " ('perishable', 'float'),\n",
       " ('familyIndex', 'double'),\n",
       " ('familyIndexVec', 'vector'),\n",
       " ('cityIndex', 'double'),\n",
       " ('cityIndexVec', 'vector'),\n",
       " ('clusterIndex', 'double'),\n",
       " ('clusterIndexVec', 'vector'),\n",
       " ('typeIndex', 'double'),\n",
       " ('typeIndexVec', 'vector'),\n",
       " ('locale_nameIndex', 'double'),\n",
       " ('locale_nameIndexVec', 'vector'),\n",
       " ('onpromotionIndex', 'double'),\n",
       " ('onpromotionIndexVec', 'vector'),\n",
       " ('store_type_Index', 'double'),\n",
       " ('store_type_Index_Vec', 'vector')]"
      ]
     },
     "execution_count": 88,
     "metadata": {},
     "output_type": "execute_result"
    }
   ],
   "source": [
    "train_004.dtypes"
   ]
  },
  {
   "cell_type": "code",
   "execution_count": 89,
   "metadata": {},
   "outputs": [
    {
     "ename": "Py4JJavaError",
     "evalue": "An error occurred while calling z:org.apache.spark.api.python.PythonRDD.runJob.\n: org.apache.spark.SparkException: Job 47 cancelled because killed via the Web UI\n\tat org.apache.spark.scheduler.DAGScheduler.org$apache$spark$scheduler$DAGScheduler$$failJobAndIndependentStages(DAGScheduler.scala:1499)\n\tat org.apache.spark.scheduler.DAGScheduler.handleJobCancellation(DAGScheduler.scala:1439)\n\tat org.apache.spark.scheduler.DAGScheduler$$anonfun$handleStageCancellation$1.apply$mcVI$sp(DAGScheduler.scala:1428)\n\tat org.apache.spark.scheduler.DAGScheduler$$anonfun$handleStageCancellation$1.apply(DAGScheduler.scala:1421)\n\tat org.apache.spark.scheduler.DAGScheduler$$anonfun$handleStageCancellation$1.apply(DAGScheduler.scala:1421)\n\tat scala.collection.IndexedSeqOptimized$class.foreach(IndexedSeqOptimized.scala:33)\n\tat scala.collection.mutable.ArrayOps$ofInt.foreach(ArrayOps.scala:234)\n\tat org.apache.spark.scheduler.DAGScheduler.handleStageCancellation(DAGScheduler.scala:1421)\n\tat org.apache.spark.scheduler.DAGSchedulerEventProcessLoop.doOnReceive(DAGScheduler.scala:1683)\n\tat org.apache.spark.scheduler.DAGSchedulerEventProcessLoop.onReceive(DAGScheduler.scala:1669)\n\tat org.apache.spark.scheduler.DAGSchedulerEventProcessLoop.onReceive(DAGScheduler.scala:1658)\n\tat org.apache.spark.util.EventLoop$$anon$1.run(EventLoop.scala:48)\n\tat org.apache.spark.scheduler.DAGScheduler.runJob(DAGScheduler.scala:630)\n\tat org.apache.spark.SparkContext.runJob(SparkContext.scala:2022)\n\tat org.apache.spark.SparkContext.runJob(SparkContext.scala:2043)\n\tat org.apache.spark.SparkContext.runJob(SparkContext.scala:2062)\n\tat org.apache.spark.api.python.PythonRDD$.runJob(PythonRDD.scala:446)\n\tat org.apache.spark.api.python.PythonRDD.runJob(PythonRDD.scala)\n\tat sun.reflect.NativeMethodAccessorImpl.invoke0(Native Method)\n\tat sun.reflect.NativeMethodAccessorImpl.invoke(NativeMethodAccessorImpl.java:62)\n\tat sun.reflect.DelegatingMethodAccessorImpl.invoke(DelegatingMethodAccessorImpl.java:43)\n\tat java.lang.reflect.Method.invoke(Method.java:498)\n\tat py4j.reflection.MethodInvoker.invoke(MethodInvoker.java:244)\n\tat py4j.reflection.ReflectionEngine.invoke(ReflectionEngine.java:357)\n\tat py4j.Gateway.invoke(Gateway.java:280)\n\tat py4j.commands.AbstractCommand.invokeMethod(AbstractCommand.java:132)\n\tat py4j.commands.CallCommand.execute(CallCommand.java:79)\n\tat py4j.GatewayConnection.run(GatewayConnection.java:214)\n\tat java.lang.Thread.run(Thread.java:748)\n",
     "output_type": "error",
     "traceback": [
      "\u001b[0;31m---------------------------------------------------------------------------\u001b[0m",
      "\u001b[0;31mPy4JJavaError\u001b[0m                             Traceback (most recent call last)",
      "\u001b[0;32m<ipython-input-89-6b796f6a3394>\u001b[0m in \u001b[0;36m<module>\u001b[0;34m()\u001b[0m\n\u001b[1;32m      1\u001b[0m \u001b[0mtrain_004\u001b[0m \u001b[0;34m=\u001b[0m \u001b[0mtrain_003\u001b[0m\u001b[0;34m.\u001b[0m\u001b[0mselect\u001b[0m\u001b[0;34m(\u001b[0m\u001b[0;34m'unit_sales'\u001b[0m\u001b[0;34m,\u001b[0m \u001b[0;34m'store_nbr'\u001b[0m\u001b[0;34m,\u001b[0m \u001b[0;34m'perishable'\u001b[0m\u001b[0;34m,\u001b[0m \u001b[0;34m'familyIndex'\u001b[0m\u001b[0;34m,\u001b[0m \u001b[0;34m'familyIndexVec'\u001b[0m\u001b[0;34m,\u001b[0m                              \u001b[0;34m'cityIndex'\u001b[0m\u001b[0;34m,\u001b[0m \u001b[0;34m'cityIndexVec'\u001b[0m\u001b[0;34m,\u001b[0m \u001b[0;34m'clusterIndex'\u001b[0m\u001b[0;34m,\u001b[0m \u001b[0;34m'clusterIndexVec'\u001b[0m\u001b[0;34m,\u001b[0m \u001b[0;34m'typeIndex'\u001b[0m\u001b[0;34m,\u001b[0m                              \u001b[0;34m'typeIndexVec'\u001b[0m\u001b[0;34m,\u001b[0m \u001b[0;34m'locale_nameIndex'\u001b[0m\u001b[0;34m,\u001b[0m \u001b[0;34m'locale_nameIndexVec'\u001b[0m\u001b[0;34m,\u001b[0m \u001b[0;34m'onpromotionIndex'\u001b[0m\u001b[0;34m,\u001b[0m                              \u001b[0;34m'onpromotionIndexVec'\u001b[0m\u001b[0;34m,\u001b[0m \u001b[0;34m'store_type_Index'\u001b[0m\u001b[0;34m,\u001b[0m \u001b[0;34m'store_type_Index_Vec'\u001b[0m\u001b[0;34m)\u001b[0m\u001b[0;34m\u001b[0m\u001b[0m\n\u001b[1;32m      2\u001b[0m \u001b[0mtemp\u001b[0m \u001b[0;34m=\u001b[0m \u001b[0mtrain_004\u001b[0m\u001b[0;34m.\u001b[0m\u001b[0mrdd\u001b[0m\u001b[0;34m.\u001b[0m\u001b[0mmap\u001b[0m\u001b[0;34m(\u001b[0m\u001b[0;32mlambda\u001b[0m \u001b[0mline\u001b[0m\u001b[0;34m:\u001b[0m\u001b[0mLabeledPoint\u001b[0m\u001b[0;34m(\u001b[0m\u001b[0mline\u001b[0m\u001b[0;34m[\u001b[0m\u001b[0;36m0\u001b[0m\u001b[0;34m]\u001b[0m\u001b[0;34m,\u001b[0m\u001b[0;34m[\u001b[0m\u001b[0mline\u001b[0m\u001b[0;34m[\u001b[0m\u001b[0;36m1\u001b[0m\u001b[0;34m:\u001b[0m\u001b[0;34m]\u001b[0m\u001b[0;34m]\u001b[0m\u001b[0;34m)\u001b[0m\u001b[0;34m)\u001b[0m\u001b[0;34m\u001b[0m\u001b[0m\n\u001b[0;32m----> 3\u001b[0;31m \u001b[0mtemp\u001b[0m\u001b[0;34m.\u001b[0m\u001b[0mtake\u001b[0m\u001b[0;34m(\u001b[0m\u001b[0;36m5\u001b[0m\u001b[0;34m)\u001b[0m\u001b[0;34m\u001b[0m\u001b[0m\n\u001b[0m",
      "\u001b[0;32m/usr/local/opt/apache-spark/libexec/python/pyspark/rdd.py\u001b[0m in \u001b[0;36mtake\u001b[0;34m(self, num)\u001b[0m\n\u001b[1;32m   1341\u001b[0m \u001b[0;34m\u001b[0m\u001b[0m\n\u001b[1;32m   1342\u001b[0m             \u001b[0mp\u001b[0m \u001b[0;34m=\u001b[0m \u001b[0mrange\u001b[0m\u001b[0;34m(\u001b[0m\u001b[0mpartsScanned\u001b[0m\u001b[0;34m,\u001b[0m \u001b[0mmin\u001b[0m\u001b[0;34m(\u001b[0m\u001b[0mpartsScanned\u001b[0m \u001b[0;34m+\u001b[0m \u001b[0mnumPartsToTry\u001b[0m\u001b[0;34m,\u001b[0m \u001b[0mtotalParts\u001b[0m\u001b[0;34m)\u001b[0m\u001b[0;34m)\u001b[0m\u001b[0;34m\u001b[0m\u001b[0m\n\u001b[0;32m-> 1343\u001b[0;31m             \u001b[0mres\u001b[0m \u001b[0;34m=\u001b[0m \u001b[0mself\u001b[0m\u001b[0;34m.\u001b[0m\u001b[0mcontext\u001b[0m\u001b[0;34m.\u001b[0m\u001b[0mrunJob\u001b[0m\u001b[0;34m(\u001b[0m\u001b[0mself\u001b[0m\u001b[0;34m,\u001b[0m \u001b[0mtakeUpToNumLeft\u001b[0m\u001b[0;34m,\u001b[0m \u001b[0mp\u001b[0m\u001b[0;34m)\u001b[0m\u001b[0;34m\u001b[0m\u001b[0m\n\u001b[0m\u001b[1;32m   1344\u001b[0m \u001b[0;34m\u001b[0m\u001b[0m\n\u001b[1;32m   1345\u001b[0m             \u001b[0mitems\u001b[0m \u001b[0;34m+=\u001b[0m \u001b[0mres\u001b[0m\u001b[0;34m\u001b[0m\u001b[0m\n",
      "\u001b[0;32m/usr/local/opt/apache-spark/libexec/python/pyspark/context.py\u001b[0m in \u001b[0;36mrunJob\u001b[0;34m(self, rdd, partitionFunc, partitions, allowLocal)\u001b[0m\n\u001b[1;32m    990\u001b[0m         \u001b[0;31m# SparkContext#runJob.\u001b[0m\u001b[0;34m\u001b[0m\u001b[0;34m\u001b[0m\u001b[0m\n\u001b[1;32m    991\u001b[0m         \u001b[0mmappedRDD\u001b[0m \u001b[0;34m=\u001b[0m \u001b[0mrdd\u001b[0m\u001b[0;34m.\u001b[0m\u001b[0mmapPartitions\u001b[0m\u001b[0;34m(\u001b[0m\u001b[0mpartitionFunc\u001b[0m\u001b[0;34m)\u001b[0m\u001b[0;34m\u001b[0m\u001b[0m\n\u001b[0;32m--> 992\u001b[0;31m         \u001b[0mport\u001b[0m \u001b[0;34m=\u001b[0m \u001b[0mself\u001b[0m\u001b[0;34m.\u001b[0m\u001b[0m_jvm\u001b[0m\u001b[0;34m.\u001b[0m\u001b[0mPythonRDD\u001b[0m\u001b[0;34m.\u001b[0m\u001b[0mrunJob\u001b[0m\u001b[0;34m(\u001b[0m\u001b[0mself\u001b[0m\u001b[0;34m.\u001b[0m\u001b[0m_jsc\u001b[0m\u001b[0;34m.\u001b[0m\u001b[0msc\u001b[0m\u001b[0;34m(\u001b[0m\u001b[0;34m)\u001b[0m\u001b[0;34m,\u001b[0m \u001b[0mmappedRDD\u001b[0m\u001b[0;34m.\u001b[0m\u001b[0m_jrdd\u001b[0m\u001b[0;34m,\u001b[0m \u001b[0mpartitions\u001b[0m\u001b[0;34m)\u001b[0m\u001b[0;34m\u001b[0m\u001b[0m\n\u001b[0m\u001b[1;32m    993\u001b[0m         \u001b[0;32mreturn\u001b[0m \u001b[0mlist\u001b[0m\u001b[0;34m(\u001b[0m\u001b[0m_load_from_socket\u001b[0m\u001b[0;34m(\u001b[0m\u001b[0mport\u001b[0m\u001b[0;34m,\u001b[0m \u001b[0mmappedRDD\u001b[0m\u001b[0;34m.\u001b[0m\u001b[0m_jrdd_deserializer\u001b[0m\u001b[0;34m)\u001b[0m\u001b[0;34m)\u001b[0m\u001b[0;34m\u001b[0m\u001b[0m\n\u001b[1;32m    994\u001b[0m \u001b[0;34m\u001b[0m\u001b[0m\n",
      "\u001b[0;32m/usr/local/opt/apache-spark/libexec/python/lib/py4j-0.10.4-src.zip/py4j/java_gateway.py\u001b[0m in \u001b[0;36m__call__\u001b[0;34m(self, *args)\u001b[0m\n\u001b[1;32m   1131\u001b[0m         \u001b[0manswer\u001b[0m \u001b[0;34m=\u001b[0m \u001b[0mself\u001b[0m\u001b[0;34m.\u001b[0m\u001b[0mgateway_client\u001b[0m\u001b[0;34m.\u001b[0m\u001b[0msend_command\u001b[0m\u001b[0;34m(\u001b[0m\u001b[0mcommand\u001b[0m\u001b[0;34m)\u001b[0m\u001b[0;34m\u001b[0m\u001b[0m\n\u001b[1;32m   1132\u001b[0m         return_value = get_return_value(\n\u001b[0;32m-> 1133\u001b[0;31m             answer, self.gateway_client, self.target_id, self.name)\n\u001b[0m\u001b[1;32m   1134\u001b[0m \u001b[0;34m\u001b[0m\u001b[0m\n\u001b[1;32m   1135\u001b[0m         \u001b[0;32mfor\u001b[0m \u001b[0mtemp_arg\u001b[0m \u001b[0;32min\u001b[0m \u001b[0mtemp_args\u001b[0m\u001b[0;34m:\u001b[0m\u001b[0;34m\u001b[0m\u001b[0m\n",
      "\u001b[0;32m/usr/local/opt/apache-spark/libexec/python/pyspark/sql/utils.py\u001b[0m in \u001b[0;36mdeco\u001b[0;34m(*a, **kw)\u001b[0m\n\u001b[1;32m     61\u001b[0m     \u001b[0;32mdef\u001b[0m \u001b[0mdeco\u001b[0m\u001b[0;34m(\u001b[0m\u001b[0;34m*\u001b[0m\u001b[0ma\u001b[0m\u001b[0;34m,\u001b[0m \u001b[0;34m**\u001b[0m\u001b[0mkw\u001b[0m\u001b[0;34m)\u001b[0m\u001b[0;34m:\u001b[0m\u001b[0;34m\u001b[0m\u001b[0m\n\u001b[1;32m     62\u001b[0m         \u001b[0;32mtry\u001b[0m\u001b[0;34m:\u001b[0m\u001b[0;34m\u001b[0m\u001b[0m\n\u001b[0;32m---> 63\u001b[0;31m             \u001b[0;32mreturn\u001b[0m \u001b[0mf\u001b[0m\u001b[0;34m(\u001b[0m\u001b[0;34m*\u001b[0m\u001b[0ma\u001b[0m\u001b[0;34m,\u001b[0m \u001b[0;34m**\u001b[0m\u001b[0mkw\u001b[0m\u001b[0;34m)\u001b[0m\u001b[0;34m\u001b[0m\u001b[0m\n\u001b[0m\u001b[1;32m     64\u001b[0m         \u001b[0;32mexcept\u001b[0m \u001b[0mpy4j\u001b[0m\u001b[0;34m.\u001b[0m\u001b[0mprotocol\u001b[0m\u001b[0;34m.\u001b[0m\u001b[0mPy4JJavaError\u001b[0m \u001b[0;32mas\u001b[0m \u001b[0me\u001b[0m\u001b[0;34m:\u001b[0m\u001b[0;34m\u001b[0m\u001b[0m\n\u001b[1;32m     65\u001b[0m             \u001b[0ms\u001b[0m \u001b[0;34m=\u001b[0m \u001b[0me\u001b[0m\u001b[0;34m.\u001b[0m\u001b[0mjava_exception\u001b[0m\u001b[0;34m.\u001b[0m\u001b[0mtoString\u001b[0m\u001b[0;34m(\u001b[0m\u001b[0;34m)\u001b[0m\u001b[0;34m\u001b[0m\u001b[0m\n",
      "\u001b[0;32m/usr/local/opt/apache-spark/libexec/python/lib/py4j-0.10.4-src.zip/py4j/protocol.py\u001b[0m in \u001b[0;36mget_return_value\u001b[0;34m(answer, gateway_client, target_id, name)\u001b[0m\n\u001b[1;32m    317\u001b[0m                 raise Py4JJavaError(\n\u001b[1;32m    318\u001b[0m                     \u001b[0;34m\"An error occurred while calling {0}{1}{2}.\\n\"\u001b[0m\u001b[0;34m.\u001b[0m\u001b[0;34m\u001b[0m\u001b[0m\n\u001b[0;32m--> 319\u001b[0;31m                     format(target_id, \".\", name), value)\n\u001b[0m\u001b[1;32m    320\u001b[0m             \u001b[0;32melse\u001b[0m\u001b[0;34m:\u001b[0m\u001b[0;34m\u001b[0m\u001b[0m\n\u001b[1;32m    321\u001b[0m                 raise Py4JError(\n",
      "\u001b[0;31mPy4JJavaError\u001b[0m: An error occurred while calling z:org.apache.spark.api.python.PythonRDD.runJob.\n: org.apache.spark.SparkException: Job 47 cancelled because killed via the Web UI\n\tat org.apache.spark.scheduler.DAGScheduler.org$apache$spark$scheduler$DAGScheduler$$failJobAndIndependentStages(DAGScheduler.scala:1499)\n\tat org.apache.spark.scheduler.DAGScheduler.handleJobCancellation(DAGScheduler.scala:1439)\n\tat org.apache.spark.scheduler.DAGScheduler$$anonfun$handleStageCancellation$1.apply$mcVI$sp(DAGScheduler.scala:1428)\n\tat org.apache.spark.scheduler.DAGScheduler$$anonfun$handleStageCancellation$1.apply(DAGScheduler.scala:1421)\n\tat org.apache.spark.scheduler.DAGScheduler$$anonfun$handleStageCancellation$1.apply(DAGScheduler.scala:1421)\n\tat scala.collection.IndexedSeqOptimized$class.foreach(IndexedSeqOptimized.scala:33)\n\tat scala.collection.mutable.ArrayOps$ofInt.foreach(ArrayOps.scala:234)\n\tat org.apache.spark.scheduler.DAGScheduler.handleStageCancellation(DAGScheduler.scala:1421)\n\tat org.apache.spark.scheduler.DAGSchedulerEventProcessLoop.doOnReceive(DAGScheduler.scala:1683)\n\tat org.apache.spark.scheduler.DAGSchedulerEventProcessLoop.onReceive(DAGScheduler.scala:1669)\n\tat org.apache.spark.scheduler.DAGSchedulerEventProcessLoop.onReceive(DAGScheduler.scala:1658)\n\tat org.apache.spark.util.EventLoop$$anon$1.run(EventLoop.scala:48)\n\tat org.apache.spark.scheduler.DAGScheduler.runJob(DAGScheduler.scala:630)\n\tat org.apache.spark.SparkContext.runJob(SparkContext.scala:2022)\n\tat org.apache.spark.SparkContext.runJob(SparkContext.scala:2043)\n\tat org.apache.spark.SparkContext.runJob(SparkContext.scala:2062)\n\tat org.apache.spark.api.python.PythonRDD$.runJob(PythonRDD.scala:446)\n\tat org.apache.spark.api.python.PythonRDD.runJob(PythonRDD.scala)\n\tat sun.reflect.NativeMethodAccessorImpl.invoke0(Native Method)\n\tat sun.reflect.NativeMethodAccessorImpl.invoke(NativeMethodAccessorImpl.java:62)\n\tat sun.reflect.DelegatingMethodAccessorImpl.invoke(DelegatingMethodAccessorImpl.java:43)\n\tat java.lang.reflect.Method.invoke(Method.java:498)\n\tat py4j.reflection.MethodInvoker.invoke(MethodInvoker.java:244)\n\tat py4j.reflection.ReflectionEngine.invoke(ReflectionEngine.java:357)\n\tat py4j.Gateway.invoke(Gateway.java:280)\n\tat py4j.commands.AbstractCommand.invokeMethod(AbstractCommand.java:132)\n\tat py4j.commands.CallCommand.execute(CallCommand.java:79)\n\tat py4j.GatewayConnection.run(GatewayConnection.java:214)\n\tat java.lang.Thread.run(Thread.java:748)\n"
     ]
    }
   ],
   "source": [
    "train_004 = train_003.select('unit_sales', 'store_nbr', 'perishable', 'familyIndex', 'familyIndexVec', \\\n",
    "                             'cityIndex', 'cityIndexVec', 'clusterIndex', 'clusterIndexVec', 'typeIndex', \\\n",
    "                             'typeIndexVec', 'locale_nameIndex', 'locale_nameIndexVec', 'onpromotionIndex', \\\n",
    "                             'onpromotionIndexVec', 'store_type_Index', 'store_type_Index_Vec')\n",
    "temp = train_004.rdd.map(lambda line:LabeledPoint(line[0],[line[1:]]))\n",
    "temp.take(5)"
   ]
  },
  {
   "cell_type": "code",
   "execution_count": null,
   "metadata": {
    "collapsed": true
   },
   "outputs": [],
   "source": []
  }
 ],
 "metadata": {
  "kernelspec": {
   "display_name": "Python 3",
   "language": "python",
   "name": "python3"
  },
  "language_info": {
   "codemirror_mode": {
    "name": "ipython",
    "version": 3
   },
   "file_extension": ".py",
   "mimetype": "text/x-python",
   "name": "python",
   "nbconvert_exporter": "python",
   "pygments_lexer": "ipython3",
   "version": "3.6.1"
  }
 },
 "nbformat": 4,
 "nbformat_minor": 2
}
